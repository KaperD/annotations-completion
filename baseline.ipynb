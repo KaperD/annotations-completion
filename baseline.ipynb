{
 "cells": [
  {
   "cell_type": "code",
   "execution_count": 38,
   "outputs": [],
   "source": [
    "import os\n",
    "import json\n",
    "import random\n",
    "from sklearn.model_selection import train_test_split\n",
    "from collections import Counter\n",
    "from collections import defaultdict\n",
    "from sklearn.feature_extraction.text import CountVectorizer\n",
    "import numpy as np\n",
    "import re"
   ],
   "metadata": {
    "collapsed": false,
    "pycharm": {
     "name": "#%%\n"
    }
   }
  },
  {
   "cell_type": "code",
   "execution_count": 23,
   "outputs": [],
   "source": [
    "class AnnotationUsage:\n",
    "    def __init__(self, usage_json):\n",
    "        self.annotation_name = usage_json['name']\n",
    "        features_json = usage_json['features']\n",
    "        self.features_list = [\n",
    "            features_json.get('targetName', ''),\n",
    "            features_json.get('className', ''),\n",
    "            features_json.get('className', ''),\n",
    "            features_json.get('returnType', ''),\n",
    "        ]\n",
    "\n",
    "    def __str__(self):\n",
    "        return f'{self.annotation_name}'\n",
    "\n",
    "\n",
    "# \"features\": {\n",
    "#     \"targetName\": \"getExtensions\",\n",
    "#     \"className\": \"ExtensionsSupport\",\n",
    "#     \"otherMethodsNames\": [\n",
    "#         \"ExtensionsSupport\"\n",
    "#     ],\n",
    "#     \"otherMethodsAnnotations\": [],\n",
    "#     \"returnType\": \"PsiType:Collection\\u003cT\\u003e\",\n",
    "#     \"methodModifiers\": [\n",
    "#         \"public\"\n",
    "#     ],\n",
    "#     \"otherAnnotations\": []\n",
    "# },\n",
    "# \"filePath\": \"jps/jps-builders-6/src/org/jetbrains/jps/ExtensionsSupport.java\",\n",
    "# \"textOffset\": 584\n",
    "\n",
    "class UsagesLoader:\n",
    "    def __init__(self, processing_result_path):\n",
    "        self.processing_result_path = processing_result_path\n",
    "\n",
    "    def load(self):\n",
    "        usages_by_target = defaultdict(list)\n",
    "        for root, dirs, files in os.walk(self.processing_result_path):\n",
    "            for file in files:\n",
    "                if not file.endswith('json'):\n",
    "                    continue\n",
    "                with open(os.path.join(root, file), 'r') as read_file:\n",
    "                    data = json.load(read_file)\n",
    "                    target_type = data['keyInfo']['name']\n",
    "                    new_usages = [AnnotationUsage(usage_json) for usage_json in data[\"usages\"]]\n",
    "                    usages_by_target[target_type] = usages_by_target[target_type] + new_usages\n",
    "        return usages_by_target"
   ],
   "metadata": {
    "collapsed": false,
    "pycharm": {
     "name": "#%%\n"
    }
   }
  },
  {
   "cell_type": "code",
   "execution_count": 24,
   "outputs": [],
   "source": [
    "class Baseline:\n",
    "    def __init__(self):\n",
    "        self.ordered_by_quantity = np.array([])\n",
    "\n",
    "    def fit(self, X, y):\n",
    "        self.ordered_by_quantity = np.array([x[0] for x in Counter(y).most_common()])\n",
    "\n",
    "    def predict(self, X):\n",
    "        return np.array([self.ordered_by_quantity for _ in X])\n"
   ],
   "metadata": {
    "collapsed": false,
    "pycharm": {
     "name": "#%%\n"
    }
   }
  },
  {
   "cell_type": "code",
   "execution_count": 25,
   "outputs": [],
   "source": [
    "class Metric:\n",
    "    def __init__(self, predicted_y, expected_y):\n",
    "        self.orders = [(list(predicted_y[i]) + [expected_y[i]]).index(expected_y[i]) + 1 for i in range(len(expected_y))]\n",
    "\n",
    "    def top_i(self, i):\n",
    "        return sum(map(lambda x: x <= i, self.orders)) / len(self.orders)"
   ],
   "metadata": {
    "collapsed": false,
    "pycharm": {
     "name": "#%%\n"
    }
   }
  },
  {
   "cell_type": "code",
   "execution_count": 26,
   "outputs": [
    {
     "data": {
      "text/plain": "array([[1, 1, 1, 0],\n       [1, 0, 0, 1]])"
     },
     "execution_count": 26,
     "metadata": {},
     "output_type": "execute_result"
    }
   ],
   "source": [
    "def encode_names(column):\n",
    "    \"\"\"\n",
    "    Converts column of camelCase names to 100 columns with most popular words\n",
    "    with 1 (if name contains word) and 0 (otherwise)\n",
    "    \"\"\"\n",
    "\n",
    "    def split_camel_case(x):\n",
    "        return [word.lower() for word in re.findall(r'[A-Z]?[a-z]+|[A-Z]+(?=[A-Z]|$)', x)]\n",
    "\n",
    "    counter = Counter()\n",
    "    for row in column:\n",
    "        counter.update(split_camel_case(row))\n",
    "\n",
    "    most_common_words = [x[0] for x in counter.most_common(100)]\n",
    "    new_rows = []\n",
    "    for row in column:\n",
    "        row_words = set(split_camel_case(row))\n",
    "        new_row = [1 if word in row_words else 0 for word in most_common_words]\n",
    "        new_rows.append(np.array(new_row))\n",
    "\n",
    "    return np.array(new_rows)\n",
    "\n",
    "encode_names(np.array(['getSomethingGood', 'returnSomething']))"
   ],
   "metadata": {
    "collapsed": false,
    "pycharm": {
     "name": "#%%\n"
    }
   }
  },
  {
   "cell_type": "code",
   "execution_count": 27,
   "outputs": [],
   "source": [
    "usages_loader = UsagesLoader(\n",
    "    '/Users/danilbk/Programming/Kotlin/test/intellij-community/project-processing-results/processing/java/annotations/processing/0.0.0')\n",
    "usages_by_target_type = usages_loader.load()"
   ],
   "metadata": {
    "collapsed": false,
    "pycharm": {
     "name": "#%%\n"
    }
   }
  },
  {
   "cell_type": "code",
   "execution_count": 42,
   "outputs": [],
   "source": [
    "cache = {}\n",
    "def load_for_target(target_type, ignored_annotation=()):\n",
    "    if target_type in cache:\n",
    "        return cache[target_type]\n",
    "    method_usages = list(\n",
    "        filter(lambda x: x.annotation_name not in ignored_annotation, usages_by_target_type[target_type]))\n",
    "    raw_X = np.array([np.array(usage.features_list) for usage in method_usages])\n",
    "    X = None\n",
    "    if len(raw_X) == 0:\n",
    "        X = []\n",
    "    else:\n",
    "        for col in range(raw_X.shape[1]):\n",
    "            new_columns = encode_names(raw_X[:, col])\n",
    "            if X is None:\n",
    "                X = new_columns\n",
    "            else:\n",
    "                X = np.concatenate((X, new_columns), axis=1)\n",
    "    y = [usage.annotation_name for usage in method_usages]\n",
    "    cache[target_type] = (X, y)\n",
    "    return X, y"
   ],
   "metadata": {
    "collapsed": false,
    "pycharm": {
     "name": "#%%\n"
    }
   }
  },
  {
   "cell_type": "code",
   "execution_count": 36,
   "outputs": [],
   "source": [
    "def calculate(X, y, model):\n",
    "    X_train, X_test, y_train, y_test = train_test_split(X, y, train_size=0.2, shuffle=True, random_state=42)\n",
    "\n",
    "    model.fit(X_train, y_train)\n",
    "    predicted = model.predict(X_test)\n",
    "\n",
    "    metric = Metric(predicted, y_test)\n",
    "    print(f'Count: {len(y_test)}')\n",
    "    for i in range(1, 6):\n",
    "        print(f'Top {i}: {metric.top_i(i)}')"
   ],
   "metadata": {
    "collapsed": false,
    "pycharm": {
     "name": "#%%\n"
    }
   }
  },
  {
   "cell_type": "code",
   "execution_count": 30,
   "outputs": [],
   "source": [
    "target_types = [\n",
    "    'AnnotationType',\n",
    "    'Constructor',\n",
    "    'Field',\n",
    "    'LocalVariable',\n",
    "    'Method',\n",
    "    'Module',\n",
    "    'Package',\n",
    "    'Parameter',\n",
    "    'RecordComponent',\n",
    "    'Type',\n",
    "    'TypeParameter',\n",
    "    'TypeUse'\n",
    "]"
   ],
   "metadata": {
    "collapsed": false,
    "pycharm": {
     "name": "#%%\n"
    }
   }
  },
  {
   "cell_type": "code",
   "execution_count": 31,
   "outputs": [],
   "source": [
    "from sklearn.svm import SVC\n",
    "\n",
    "\n",
    "class SVM:\n",
    "    def __init__(self):\n",
    "        self.model = SVC(probability=True, kernel='linear')\n",
    "\n",
    "    def fit(self, X, y):\n",
    "        self.model.fit(X, y)\n",
    "        print(X.shape)\n",
    "\n",
    "    def predict(self, X):\n",
    "        def transform(x):\n",
    "            indexes = np.argsort(x)\n",
    "            return self.model.classes_[indexes]\n",
    "        return np.array([transform(x) for x in self.model.predict_proba(X)])\n"
   ],
   "metadata": {
    "collapsed": false,
    "pycharm": {
     "name": "#%%\n"
    }
   }
  },
  {
   "cell_type": "code",
   "execution_count": 43,
   "outputs": [
    {
     "name": "stdout",
     "output_type": "stream",
     "text": [
      "Method\n",
      "Count: 40000\n",
      "Top 1: 0.5155\n",
      "Top 2: 0.72375\n",
      "Top 3: 0.828625\n",
      "Top 4: 0.92805\n",
      "Top 5: 0.951875\n",
      "(10000, 400)\n",
      "Count: 40000\n",
      "Top 1: 0.000125\n",
      "Top 2: 0.000275\n",
      "Top 3: 0.0004\n",
      "Top 4: 0.0007\n",
      "Top 5: 0.000875\n",
      "\n"
     ]
    }
   ],
   "source": [
    "for target_type in ['Method']:\n",
    "    X, y = load_for_target(target_type)\n",
    "    size = 50000\n",
    "    rnd = random.Random(42)\n",
    "    rnd.shuffle(X)\n",
    "    rnd.shuffle(y)\n",
    "    X = X[:size]\n",
    "    y = y[:size]\n",
    "    if len(X) == 0:\n",
    "        continue\n",
    "    print(target_type)\n",
    "    calculate(X, y, Baseline())\n",
    "    calculate(X, y, SVM())\n",
    "    print()"
   ],
   "metadata": {
    "collapsed": false,
    "pycharm": {
     "name": "#%%\n"
    }
   }
  },
  {
   "cell_type": "code",
   "execution_count": null,
   "outputs": [],
   "source": [],
   "metadata": {
    "collapsed": false,
    "pycharm": {
     "name": "#%%\n"
    }
   }
  }
 ],
 "metadata": {
  "kernelspec": {
   "display_name": "Python 3",
   "language": "python",
   "name": "python3"
  },
  "language_info": {
   "codemirror_mode": {
    "name": "ipython",
    "version": 2
   },
   "file_extension": ".py",
   "mimetype": "text/x-python",
   "name": "python",
   "nbconvert_exporter": "python",
   "pygments_lexer": "ipython2",
   "version": "2.7.6"
  }
 },
 "nbformat": 4,
 "nbformat_minor": 0
}