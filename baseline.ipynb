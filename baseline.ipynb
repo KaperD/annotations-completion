{
 "cells": [
  {
   "cell_type": "code",
   "execution_count": 1,
   "outputs": [],
   "source": [
    "import os\n",
    "import json\n",
    "import random\n",
    "from sklearn.model_selection import train_test_split\n",
    "from collections import Counter\n",
    "from collections import defaultdict\n",
    "from sklearn.feature_extraction.text import CountVectorizer\n",
    "from sklearn.utils import shuffle\n",
    "import numpy as np\n",
    "import re"
   ],
   "metadata": {
    "collapsed": false,
    "pycharm": {
     "name": "#%%\n"
    }
   }
  },
  {
   "cell_type": "code",
   "execution_count": 2,
   "outputs": [],
   "source": [
    "initial_feature_names = [\n",
    "    'targetName',\n",
    "    'className',\n",
    "    'returnType',\n",
    "    'methodModifiers',\n",
    "    'otherAnnotations',\n",
    "    'otherMethodsNames',\n",
    "    'otherMethodsAnnotations',\n",
    "    'returnsNull',\n",
    "]\n",
    "class AnnotationUsage:\n",
    "    def __init__(self, usage_json):\n",
    "        self.annotation_name = usage_json['name']\n",
    "        features_json = usage_json['features']\n",
    "        self.features_list = [\n",
    "            features_json.get('targetName', ''),\n",
    "            features_json.get('className', ''),\n",
    "            features_json.get('returnType', ''),\n",
    "            features_json.get('methodModifiers', []),\n",
    "            features_json.get('otherAnnotations', []),\n",
    "            features_json.get('otherMethodsNames', []),\n",
    "            features_json.get('otherMethodsAnnotations', []),\n",
    "            1 if features_json.get('returnsNull', False) else 0,\n",
    "        ]\n",
    "\n",
    "    def __str__(self):\n",
    "        return f'{self.annotation_name}'\n",
    "\n",
    "class UsagesLoader:\n",
    "    def __init__(self, processing_result_path):\n",
    "        self.processing_result_path = processing_result_path\n",
    "\n",
    "    def load(self):\n",
    "        usages_by_target = defaultdict(list)\n",
    "        for root, dirs, files in os.walk(self.processing_result_path):\n",
    "            for file in files:\n",
    "                if not file.endswith('json'):\n",
    "                    continue\n",
    "                with open(os.path.join(root, file), 'r') as read_file:\n",
    "                    data = json.load(read_file)\n",
    "                    target_type = data['keyInfo']['name']\n",
    "                    new_usages = [AnnotationUsage(usage_json) for usage_json in data[\"usages\"]]\n",
    "                    usages_by_target[target_type] = usages_by_target[target_type] + new_usages\n",
    "        return usages_by_target"
   ],
   "metadata": {
    "collapsed": false,
    "pycharm": {
     "name": "#%%\n"
    }
   }
  },
  {
   "cell_type": "code",
   "execution_count": 3,
   "outputs": [],
   "source": [
    "class Baseline:\n",
    "    def __init__(self):\n",
    "        self.ordered_by_quantity = np.array([])\n",
    "\n",
    "    def fit(self, X, y):\n",
    "        self.ordered_by_quantity = np.array([x[0] for x in Counter(y).most_common()])\n",
    "\n",
    "    def predict(self, X):\n",
    "        return np.array([self.ordered_by_quantity for _ in X])\n"
   ],
   "metadata": {
    "collapsed": false,
    "pycharm": {
     "name": "#%%\n"
    }
   }
  },
  {
   "cell_type": "code",
   "execution_count": 4,
   "outputs": [],
   "source": [
    "class Metric:\n",
    "    def __init__(self, predicted_y, expected_y):\n",
    "        self.orders = [(list(predicted_y[i]) + [expected_y[i]]).index(expected_y[i]) + 1 for i in range(len(expected_y))]\n",
    "\n",
    "    def top_i(self, i):\n",
    "        return sum(map(lambda x: x <= i, self.orders)) / len(self.orders)"
   ],
   "metadata": {
    "collapsed": false,
    "pycharm": {
     "name": "#%%\n"
    }
   }
  },
  {
   "cell_type": "code",
   "execution_count": 5,
   "outputs": [],
   "source": [
    "def encode_names(column, column_name):\n",
    "    \"\"\"\n",
    "    Converts column of camelCase names to 100 columns with most popular words\n",
    "    with 1 (if name contains word) and 0 (otherwise)\n",
    "    \"\"\"\n",
    "\n",
    "    def split_camel_case(x):\n",
    "        words = [word.lower() for word in re.findall(r'[A-Z]?[a-z]+|[A-Z]+(?=[A-Z]|$)', x)]\n",
    "        return ' '.join(words)\n",
    "\n",
    "    vectorizer = CountVectorizer(preprocessor=split_camel_case, max_features=200)\n",
    "    new_columns = vectorizer.fit_transform(column).toarray()\n",
    "    new_names = [column_name + '_' + name for name in vectorizer.get_feature_names()]\n",
    "    return new_columns, new_names\n",
    "\n",
    "def encode_lists(column, column_name):\n",
    "    \"\"\"\n",
    "    Converts column of lists of words to 100 columns with most popular words\n",
    "    with 1 (if list contains word) and 0 (otherwise)\n",
    "    \"\"\"\n",
    "\n",
    "    joined_words = np.array([' '.join(x) for x in column])\n",
    "\n",
    "    vectorizer = CountVectorizer(max_features=200)\n",
    "    new_columns = vectorizer.fit_transform(joined_words).toarray()\n",
    "    new_names = [column_name + '_' + name for name in vectorizer.get_feature_names()]\n",
    "    return new_columns, new_names\n",
    "\n",
    "\n",
    "def encode_column(column, column_name):\n",
    "    \"\"\"\n",
    "    Converts column of some type to column of integers\n",
    "    \"\"\"\n",
    "    if isinstance(column[0], str):\n",
    "        if (column == '').all():\n",
    "            return None, []\n",
    "        return encode_names(column, column_name)\n",
    "    elif isinstance(column[0], list):\n",
    "        if np.alltrue([x == [] for x in column]):\n",
    "            return None, []\n",
    "        return encode_lists(column, column_name)\n",
    "    else:\n",
    "        return np.array([column]).T, [column_name]"
   ],
   "metadata": {
    "collapsed": false,
    "pycharm": {
     "name": "#%%\n"
    }
   }
  },
  {
   "cell_type": "code",
   "execution_count": 6,
   "outputs": [
    {
     "data": {
      "text/plain": "(array([[1, 1, 0, 1],\n        [0, 0, 1, 1]]),\n ['a_get', 'a_good', 'a_return', 'a_something'])"
     },
     "execution_count": 6,
     "metadata": {},
     "output_type": "execute_result"
    }
   ],
   "source": [
    "encode_column(np.array(['getSomethingGood', 'returnSomething'], dtype=object), 'a')"
   ],
   "metadata": {
    "collapsed": false,
    "pycharm": {
     "name": "#%%\n"
    }
   }
  },
  {
   "cell_type": "code",
   "execution_count": 7,
   "outputs": [
    {
     "data": {
      "text/plain": "(array([[1, 0],\n        [1, 1]]),\n ['b_public', 'b_static'])"
     },
     "execution_count": 7,
     "metadata": {},
     "output_type": "execute_result"
    }
   ],
   "source": [
    "encode_column(np.array([['public'], ['public', 'static']], dtype=object), 'b')"
   ],
   "metadata": {
    "collapsed": false,
    "pycharm": {
     "name": "#%%\n"
    }
   }
  },
  {
   "cell_type": "code",
   "execution_count": 8,
   "outputs": [
    {
     "data": {
      "text/plain": "(array([[1],\n        [0]], dtype=object),\n ['c'])"
     },
     "execution_count": 8,
     "metadata": {},
     "output_type": "execute_result"
    }
   ],
   "source": [
    "encode_column(np.array([1, 0], dtype=object), 'c')"
   ],
   "metadata": {
    "collapsed": false,
    "pycharm": {
     "name": "#%%\n"
    }
   }
  },
  {
   "cell_type": "code",
   "execution_count": 9,
   "outputs": [],
   "source": [
    "usages_loader = UsagesLoader(\n",
    "    '/Users/danilbk/Programming/Kotlin/test/intellij-community/project-processing-results/processing/java/annotations/processing/0.0.0')\n",
    "usages_by_target_type = usages_loader.load()"
   ],
   "metadata": {
    "collapsed": false,
    "pycharm": {
     "name": "#%%\n"
    }
   }
  },
  {
   "cell_type": "code",
   "execution_count": 10,
   "outputs": [],
   "source": [
    "cache = {}"
   ],
   "metadata": {
    "collapsed": false,
    "pycharm": {
     "name": "#%%\n"
    }
   }
  },
  {
   "cell_type": "code",
   "execution_count": 11,
   "outputs": [],
   "source": [
    "def load_for_target(target_type, ignored_annotation=()):\n",
    "    if target_type in cache:\n",
    "        return cache[target_type]\n",
    "    method_usages = list(\n",
    "        filter(lambda x: x.annotation_name not in ignored_annotation, usages_by_target_type[target_type]))\n",
    "    raw_X = np.array([np.array(usage.features_list, dtype=object) for usage in method_usages])\n",
    "    X = None\n",
    "    all_new_names = []\n",
    "    if len(raw_X) == 0:\n",
    "        X = np.array([])\n",
    "        all_new_names = initial_feature_names\n",
    "    else:\n",
    "        for col in range(raw_X.shape[1]):\n",
    "            new_columns, new_names = encode_column(raw_X[:, col], initial_feature_names[col])\n",
    "            if new_columns is None:\n",
    "                continue\n",
    "            all_new_names += new_names\n",
    "            if X is None:\n",
    "                X = new_columns\n",
    "            else:\n",
    "                X = np.concatenate((X, new_columns), axis=1)\n",
    "    y = [usage.annotation_name for usage in method_usages]\n",
    "    cache[target_type] = (X, y, all_new_names)\n",
    "    return X, y, all_new_names"
   ],
   "metadata": {
    "collapsed": false,
    "pycharm": {
     "name": "#%%\n"
    }
   }
  },
  {
   "cell_type": "code",
   "execution_count": 12,
   "outputs": [],
   "source": [
    "def calculate(X, y, model):\n",
    "    X_train, X_test, y_train, y_test = train_test_split(X, y, train_size=0.2, shuffle=True, random_state=42)\n",
    "\n",
    "    model.fit(X_train, y_train)\n",
    "    predicted = model.predict(X_test)\n",
    "\n",
    "    metric = Metric(predicted, y_test)\n",
    "    # print(f'Count: {len(y_test)}')\n",
    "    for i in range(1, 2):\n",
    "        print(f'Top {i}: {metric.top_i(i)}')"
   ],
   "metadata": {
    "collapsed": false,
    "pycharm": {
     "name": "#%%\n"
    }
   }
  },
  {
   "cell_type": "code",
   "execution_count": 13,
   "outputs": [],
   "source": [
    "target_types = [\n",
    "    'AnnotationType',\n",
    "    'Constructor',\n",
    "    'Field',\n",
    "    'LocalVariable',\n",
    "    'Method',\n",
    "    'Module',\n",
    "    'Package',\n",
    "    'Parameter',\n",
    "    'RecordComponent',\n",
    "    'Type',\n",
    "    'TypeParameter',\n",
    "    'TypeUse'\n",
    "]"
   ],
   "metadata": {
    "collapsed": false,
    "pycharm": {
     "name": "#%%\n"
    }
   }
  },
  {
   "cell_type": "code",
   "execution_count": 14,
   "outputs": [],
   "source": [
    "from sklearn.svm import LinearSVC\n",
    "\n",
    "\n",
    "class SVM:\n",
    "    def __init__(self):\n",
    "        self.model = LinearSVC(max_iter=1000000)\n",
    "\n",
    "    def fit(self, X, y):\n",
    "        self.model.fit(X, y)\n",
    "\n",
    "    def predict(self, X):\n",
    "        return np.array([np.array([y_pred]) for y_pred in self.model.predict(X)])\n"
   ],
   "metadata": {
    "collapsed": false,
    "pycharm": {
     "name": "#%%\n"
    }
   }
  },
  {
   "cell_type": "code",
   "execution_count": 15,
   "outputs": [
    {
     "name": "stdout",
     "output_type": "stream",
     "text": [
      "AnnotationType\n",
      "SVM\n",
      "Top 1: 0.8594249201277955\n",
      "Baseline\n",
      "Top 1: 0.3801916932907348\n",
      "\n",
      "Constructor\n",
      "SVM\n",
      "Top 1: 0.5474452554744526\n",
      "Baseline\n",
      "Top 1: 0.3193430656934307\n",
      "\n",
      "Field\n",
      "SVM\n"
     ]
    },
    {
     "name": "stderr",
     "output_type": "stream",
     "text": [
      "/opt/anaconda3/lib/python3.8/site-packages/sklearn/svm/_base.py:985: ConvergenceWarning: Liblinear failed to converge, increase the number of iterations.\n",
      "  warnings.warn(\"Liblinear failed to converge, increase \"\n"
     ]
    },
    {
     "name": "stdout",
     "output_type": "stream",
     "text": [
      "Top 1: 0.681625\n",
      "Baseline\n",
      "Top 1: 0.549\n",
      "\n",
      "LocalVariable\n",
      "SVM\n",
      "Top 1: 0.7167405764966741\n",
      "Baseline\n",
      "Top 1: 0.38137472283813745\n",
      "\n",
      "Method\n",
      "SVM\n"
     ]
    },
    {
     "name": "stderr",
     "output_type": "stream",
     "text": [
      "/opt/anaconda3/lib/python3.8/site-packages/sklearn/svm/_base.py:985: ConvergenceWarning: Liblinear failed to converge, increase the number of iterations.\n",
      "  warnings.warn(\"Liblinear failed to converge, increase \"\n"
     ]
    },
    {
     "name": "stdout",
     "output_type": "stream",
     "text": [
      "Top 1: 0.832125\n",
      "Baseline\n",
      "Top 1: 0.507125\n",
      "\n",
      "Package\n",
      "SVM\n",
      "Top 1: 0.796875\n",
      "Baseline\n",
      "Top 1: 0.59375\n",
      "\n",
      "Parameter\n",
      "SVM\n"
     ]
    },
    {
     "name": "stderr",
     "output_type": "stream",
     "text": [
      "/opt/anaconda3/lib/python3.8/site-packages/sklearn/svm/_base.py:985: ConvergenceWarning: Liblinear failed to converge, increase the number of iterations.\n",
      "  warnings.warn(\"Liblinear failed to converge, increase \"\n"
     ]
    },
    {
     "name": "stdout",
     "output_type": "stream",
     "text": [
      "Top 1: 0.784625\n",
      "Baseline\n",
      "Top 1: 0.8365\n",
      "\n",
      "Type\n",
      "SVM\n",
      "Top 1: 0.8203093476798924\n",
      "Baseline\n",
      "Top 1: 0.3409549428379287\n",
      "\n",
      "TypeUse\n",
      "SVM\n"
     ]
    },
    {
     "name": "stderr",
     "output_type": "stream",
     "text": [
      "/opt/anaconda3/lib/python3.8/site-packages/sklearn/svm/_base.py:985: ConvergenceWarning: Liblinear failed to converge, increase the number of iterations.\n",
      "  warnings.warn(\"Liblinear failed to converge, increase \"\n"
     ]
    },
    {
     "name": "stdout",
     "output_type": "stream",
     "text": [
      "Top 1: 0.873\n",
      "Baseline\n",
      "Top 1: 0.855\n",
      "\n"
     ]
    }
   ],
   "source": [
    "for target_type in target_types:\n",
    "    X, y, feature_names = load_for_target(target_type)\n",
    "    rnd = random.Random(42)\n",
    "    for _ in range(1):\n",
    "        size = 10000\n",
    "        X, y = shuffle(X, y, random_state=42)\n",
    "        X = X[:size]\n",
    "        y = y[:size]\n",
    "        if len(X) == 0:\n",
    "            continue\n",
    "        print(target_type)\n",
    "        svm = SVM()\n",
    "        print(\"SVM\")\n",
    "        calculate(X, y, svm)\n",
    "        print(\"Baseline\")\n",
    "        calculate(X, y, Baseline())\n",
    "        print()"
   ],
   "metadata": {
    "collapsed": false,
    "pycharm": {
     "name": "#%%\n"
    }
   }
  },
  {
   "cell_type": "markdown",
   "source": [],
   "metadata": {
    "collapsed": false,
    "pycharm": {
     "name": "#%% md\n"
    }
   }
  },
  {
   "cell_type": "code",
   "execution_count": null,
   "outputs": [],
   "source": [],
   "metadata": {
    "collapsed": false,
    "pycharm": {
     "name": "#%%\n"
    }
   }
  }
 ],
 "metadata": {
  "kernelspec": {
   "display_name": "Python 3",
   "language": "python",
   "name": "python3"
  },
  "language_info": {
   "codemirror_mode": {
    "name": "ipython",
    "version": 2
   },
   "file_extension": ".py",
   "mimetype": "text/x-python",
   "name": "python",
   "nbconvert_exporter": "python",
   "pygments_lexer": "ipython2",
   "version": "2.7.6"
  }
 },
 "nbformat": 4,
 "nbformat_minor": 0
}