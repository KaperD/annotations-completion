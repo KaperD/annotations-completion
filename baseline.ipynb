{
 "cells": [
  {
   "cell_type": "code",
   "execution_count": 109,
   "metadata": {
    "collapsed": true,
    "pycharm": {
     "name": "#%%\n"
    }
   },
   "outputs": [],
   "source": [
    "import os\n",
    "import json\n",
    "from sklearn.model_selection import train_test_split\n",
    "from collections import Counter"
   ]
  },
  {
   "cell_type": "code",
   "execution_count": 110,
   "outputs": [],
   "source": [
    "class AnnotationUsage:\n",
    "    def __init__(self, usage_json):\n",
    "        self.annotation_name = usage_json[\"name\"]\n",
    "        # TODO other features extraction\n",
    "\n",
    "    def __str__(self):\n",
    "        return f'{self.annotation_name}'\n",
    "\n",
    "class UsagesLoader:\n",
    "    def __init__(self, processing_result_path):\n",
    "        self.processing_result_path = processing_result_path\n",
    "\n",
    "    def load(self):\n",
    "        usages_by_target = {}\n",
    "        for root, dirs, files in os.walk(self.processing_result_path):\n",
    "            for file in files:\n",
    "                if not file.endswith(\"json\"):\n",
    "                    continue\n",
    "                with open(os.path.join(root, file), \"r\") as read_file:\n",
    "                    data = json.load(read_file)\n",
    "                    target_type = data[\"keyInfo\"][\"name\"]\n",
    "                    new_usages = [AnnotationUsage(usage_json) for usage_json in data[\"usages\"]]\n",
    "                    usages_by_target[target_type] = usages_by_target.get(target_type, []) + new_usages\n",
    "        return usages_by_target"
   ],
   "metadata": {
    "collapsed": false,
    "pycharm": {
     "name": "#%%\n"
    }
   }
  },
  {
   "cell_type": "code",
   "execution_count": 111,
   "outputs": [],
   "source": [
    "class Baseline:\n",
    "    def __init__(self):\n",
    "        self.ordered_by_quantity = []\n",
    "\n",
    "    def fit(self, X, y):\n",
    "        self.ordered_by_quantity = [x[0] for x in Counter(y).most_common()]\n",
    "\n",
    "    def predict(self, X):\n",
    "        return [self.ordered_by_quantity for _ in X]\n"
   ],
   "metadata": {
    "collapsed": false,
    "pycharm": {
     "name": "#%%\n"
    }
   }
  },
  {
   "cell_type": "code",
   "execution_count": 112,
   "outputs": [],
   "source": [
    "class Metric:\n",
    "    def __init__(self, predicted_y, expected_y):\n",
    "        self.orders = [(predicted_y[i] + [expected_y[i]]).index(expected_y[i]) + 1 for i in range(len(expected_y))]\n",
    "\n",
    "    def top_i(self, i):\n",
    "        return sum(map(lambda x : x <= i, self.orders)) / len(self.orders)"
   ],
   "metadata": {
    "collapsed": false,
    "pycharm": {
     "name": "#%%\n"
    }
   }
  },
  {
   "cell_type": "code",
   "execution_count": 113,
   "outputs": [],
   "source": [
    "usages_loader = UsagesLoader('/Users/danilbk/Programming/Kotlin/test/intellij-community/project-processing-results/processing/java/annotations/processing/0.0.0')\n",
    "usages_by_target_type = usages_loader.load()\n",
    "def load_for_target(target_type, ignored_annotation=()):\n",
    "    method_usages = list(filter(lambda x: x.annotation_name not in ignored_annotation, usages_by_target_type.get(target_type, [])))\n",
    "    X = method_usages\n",
    "    y = [usage.annotation_name for usage in  method_usages]\n",
    "    return X, y"
   ],
   "metadata": {
    "collapsed": false,
    "pycharm": {
     "name": "#%%\n"
    }
   }
  },
  {
   "cell_type": "code",
   "execution_count": 119,
   "outputs": [],
   "source": [
    "def calculate(X, y, model):\n",
    "    X_train, X_test, y_train, y_test = train_test_split(X, y, train_size=0.8, shuffle=True)\n",
    "\n",
    "    model.fit(X_train, y_train)\n",
    "    predicted = model.predict(X_test)\n",
    "\n",
    "    metric = Metric(predicted, y_test)\n",
    "    for i in range(1, 6):\n",
    "        print(f'Top {i}: {metric.top_i(i)}')"
   ],
   "metadata": {
    "collapsed": false,
    "pycharm": {
     "name": "#%%\n"
    }
   }
  },
  {
   "cell_type": "code",
   "execution_count": 115,
   "outputs": [],
   "source": [
    "target_types = [\n",
    "    'AnnotationType',\n",
    "    'Constructor',\n",
    "    'Field',\n",
    "    'LocalVariable',\n",
    "    'Method',\n",
    "    'Module',\n",
    "    'Package',\n",
    "    'Parameter',\n",
    "    'RecordComponent',\n",
    "    'Type',\n",
    "    'TypeParameter',\n",
    "    'TypeUse'\n",
    "]"
   ],
   "metadata": {
    "collapsed": false,
    "pycharm": {
     "name": "#%%\n"
    }
   }
  },
  {
   "cell_type": "code",
   "execution_count": 120,
   "outputs": [
    {
     "name": "stdout",
     "output_type": "stream",
     "text": [
      "AnnotationType\n",
      "Top 1: 0.3670886075949367\n",
      "Top 2: 0.759493670886076\n",
      "Top 3: 0.8481012658227848\n",
      "Top 4: 0.9240506329113924\n",
      "Top 5: 0.9620253164556962\n",
      "\n",
      "Constructor\n",
      "Top 1: 0.35766423357664234\n",
      "Top 2: 0.6277372262773723\n",
      "Top 3: 0.781021897810219\n",
      "Top 4: 0.8248175182481752\n",
      "Top 5: 0.8832116788321168\n",
      "\n",
      "Field\n",
      "Top 1: 0.5415821501014199\n",
      "Top 2: 0.7164300202839756\n",
      "Top 3: 0.8679513184584179\n",
      "Top 4: 0.9028397565922921\n",
      "Top 5: 0.9148073022312373\n",
      "\n",
      "LocalVariable\n",
      "Top 1: 0.37472283813747226\n",
      "Top 2: 0.5764966740576497\n",
      "Top 3: 0.7760532150776053\n",
      "Top 4: 0.8425720620842572\n",
      "Top 5: 0.917960088691796\n",
      "\n",
      "Method\n",
      "Top 1: 0.5189996643168848\n",
      "Top 2: 0.7306982208794898\n",
      "Top 3: 0.8318563276267203\n",
      "Top 4: 0.9288016112789527\n",
      "Top 5: 0.9530547163477677\n",
      "\n",
      "Package\n",
      "Top 1: 0.4375\n",
      "Top 2: 0.875\n",
      "Top 3: 0.9375\n",
      "Top 4: 0.9375\n",
      "Top 5: 0.9375\n",
      "\n",
      "Parameter\n",
      "Top 1: 0.8380986249407302\n",
      "Top 2: 0.9664058795637743\n",
      "Top 3: 0.9826220957799905\n",
      "Top 4: 0.9887624466571835\n",
      "Top 5: 0.9928876244665719\n",
      "\n",
      "Type\n",
      "Top 1: 0.34265734265734266\n",
      "Top 2: 0.6584185045723507\n",
      "Top 3: 0.7724583109198494\n",
      "Top 4: 0.8300161377084454\n",
      "Top 5: 0.8773534158149543\n",
      "\n",
      "TypeUse\n",
      "Top 1: 0.8558371416701288\n",
      "Top 2: 0.9476526796842543\n",
      "Top 3: 0.9962609056917324\n",
      "Top 4: 1.0\n",
      "Top 5: 1.0\n",
      "\n"
     ]
    }
   ],
   "source": [
    "for target_type in target_types:\n",
    "    X, y = load_for_target(target_type)\n",
    "    if len(X) == 0:\n",
    "        continue\n",
    "    print(target_type)\n",
    "    calculate(X, y, Baseline())\n",
    "    print()"
   ],
   "metadata": {
    "collapsed": false,
    "pycharm": {
     "name": "#%%\n"
    }
   }
  },
  {
   "cell_type": "code",
   "execution_count": null,
   "outputs": [],
   "source": [],
   "metadata": {
    "collapsed": false,
    "pycharm": {
     "name": "#%%\n"
    }
   }
  }
 ],
 "metadata": {
  "kernelspec": {
   "display_name": "Python 3",
   "language": "python",
   "name": "python3"
  },
  "language_info": {
   "codemirror_mode": {
    "name": "ipython",
    "version": 2
   },
   "file_extension": ".py",
   "mimetype": "text/x-python",
   "name": "python",
   "nbconvert_exporter": "python",
   "pygments_lexer": "ipython2",
   "version": "2.7.6"
  }
 },
 "nbformat": 4,
 "nbformat_minor": 0
}