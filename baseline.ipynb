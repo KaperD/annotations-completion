{
 "cells": [
  {
   "cell_type": "code",
   "execution_count": 1,
   "outputs": [],
   "source": [
    "import os\n",
    "import json\n",
    "from sklearn.model_selection import train_test_split\n",
    "from collections import Counter\n",
    "from collections import defaultdict\n",
    "from sklearn.feature_extraction.text import CountVectorizer\n",
    "import numpy as np\n",
    "import re"
   ],
   "metadata": {
    "collapsed": false,
    "pycharm": {
     "name": "#%%\n"
    }
   }
  },
  {
   "cell_type": "code",
   "execution_count": 2,
   "outputs": [],
   "source": [
    "class AnnotationUsage:\n",
    "    def __init__(self, usage_json):\n",
    "        self.annotation_name = usage_json['name']\n",
    "        features_json = usage_json['features']\n",
    "        self.features_list = [\n",
    "            features_json.get('targetName', '')\n",
    "        ]\n",
    "\n",
    "    def __str__(self):\n",
    "        return f'{self.annotation_name}'\n",
    "\n",
    "\n",
    "# \"features\": {\n",
    "#     \"targetName\": \"getExtensions\",\n",
    "#     \"className\": \"ExtensionsSupport\",\n",
    "#     \"otherMethodsNames\": [\n",
    "#         \"ExtensionsSupport\"\n",
    "#     ],\n",
    "#     \"otherMethodsAnnotations\": [],\n",
    "#     \"returnType\": \"PsiType:Collection\\u003cT\\u003e\",\n",
    "#     \"methodModifiers\": [\n",
    "#         \"public\"\n",
    "#     ],\n",
    "#     \"otherAnnotations\": []\n",
    "# },\n",
    "# \"filePath\": \"jps/jps-builders-6/src/org/jetbrains/jps/ExtensionsSupport.java\",\n",
    "# \"textOffset\": 584\n",
    "\n",
    "class UsagesLoader:\n",
    "    def __init__(self, processing_result_path):\n",
    "        self.processing_result_path = processing_result_path\n",
    "\n",
    "    def load(self):\n",
    "        usages_by_target = defaultdict(list)\n",
    "        for root, dirs, files in os.walk(self.processing_result_path):\n",
    "            for file in files:\n",
    "                if not file.endswith('json'):\n",
    "                    continue\n",
    "                with open(os.path.join(root, file), 'r') as read_file:\n",
    "                    data = json.load(read_file)\n",
    "                    target_type = data['keyInfo']['name']\n",
    "                    new_usages = [AnnotationUsage(usage_json) for usage_json in data[\"usages\"]]\n",
    "                    usages_by_target[target_type] = usages_by_target[target_type] + new_usages\n",
    "        return usages_by_target"
   ],
   "metadata": {
    "collapsed": false,
    "pycharm": {
     "name": "#%%\n"
    }
   }
  },
  {
   "cell_type": "code",
   "execution_count": 3,
   "outputs": [],
   "source": [
    "class Baseline:\n",
    "    def __init__(self):\n",
    "        self.ordered_by_quantity = np.array([])\n",
    "\n",
    "    def fit(self, X, y):\n",
    "        self.ordered_by_quantity = np.array([x[0] for x in Counter(y).most_common()])\n",
    "\n",
    "    def predict(self, X):\n",
    "        return np.array([self.ordered_by_quantity for _ in X])\n"
   ],
   "metadata": {
    "collapsed": false,
    "pycharm": {
     "name": "#%%\n"
    }
   }
  },
  {
   "cell_type": "code",
   "execution_count": 4,
   "outputs": [],
   "source": [
    "class Metric:\n",
    "    def __init__(self, predicted_y, expected_y):\n",
    "        self.orders = [(list(predicted_y[i]) + [expected_y[i]]).index(expected_y[i]) + 1 for i in range(len(expected_y))]\n",
    "\n",
    "    def top_i(self, i):\n",
    "        return sum(map(lambda x: x <= i, self.orders)) / len(self.orders)"
   ],
   "metadata": {
    "collapsed": false,
    "pycharm": {
     "name": "#%%\n"
    }
   }
  },
  {
   "cell_type": "code",
   "execution_count": 5,
   "outputs": [
    {
     "data": {
      "text/plain": "array([[1, 1, 0, 1],\n       [0, 0, 1, 1]])"
     },
     "execution_count": 5,
     "metadata": {},
     "output_type": "execute_result"
    }
   ],
   "source": [
    "def encode_names(column):\n",
    "    \"\"\"\n",
    "    Converts column of camelCase names to n (number of unique words in names) columns\n",
    "    with 1 (if name contains word) and 0 (otherwise)\n",
    "    \"\"\"\n",
    "\n",
    "    def split_camel_case(x):\n",
    "        words = [word.lower() for word in re.findall(r'[A-Z]?[a-z]+|[A-Z]+(?=[A-Z]|$)', x)]\n",
    "        return ' '.join(words)\n",
    "\n",
    "    vectorizer = CountVectorizer(preprocessor=split_camel_case)\n",
    "    new_columns = vectorizer.fit_transform(column).toarray()\n",
    "    selections = np.count_nonzero(new_columns, axis=0) > 100\n",
    "    if not any(selections):\n",
    "        return new_columns\n",
    "    else:\n",
    "        return new_columns[:, selections]\n",
    "\n",
    "\n",
    "encode_names(np.array(['getSomethingGood', 'returnSomething']))"
   ],
   "metadata": {
    "collapsed": false,
    "pycharm": {
     "name": "#%%\n"
    }
   }
  },
  {
   "cell_type": "code",
   "execution_count": 6,
   "outputs": [],
   "source": [
    "usages_loader = UsagesLoader(\n",
    "    '/Users/danilbk/Programming/Kotlin/test/intellij-community/project-processing-results/processing/java/annotations/processing/0.0.0')\n",
    "usages_by_target_type = usages_loader.load()"
   ],
   "metadata": {
    "collapsed": false,
    "pycharm": {
     "name": "#%%\n"
    }
   }
  },
  {
   "cell_type": "code",
   "execution_count": 7,
   "outputs": [],
   "source": [
    "def load_for_target(target_type, ignored_annotation=()):\n",
    "    method_usages = list(\n",
    "        filter(lambda x: x.annotation_name not in ignored_annotation, usages_by_target_type[target_type]))\n",
    "    raw_X = np.array([np.array(usage.features_list) for usage in method_usages])\n",
    "    X = None\n",
    "    if len(raw_X) == 0:\n",
    "        X = []\n",
    "    else:\n",
    "        for col in range(raw_X.shape[1]):\n",
    "            new_columns = encode_names(raw_X[:, col])\n",
    "            if X is None:\n",
    "                X = new_columns\n",
    "            else:\n",
    "                X = np.concatenate(X, new_columns, axis=1)\n",
    "    y = [usage.annotation_name for usage in method_usages]\n",
    "    return X, y"
   ],
   "metadata": {
    "collapsed": false,
    "pycharm": {
     "name": "#%%\n"
    }
   }
  },
  {
   "cell_type": "code",
   "execution_count": 8,
   "outputs": [],
   "source": [
    "def calculate(X, y, model):\n",
    "    X_train, X_test, y_train, y_test = train_test_split(X, y, train_size=0.05, shuffle=True, random_state=42)\n",
    "\n",
    "    model.fit(X_train, y_train)\n",
    "    predicted = model.predict(X_test)\n",
    "\n",
    "    metric = Metric(predicted, y_test)\n",
    "    print(f'Count: {len(y_test)}')\n",
    "    for i in range(1, 6):\n",
    "        print(f'Top {i}: {metric.top_i(i)}')"
   ],
   "metadata": {
    "collapsed": false,
    "pycharm": {
     "name": "#%%\n"
    }
   }
  },
  {
   "cell_type": "code",
   "execution_count": 9,
   "outputs": [],
   "source": [
    "target_types = [\n",
    "    'AnnotationType',\n",
    "    'Constructor',\n",
    "    'Field',\n",
    "    'LocalVariable',\n",
    "    'Method',\n",
    "    'Module',\n",
    "    'Package',\n",
    "    'Parameter',\n",
    "    'RecordComponent',\n",
    "    'Type',\n",
    "    'TypeParameter',\n",
    "    'TypeUse'\n",
    "]"
   ],
   "metadata": {
    "collapsed": false,
    "pycharm": {
     "name": "#%%\n"
    }
   }
  },
  {
   "cell_type": "code",
   "execution_count": 10,
   "outputs": [],
   "source": [
    "from sklearn.svm import SVC\n",
    "\n",
    "\n",
    "class SVM:\n",
    "    def __init__(self):\n",
    "        self.model = SVC(probability=True, kernel='linear')\n",
    "\n",
    "    def fit(self, X, y):\n",
    "        self.model.fit(X, y)\n",
    "        print(X.shape)\n",
    "\n",
    "    def predict(self, X):\n",
    "        def transform(x):\n",
    "            indexes = np.argsort(x)\n",
    "            return self.model.classes_[indexes]\n",
    "        return np.array([transform(x) for x in self.model.predict_proba(X)])\n"
   ],
   "metadata": {
    "collapsed": false,
    "pycharm": {
     "name": "#%%\n"
    }
   }
  },
  {
   "cell_type": "code",
   "execution_count": 11,
   "outputs": [
    {
     "name": "stdout",
     "output_type": "stream",
     "text": [
      "Method\n",
      "Count: 283004\n",
      "Top 1: 0.5166923435711156\n",
      "Top 2: 0.7280639142909641\n",
      "Top 3: 0.830323953018332\n",
      "Top 4: 0.9284709756752555\n",
      "Top 5: 0.9523646308886093\n",
      "(14894, 938)\n",
      "Count: 283004\n",
      "Top 1: 6.713686025639214e-05\n",
      "Top 2: 0.00012013964466933329\n",
      "Top 3: 0.00023674577037780385\n",
      "Top 4: 0.00024381280829952932\n",
      "Top 5: 0.0002579468841429803\n",
      "\n"
     ]
    }
   ],
   "source": [
    "for target_type in ['Method']:\n",
    "    X, y = load_for_target(target_type)\n",
    "    if len(X) == 0:\n",
    "        continue\n",
    "    print(target_type)\n",
    "    calculate(X, y, Baseline())\n",
    "    calculate(X, y, SVM())\n",
    "    print()"
   ],
   "metadata": {
    "collapsed": false,
    "pycharm": {
     "name": "#%%\n"
    }
   }
  },
  {
   "cell_type": "code",
   "execution_count": 11,
   "outputs": [],
   "source": [],
   "metadata": {
    "collapsed": false,
    "pycharm": {
     "name": "#%%\n"
    }
   }
  }
 ],
 "metadata": {
  "kernelspec": {
   "display_name": "Python 3",
   "language": "python",
   "name": "python3"
  },
  "language_info": {
   "codemirror_mode": {
    "name": "ipython",
    "version": 2
   },
   "file_extension": ".py",
   "mimetype": "text/x-python",
   "name": "python",
   "nbconvert_exporter": "python",
   "pygments_lexer": "ipython2",
   "version": "2.7.6"
  }
 },
 "nbformat": 4,
 "nbformat_minor": 0
}