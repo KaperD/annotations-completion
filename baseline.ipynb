{
 "cells": [
  {
   "cell_type": "code",
   "execution_count": 11,
   "outputs": [],
   "source": [
    "from sklearn.model_selection import train_test_split\n",
    "from metric.calculate import calculate, calculate_and_print\n",
    "import pickle\n",
    "from sklearn.linear_model import LogisticRegression\n",
    "from models.linear import SVM, LinearSVM, LogisticReg\n",
    "from models.tree import CatBoost, RandomForest, GradientBoosting\n",
    "from models.baseline import Baseline\n",
    "from models.binary.tree import CatBoostBinary, RandomForestBinary, GradientBoostingBinary\n",
    "import matplotlib.pyplot as plt\n",
    "from collections import Counter\n",
    "import warnings\n",
    "from utils.usage_loader import initial_feature_names\n",
    "from utils.encoder import encode_column\n",
    "from sklearn.utils import shuffle\n",
    "import numpy as np\n",
    "import random\n",
    "from utils.usage_loader import UsagesLoader"
   ],
   "metadata": {
    "collapsed": false,
    "pycharm": {
     "name": "#%%\n"
    }
   }
  },
  {
   "cell_type": "code",
   "execution_count": 2,
   "outputs": [],
   "source": [
    "with open('data/usage_loader.pickle', 'rb') as f:\n",
    "    usage_loader = pickle.load(f)"
   ],
   "metadata": {
    "collapsed": false,
    "pycharm": {
     "name": "#%%\n"
    }
   }
  },
  {
   "cell_type": "code",
   "execution_count": 35,
   "outputs": [],
   "source": [
    "spring_loader = UsagesLoader(['/Users/danilbk/Desktop/0.0.0'])"
   ],
   "metadata": {
    "collapsed": false,
    "pycharm": {
     "name": "#%%\n"
    }
   }
  },
  {
   "cell_type": "code",
   "execution_count": 36,
   "outputs": [],
   "source": [
    "jadx_loader = UsagesLoader(['/Users/danilbk/Programming/Java/test/jadx/jadx/project-processing-results/processing/java/annotations/processing/0.0.0'])"
   ],
   "metadata": {
    "collapsed": false,
    "pycharm": {
     "name": "#%%\n"
    }
   }
  },
  {
   "cell_type": "code",
   "execution_count": 32,
   "outputs": [],
   "source": [
    "s = []\n",
    "for usage in usage_loader.load_all():\n",
    "    if usage.annotation_name.startswith('org.junit.jupiter'):\n",
    "        s.append(usage.annotation_name)"
   ],
   "metadata": {
    "collapsed": false,
    "pycharm": {
     "name": "#%%\n"
    }
   }
  },
  {
   "cell_type": "code",
   "execution_count": null,
   "outputs": [],
   "source": [],
   "metadata": {
    "collapsed": false,
    "pycharm": {
     "name": "#%%\n"
    }
   }
  },
  {
   "cell_type": "code",
   "execution_count": 34,
   "outputs": [
    {
     "data": {
      "text/plain": "19439"
     },
     "execution_count": 34,
     "metadata": {},
     "output_type": "execute_result"
    }
   ],
   "source": [],
   "metadata": {
    "collapsed": false,
    "pycharm": {
     "name": "#%%\n"
    }
   }
  },
  {
   "cell_type": "code",
   "execution_count": 5,
   "outputs": [],
   "source": [
    "X, y, names = usage_loader.load(size=10000, state=42, train_fraction=0.6)"
   ],
   "metadata": {
    "collapsed": false,
    "pycharm": {
     "name": "#%%\n"
    }
   }
  },
  {
   "cell_type": "code",
   "execution_count": 6,
   "outputs": [],
   "source": [
    "X_train, X_test, y_train, y_test = train_test_split(X, y, train_size=0.8, shuffle=False)"
   ],
   "metadata": {
    "collapsed": false,
    "pycharm": {
     "name": "#%%\n"
    }
   }
  },
  {
   "cell_type": "code",
   "execution_count": 7,
   "outputs": [
    {
     "name": "stdout",
     "output_type": "stream",
     "text": [
      "Baseline\n",
      "Count: 2000\n",
      "Top 1: 0.4645\n",
      "Top 2: 0.7265\n",
      "Top 3: 0.832\n",
      "Top 4: 0.8895\n",
      "Top 5: 0.903\n",
      "Top1 1: 0.7355\n",
      "Mean: 4.0535\n",
      "CatBoost\n",
      "Count: 2000\n",
      "Top 1: 0.8215\n",
      "Top 2: 0.927\n",
      "Top 3: 0.9485\n",
      "Top 4: 0.956\n",
      "Top 5: 0.9605\n",
      "Top1 1: 0.85\n",
      "Mean: 2.481\n",
      "Random forest\n",
      "Count: 2000\n",
      "Top 1: 0.8255\n",
      "Top 2: 0.922\n",
      "Top 3: 0.9445\n",
      "Top 4: 0.9545\n",
      "Top 5: 0.963\n",
      "Top1 1: 0.852\n",
      "Mean: 2.651\n"
     ]
    }
   ],
   "source": [
    "calculate_and_print(X_train, X_test, y_train, y_test, Baseline())\n",
    "# calculate_and_print(X_train, X_test, y_train, y_test, CatBoostBinary())\n",
    "calculate_and_print(X_train, X_test, y_train, y_test, CatBoost())\n",
    "# calculate_and_print(X_train, X_test, y_train, y_test, RandomForestBinary())\n",
    "calculate_and_print(X_train, X_test, y_train, y_test, RandomForest())\n"
   ],
   "metadata": {
    "collapsed": false,
    "pycharm": {
     "name": "#%%\n"
    }
   }
  },
  {
   "cell_type": "code",
   "execution_count": 68,
   "outputs": [],
   "source": [
    "from catboost import CatBoostClassifier, Pool, cv"
   ],
   "metadata": {
    "collapsed": false,
    "pycharm": {
     "name": "#%%\n"
    }
   }
  },
  {
   "cell_type": "code",
   "execution_count": 58,
   "outputs": [],
   "source": [
    "pool = Pool(X_train, label=y_train)"
   ],
   "metadata": {
    "collapsed": false,
    "pycharm": {
     "name": "#%%\n"
    }
   }
  },
  {
   "cell_type": "code",
   "execution_count": 99,
   "outputs": [],
   "source": [
    "params = {\"iterations\": 1000,\n",
    "          \"depth\": 6,\n",
    "          \"loss_function\": \"MultiClass\",\n",
    "          \"verbose\": False}"
   ],
   "metadata": {
    "collapsed": false,
    "pycharm": {
     "name": "#%%\n"
    }
   }
  },
  {
   "cell_type": "code",
   "execution_count": 100,
   "outputs": [
    {
     "data": {
      "text/plain": "MetricVisualizer(layout=Layout(align_self='stretch', height='500px'))",
      "application/vnd.jupyter.widget-view+json": {
       "version_major": 2,
       "version_minor": 0,
       "model_id": "9290d551b82040d7aa23590b80281ddf"
      }
     },
     "metadata": {},
     "output_type": "display_data"
    },
    {
     "name": "stderr",
     "output_type": "stream",
     "text": [
      " Warning: The least populated class in y has only 1 members, which is too few. The minimum number of members in any class cannot be less than parts count=3\n"
     ]
    },
    {
     "data": {
      "text/plain": "999"
     },
     "execution_count": 100,
     "metadata": {},
     "output_type": "execute_result"
    }
   ],
   "source": [
    "cv_data = cv(pool, params=params, plot=True)\n",
    "best_iter = np.argmin(cv_data['test-MultiClass-mean'])\n",
    "best_iter"
   ],
   "metadata": {
    "collapsed": false,
    "pycharm": {
     "name": "#%%\n"
    }
   }
  },
  {
   "cell_type": "code",
   "execution_count": 101,
   "outputs": [
    {
     "data": {
      "text/plain": "     iterations  test-MultiClass-mean  test-MultiClass-std  \\\n0             0              3.537994             0.033881   \n1             1              3.209796             0.016207   \n2             2              2.994074             0.008086   \n3             3              2.821829             0.010394   \n4             4              2.681456             0.014723   \n..          ...                   ...                  ...   \n995         995              0.798515             0.220257   \n996         996              0.798455             0.220367   \n997         997              0.798418             0.220389   \n998         998              0.798410             0.220380   \n999         999              0.798328             0.220488   \n\n     train-MultiClass-mean  train-MultiClass-std  \n0                 3.534442              0.050813  \n1                 3.206667              0.049306  \n2                 2.990311              0.053129  \n3                 2.818621              0.053923  \n4                 2.677982              0.049678  \n..                     ...                   ...  \n995               0.493800              0.069924  \n996               0.493611              0.069901  \n997               0.493346              0.069914  \n998               0.493214              0.069998  \n999               0.492932              0.070008  \n\n[1000 rows x 5 columns]",
      "text/html": "<div>\n<style scoped>\n    .dataframe tbody tr th:only-of-type {\n        vertical-align: middle;\n    }\n\n    .dataframe tbody tr th {\n        vertical-align: top;\n    }\n\n    .dataframe thead th {\n        text-align: right;\n    }\n</style>\n<table border=\"1\" class=\"dataframe\">\n  <thead>\n    <tr style=\"text-align: right;\">\n      <th></th>\n      <th>iterations</th>\n      <th>test-MultiClass-mean</th>\n      <th>test-MultiClass-std</th>\n      <th>train-MultiClass-mean</th>\n      <th>train-MultiClass-std</th>\n    </tr>\n  </thead>\n  <tbody>\n    <tr>\n      <th>0</th>\n      <td>0</td>\n      <td>3.537994</td>\n      <td>0.033881</td>\n      <td>3.534442</td>\n      <td>0.050813</td>\n    </tr>\n    <tr>\n      <th>1</th>\n      <td>1</td>\n      <td>3.209796</td>\n      <td>0.016207</td>\n      <td>3.206667</td>\n      <td>0.049306</td>\n    </tr>\n    <tr>\n      <th>2</th>\n      <td>2</td>\n      <td>2.994074</td>\n      <td>0.008086</td>\n      <td>2.990311</td>\n      <td>0.053129</td>\n    </tr>\n    <tr>\n      <th>3</th>\n      <td>3</td>\n      <td>2.821829</td>\n      <td>0.010394</td>\n      <td>2.818621</td>\n      <td>0.053923</td>\n    </tr>\n    <tr>\n      <th>4</th>\n      <td>4</td>\n      <td>2.681456</td>\n      <td>0.014723</td>\n      <td>2.677982</td>\n      <td>0.049678</td>\n    </tr>\n    <tr>\n      <th>...</th>\n      <td>...</td>\n      <td>...</td>\n      <td>...</td>\n      <td>...</td>\n      <td>...</td>\n    </tr>\n    <tr>\n      <th>995</th>\n      <td>995</td>\n      <td>0.798515</td>\n      <td>0.220257</td>\n      <td>0.493800</td>\n      <td>0.069924</td>\n    </tr>\n    <tr>\n      <th>996</th>\n      <td>996</td>\n      <td>0.798455</td>\n      <td>0.220367</td>\n      <td>0.493611</td>\n      <td>0.069901</td>\n    </tr>\n    <tr>\n      <th>997</th>\n      <td>997</td>\n      <td>0.798418</td>\n      <td>0.220389</td>\n      <td>0.493346</td>\n      <td>0.069914</td>\n    </tr>\n    <tr>\n      <th>998</th>\n      <td>998</td>\n      <td>0.798410</td>\n      <td>0.220380</td>\n      <td>0.493214</td>\n      <td>0.069998</td>\n    </tr>\n    <tr>\n      <th>999</th>\n      <td>999</td>\n      <td>0.798328</td>\n      <td>0.220488</td>\n      <td>0.492932</td>\n      <td>0.070008</td>\n    </tr>\n  </tbody>\n</table>\n<p>1000 rows × 5 columns</p>\n</div>"
     },
     "execution_count": 101,
     "metadata": {},
     "output_type": "execute_result"
    }
   ],
   "source": [
    "cv_data"
   ],
   "metadata": {
    "collapsed": false,
    "pycharm": {
     "name": "#%%\n"
    }
   }
  },
  {
   "cell_type": "code",
   "execution_count": 134,
   "outputs": [],
   "source": [
    "model = CatBoostClassifier(early_stopping_rounds=20, iterations=1000, loss_function='MultiClass')"
   ],
   "metadata": {
    "collapsed": false,
    "pycharm": {
     "name": "#%%\n"
    }
   }
  },
  {
   "cell_type": "code",
   "execution_count": 149,
   "outputs": [],
   "source": [
    "train_pool = Pool(X_train, y_train)\n",
    "validate_pool = Pool(X_validate, y_validate)"
   ],
   "metadata": {
    "collapsed": false,
    "pycharm": {
     "name": "#%%\n"
    }
   }
  },
  {
   "cell_type": "code",
   "execution_count": 147,
   "outputs": [
    {
     "data": {
      "text/plain": "set()"
     },
     "execution_count": 147,
     "metadata": {},
     "output_type": "execute_result"
    }
   ],
   "source": [
    "set(y_validate) - set(y_train)"
   ],
   "metadata": {
    "collapsed": false,
    "pycharm": {
     "name": "#%%\n"
    }
   }
  },
  {
   "cell_type": "code",
   "execution_count": 150,
   "outputs": [
    {
     "name": "stderr",
     "output_type": "stream",
     "text": [
      "Custom logger is already specified. Specify more than one logger at same time is not thread safe."
     ]
    },
    {
     "data": {
      "text/plain": "MetricVisualizer(layout=Layout(align_self='stretch', height='500px'))",
      "application/vnd.jupyter.widget-view+json": {
       "version_major": 2,
       "version_minor": 0,
       "model_id": "81190609402c425b84c0816389ee20e4"
      }
     },
     "metadata": {},
     "output_type": "display_data"
    },
    {
     "name": "stdout",
     "output_type": "stream",
     "text": [
      "Learning rate set to 0.111916\n",
      "0:\tlearn: 1.7702613\ttest: 1.7203284\tbest: 1.7203284 (0)\ttotal: 246ms\tremaining: 4m 6s\n",
      "1:\tlearn: 1.4452155\ttest: 1.4197730\tbest: 1.4197730 (1)\ttotal: 406ms\tremaining: 3m 22s\n",
      "2:\tlearn: 1.3229678\ttest: 1.3051459\tbest: 1.3051459 (2)\ttotal: 571ms\tremaining: 3m 9s\n",
      "3:\tlearn: 1.2256539\ttest: 1.2092752\tbest: 1.2092752 (3)\ttotal: 725ms\tremaining: 3m\n",
      "4:\tlearn: 1.1704371\ttest: 1.1563472\tbest: 1.1563472 (4)\ttotal: 927ms\tremaining: 3m 4s\n",
      "5:\tlearn: 1.1236253\ttest: 1.1124478\tbest: 1.1124478 (5)\ttotal: 1.08s\tremaining: 2m 59s\n",
      "6:\tlearn: 1.0915321\ttest: 1.0804660\tbest: 1.0804660 (6)\ttotal: 1.25s\tremaining: 2m 57s\n",
      "7:\tlearn: 1.0595161\ttest: 1.0492349\tbest: 1.0492349 (7)\ttotal: 1.43s\tremaining: 2m 57s\n",
      "8:\tlearn: 1.0370630\ttest: 1.0274253\tbest: 1.0274253 (8)\ttotal: 1.61s\tremaining: 2m 57s\n",
      "9:\tlearn: 1.0135506\ttest: 1.0064138\tbest: 1.0064138 (9)\ttotal: 1.77s\tremaining: 2m 55s\n",
      "10:\tlearn: 0.9960663\ttest: 0.9908941\tbest: 0.9908941 (10)\ttotal: 2.02s\tremaining: 3m 1s\n",
      "11:\tlearn: 0.9748519\ttest: 0.9713766\tbest: 0.9713766 (11)\ttotal: 2.17s\tremaining: 2m 59s\n",
      "12:\tlearn: 0.9572754\ttest: 0.9555072\tbest: 0.9555072 (12)\ttotal: 2.38s\tremaining: 3m\n",
      "13:\tlearn: 0.9424486\ttest: 0.9415629\tbest: 0.9415629 (13)\ttotal: 2.63s\tremaining: 3m 5s\n",
      "14:\tlearn: 0.9274354\ttest: 0.9278618\tbest: 0.9278618 (14)\ttotal: 2.81s\tremaining: 3m 4s\n",
      "15:\tlearn: 0.9123221\ttest: 0.9162235\tbest: 0.9162235 (15)\ttotal: 2.99s\tremaining: 3m 3s\n",
      "16:\tlearn: 0.8969561\ttest: 0.9019874\tbest: 0.9019874 (16)\ttotal: 3.19s\tremaining: 3m 4s\n",
      "17:\tlearn: 0.8888417\ttest: 0.8941908\tbest: 0.8941908 (17)\ttotal: 3.4s\tremaining: 3m 5s\n",
      "18:\tlearn: 0.8810431\ttest: 0.8880203\tbest: 0.8880203 (18)\ttotal: 3.62s\tremaining: 3m 6s\n",
      "19:\tlearn: 0.8760897\ttest: 0.8829384\tbest: 0.8829384 (19)\ttotal: 3.8s\tremaining: 3m 6s\n",
      "20:\tlearn: 0.8710489\ttest: 0.8774259\tbest: 0.8774259 (20)\ttotal: 4s\tremaining: 3m 6s\n",
      "21:\tlearn: 0.8641902\ttest: 0.8720283\tbest: 0.8720283 (21)\ttotal: 4.66s\tremaining: 3m 27s\n",
      "22:\tlearn: 0.8595638\ttest: 0.8679967\tbest: 0.8679967 (22)\ttotal: 5.11s\tremaining: 3m 36s\n",
      "23:\tlearn: 0.8494060\ttest: 0.8602394\tbest: 0.8602394 (23)\ttotal: 5.3s\tremaining: 3m 35s\n",
      "24:\tlearn: 0.8443572\ttest: 0.8567788\tbest: 0.8567788 (24)\ttotal: 5.54s\tremaining: 3m 36s\n",
      "25:\tlearn: 0.8375597\ttest: 0.8513817\tbest: 0.8513817 (25)\ttotal: 5.72s\tremaining: 3m 34s\n",
      "26:\tlearn: 0.8335509\ttest: 0.8474922\tbest: 0.8474922 (26)\ttotal: 5.93s\tremaining: 3m 33s\n",
      "27:\tlearn: 0.8273463\ttest: 0.8423133\tbest: 0.8423133 (27)\ttotal: 6.1s\tremaining: 3m 31s\n",
      "28:\tlearn: 0.8209607\ttest: 0.8369004\tbest: 0.8369004 (28)\ttotal: 6.31s\tremaining: 3m 31s\n",
      "29:\tlearn: 0.8187966\ttest: 0.8353500\tbest: 0.8353500 (29)\ttotal: 6.53s\tremaining: 3m 31s\n",
      "30:\tlearn: 0.8165462\ttest: 0.8334453\tbest: 0.8334453 (30)\ttotal: 6.76s\tremaining: 3m 31s\n",
      "31:\tlearn: 0.8129566\ttest: 0.8309712\tbest: 0.8309712 (31)\ttotal: 7.02s\tremaining: 3m 32s\n",
      "32:\tlearn: 0.8106225\ttest: 0.8292083\tbest: 0.8292083 (32)\ttotal: 7.36s\tremaining: 3m 35s\n",
      "33:\tlearn: 0.8067846\ttest: 0.8266892\tbest: 0.8266892 (33)\ttotal: 7.6s\tremaining: 3m 36s\n",
      "34:\tlearn: 0.8044525\ttest: 0.8252658\tbest: 0.8252658 (34)\ttotal: 7.83s\tremaining: 3m 35s\n",
      "35:\tlearn: 0.8012093\ttest: 0.8227272\tbest: 0.8227272 (35)\ttotal: 8.02s\tremaining: 3m 34s\n",
      "36:\tlearn: 0.7955753\ttest: 0.8181349\tbest: 0.8181349 (36)\ttotal: 8.19s\tremaining: 3m 33s\n",
      "37:\tlearn: 0.7928338\ttest: 0.8158838\tbest: 0.8158838 (37)\ttotal: 8.37s\tremaining: 3m 31s\n",
      "38:\tlearn: 0.7882048\ttest: 0.8123360\tbest: 0.8123360 (38)\ttotal: 8.59s\tremaining: 3m 31s\n",
      "39:\tlearn: 0.7851758\ttest: 0.8094164\tbest: 0.8094164 (39)\ttotal: 8.79s\tremaining: 3m 30s\n",
      "40:\tlearn: 0.7825360\ttest: 0.8064681\tbest: 0.8064681 (40)\ttotal: 8.99s\tremaining: 3m 30s\n",
      "41:\tlearn: 0.7811882\ttest: 0.8058671\tbest: 0.8058671 (41)\ttotal: 9.17s\tremaining: 3m 29s\n",
      "42:\tlearn: 0.7796980\ttest: 0.8045496\tbest: 0.8045496 (42)\ttotal: 9.46s\tremaining: 3m 30s\n",
      "43:\tlearn: 0.7745286\ttest: 0.8005131\tbest: 0.8005131 (43)\ttotal: 9.62s\tremaining: 3m 28s\n",
      "44:\tlearn: 0.7709532\ttest: 0.7976558\tbest: 0.7976558 (44)\ttotal: 9.82s\tremaining: 3m 28s\n",
      "45:\tlearn: 0.7650495\ttest: 0.7930975\tbest: 0.7930975 (45)\ttotal: 10.1s\tremaining: 3m 28s\n",
      "46:\tlearn: 0.7620391\ttest: 0.7908437\tbest: 0.7908437 (46)\ttotal: 10.3s\tremaining: 3m 28s\n",
      "47:\tlearn: 0.7589145\ttest: 0.7889414\tbest: 0.7889414 (47)\ttotal: 10.5s\tremaining: 3m 27s\n",
      "48:\tlearn: 0.7574869\ttest: 0.7882604\tbest: 0.7882604 (48)\ttotal: 10.8s\tremaining: 3m 30s\n",
      "49:\tlearn: 0.7559905\ttest: 0.7872188\tbest: 0.7872188 (49)\ttotal: 11.1s\tremaining: 3m 30s\n",
      "50:\tlearn: 0.7538741\ttest: 0.7855239\tbest: 0.7855239 (50)\ttotal: 11.5s\tremaining: 3m 34s\n",
      "51:\tlearn: 0.7495263\ttest: 0.7820243\tbest: 0.7820243 (51)\ttotal: 11.9s\tremaining: 3m 37s\n",
      "52:\tlearn: 0.7478435\ttest: 0.7811664\tbest: 0.7811664 (52)\ttotal: 12.3s\tremaining: 3m 40s\n",
      "53:\tlearn: 0.7471071\ttest: 0.7808053\tbest: 0.7808053 (53)\ttotal: 12.6s\tremaining: 3m 41s\n",
      "54:\tlearn: 0.7460503\ttest: 0.7798715\tbest: 0.7798715 (54)\ttotal: 12.9s\tremaining: 3m 42s\n",
      "55:\tlearn: 0.7447719\ttest: 0.7790789\tbest: 0.7790789 (55)\ttotal: 13.3s\tremaining: 3m 43s\n",
      "56:\tlearn: 0.7436012\ttest: 0.7783140\tbest: 0.7783140 (56)\ttotal: 13.5s\tremaining: 3m 43s\n",
      "57:\tlearn: 0.7419814\ttest: 0.7772115\tbest: 0.7772115 (57)\ttotal: 13.7s\tremaining: 3m 42s\n",
      "58:\tlearn: 0.7410401\ttest: 0.7767526\tbest: 0.7767526 (58)\ttotal: 13.9s\tremaining: 3m 41s\n",
      "59:\tlearn: 0.7376521\ttest: 0.7746532\tbest: 0.7746532 (59)\ttotal: 14.1s\tremaining: 3m 40s\n",
      "60:\tlearn: 0.7348550\ttest: 0.7730448\tbest: 0.7730448 (60)\ttotal: 14.3s\tremaining: 3m 40s\n",
      "61:\tlearn: 0.7333377\ttest: 0.7723458\tbest: 0.7723458 (61)\ttotal: 14.5s\tremaining: 3m 39s\n",
      "62:\tlearn: 0.7320471\ttest: 0.7718808\tbest: 0.7718808 (62)\ttotal: 14.7s\tremaining: 3m 38s\n",
      "63:\tlearn: 0.7282196\ttest: 0.7696276\tbest: 0.7696276 (63)\ttotal: 14.9s\tremaining: 3m 38s\n",
      "64:\tlearn: 0.7262895\ttest: 0.7680734\tbest: 0.7680734 (64)\ttotal: 15.2s\tremaining: 3m 38s\n",
      "65:\tlearn: 0.7244662\ttest: 0.7670282\tbest: 0.7670282 (65)\ttotal: 15.4s\tremaining: 3m 38s\n",
      "66:\tlearn: 0.7229112\ttest: 0.7662008\tbest: 0.7662008 (66)\ttotal: 15.8s\tremaining: 3m 40s\n",
      "67:\tlearn: 0.7183990\ttest: 0.7628499\tbest: 0.7628499 (67)\ttotal: 16s\tremaining: 3m 39s\n",
      "68:\tlearn: 0.7154071\ttest: 0.7607787\tbest: 0.7607787 (68)\ttotal: 16.3s\tremaining: 3m 39s\n",
      "69:\tlearn: 0.7148455\ttest: 0.7604225\tbest: 0.7604225 (69)\ttotal: 16.5s\tremaining: 3m 38s\n",
      "70:\tlearn: 0.7124906\ttest: 0.7594959\tbest: 0.7594959 (70)\ttotal: 16.7s\tremaining: 3m 39s\n",
      "71:\tlearn: 0.7100803\ttest: 0.7576316\tbest: 0.7576316 (71)\ttotal: 17.1s\tremaining: 3m 39s\n",
      "72:\tlearn: 0.7093566\ttest: 0.7572918\tbest: 0.7572918 (72)\ttotal: 17.3s\tremaining: 3m 39s\n",
      "73:\tlearn: 0.7080777\ttest: 0.7560181\tbest: 0.7560181 (73)\ttotal: 17.5s\tremaining: 3m 38s\n",
      "74:\tlearn: 0.7074671\ttest: 0.7557981\tbest: 0.7557981 (74)\ttotal: 17.7s\tremaining: 3m 38s\n",
      "75:\tlearn: 0.7068056\ttest: 0.7556374\tbest: 0.7556374 (75)\ttotal: 17.9s\tremaining: 3m 37s\n",
      "76:\tlearn: 0.7056711\ttest: 0.7546882\tbest: 0.7546882 (76)\ttotal: 18.1s\tremaining: 3m 37s\n",
      "77:\tlearn: 0.7049215\ttest: 0.7543519\tbest: 0.7543519 (77)\ttotal: 18.3s\tremaining: 3m 36s\n",
      "78:\tlearn: 0.7032823\ttest: 0.7538781\tbest: 0.7538781 (78)\ttotal: 18.5s\tremaining: 3m 36s\n",
      "79:\tlearn: 0.7001817\ttest: 0.7512660\tbest: 0.7512660 (79)\ttotal: 18.7s\tremaining: 3m 35s\n",
      "80:\tlearn: 0.6997193\ttest: 0.7507799\tbest: 0.7507799 (80)\ttotal: 18.9s\tremaining: 3m 34s\n",
      "81:\tlearn: 0.6972974\ttest: 0.7486112\tbest: 0.7486112 (81)\ttotal: 19.1s\tremaining: 3m 34s\n",
      "82:\tlearn: 0.6964321\ttest: 0.7480547\tbest: 0.7480547 (82)\ttotal: 19.3s\tremaining: 3m 33s\n",
      "83:\tlearn: 0.6955688\ttest: 0.7475473\tbest: 0.7475473 (83)\ttotal: 19.5s\tremaining: 3m 32s\n",
      "84:\tlearn: 0.6911057\ttest: 0.7439611\tbest: 0.7439611 (84)\ttotal: 19.7s\tremaining: 3m 31s\n",
      "85:\tlearn: 0.6897165\ttest: 0.7425664\tbest: 0.7425664 (85)\ttotal: 19.9s\tremaining: 3m 31s\n",
      "86:\tlearn: 0.6869973\ttest: 0.7407507\tbest: 0.7407507 (86)\ttotal: 20.1s\tremaining: 3m 31s\n",
      "87:\tlearn: 0.6819625\ttest: 0.7374956\tbest: 0.7374956 (87)\ttotal: 20.3s\tremaining: 3m 30s\n",
      "88:\tlearn: 0.6800040\ttest: 0.7356718\tbest: 0.7356718 (88)\ttotal: 20.5s\tremaining: 3m 30s\n",
      "89:\tlearn: 0.6786315\ttest: 0.7346606\tbest: 0.7346606 (89)\ttotal: 20.8s\tremaining: 3m 29s\n",
      "90:\tlearn: 0.6771791\ttest: 0.7338839\tbest: 0.7338839 (90)\ttotal: 21s\tremaining: 3m 29s\n",
      "91:\tlearn: 0.6739540\ttest: 0.7317741\tbest: 0.7317741 (91)\ttotal: 21.2s\tremaining: 3m 28s\n",
      "92:\tlearn: 0.6716640\ttest: 0.7304240\tbest: 0.7304240 (92)\ttotal: 21.4s\tremaining: 3m 28s\n",
      "93:\tlearn: 0.6687127\ttest: 0.7286450\tbest: 0.7286450 (93)\ttotal: 21.6s\tremaining: 3m 27s\n",
      "94:\tlearn: 0.6656182\ttest: 0.7265295\tbest: 0.7265295 (94)\ttotal: 21.7s\tremaining: 3m 27s\n",
      "95:\tlearn: 0.6649682\ttest: 0.7262058\tbest: 0.7262058 (95)\ttotal: 22s\tremaining: 3m 27s\n",
      "96:\tlearn: 0.6626944\ttest: 0.7244939\tbest: 0.7244939 (96)\ttotal: 22.2s\tremaining: 3m 26s\n",
      "97:\tlearn: 0.6594627\ttest: 0.7226741\tbest: 0.7226741 (97)\ttotal: 22.4s\tremaining: 3m 25s\n",
      "98:\tlearn: 0.6573802\ttest: 0.7211909\tbest: 0.7211909 (98)\ttotal: 22.6s\tremaining: 3m 25s\n",
      "99:\tlearn: 0.6558012\ttest: 0.7203727\tbest: 0.7203727 (99)\ttotal: 22.8s\tremaining: 3m 25s\n",
      "100:\tlearn: 0.6546022\ttest: 0.7194582\tbest: 0.7194582 (100)\ttotal: 23s\tremaining: 3m 24s\n",
      "101:\tlearn: 0.6527525\ttest: 0.7181403\tbest: 0.7181403 (101)\ttotal: 23.2s\tremaining: 3m 24s\n",
      "102:\tlearn: 0.6508157\ttest: 0.7170256\tbest: 0.7170256 (102)\ttotal: 23.4s\tremaining: 3m 23s\n",
      "103:\tlearn: 0.6496379\ttest: 0.7164549\tbest: 0.7164549 (103)\ttotal: 23.6s\tremaining: 3m 23s\n",
      "104:\tlearn: 0.6473854\ttest: 0.7154851\tbest: 0.7154851 (104)\ttotal: 23.9s\tremaining: 3m 23s\n",
      "105:\tlearn: 0.6441349\ttest: 0.7139356\tbest: 0.7139356 (105)\ttotal: 24.1s\tremaining: 3m 23s\n",
      "106:\tlearn: 0.6423425\ttest: 0.7123487\tbest: 0.7123487 (106)\ttotal: 24.3s\tremaining: 3m 23s\n",
      "107:\tlearn: 0.6420803\ttest: 0.7123617\tbest: 0.7123487 (106)\ttotal: 24.6s\tremaining: 3m 23s\n",
      "108:\tlearn: 0.6406018\ttest: 0.7117174\tbest: 0.7117174 (108)\ttotal: 24.9s\tremaining: 3m 23s\n",
      "109:\tlearn: 0.6385088\ttest: 0.7102384\tbest: 0.7102384 (109)\ttotal: 25.1s\tremaining: 3m 23s\n",
      "110:\tlearn: 0.6368314\ttest: 0.7091485\tbest: 0.7091485 (110)\ttotal: 25.4s\tremaining: 3m 23s\n",
      "111:\tlearn: 0.6358786\ttest: 0.7088724\tbest: 0.7088724 (111)\ttotal: 25.6s\tremaining: 3m 22s\n",
      "112:\tlearn: 0.6345098\ttest: 0.7079187\tbest: 0.7079187 (112)\ttotal: 25.7s\tremaining: 3m 22s\n",
      "113:\tlearn: 0.6336533\ttest: 0.7075361\tbest: 0.7075361 (113)\ttotal: 26s\tremaining: 3m 21s\n",
      "114:\tlearn: 0.6318732\ttest: 0.7068432\tbest: 0.7068432 (114)\ttotal: 26.2s\tremaining: 3m 21s\n",
      "115:\tlearn: 0.6312523\ttest: 0.7062471\tbest: 0.7062471 (115)\ttotal: 26.4s\tremaining: 3m 21s\n",
      "116:\tlearn: 0.6299393\ttest: 0.7057261\tbest: 0.7057261 (116)\ttotal: 26.7s\tremaining: 3m 21s\n",
      "117:\tlearn: 0.6296515\ttest: 0.7055660\tbest: 0.7055660 (117)\ttotal: 26.9s\tremaining: 3m 21s\n",
      "118:\tlearn: 0.6275094\ttest: 0.7046588\tbest: 0.7046588 (118)\ttotal: 27.1s\tremaining: 3m 20s\n",
      "119:\tlearn: 0.6258550\ttest: 0.7035201\tbest: 0.7035201 (119)\ttotal: 27.3s\tremaining: 3m 20s\n",
      "120:\tlearn: 0.6241522\ttest: 0.7019264\tbest: 0.7019264 (120)\ttotal: 27.5s\tremaining: 3m 19s\n",
      "121:\tlearn: 0.6224358\ttest: 0.7010444\tbest: 0.7010444 (121)\ttotal: 27.7s\tremaining: 3m 19s\n",
      "122:\tlearn: 0.6214369\ttest: 0.7006510\tbest: 0.7006510 (122)\ttotal: 27.9s\tremaining: 3m 18s\n",
      "123:\tlearn: 0.6203588\ttest: 0.6997226\tbest: 0.6997226 (123)\ttotal: 28.2s\tremaining: 3m 19s\n",
      "124:\tlearn: 0.6184970\ttest: 0.6978521\tbest: 0.6978521 (124)\ttotal: 28.4s\tremaining: 3m 18s\n",
      "125:\tlearn: 0.6171867\ttest: 0.6970139\tbest: 0.6970139 (125)\ttotal: 28.6s\tremaining: 3m 18s\n",
      "126:\tlearn: 0.6167662\ttest: 0.6967124\tbest: 0.6967124 (126)\ttotal: 29s\tremaining: 3m 19s\n",
      "127:\tlearn: 0.6146953\ttest: 0.6950634\tbest: 0.6950634 (127)\ttotal: 29.2s\tremaining: 3m 19s\n",
      "128:\tlearn: 0.6127232\ttest: 0.6942456\tbest: 0.6942456 (128)\ttotal: 29.4s\tremaining: 3m 18s\n",
      "129:\tlearn: 0.6124109\ttest: 0.6941915\tbest: 0.6941915 (129)\ttotal: 29.6s\tremaining: 3m 18s\n",
      "130:\tlearn: 0.6116408\ttest: 0.6938300\tbest: 0.6938300 (130)\ttotal: 29.9s\tremaining: 3m 18s\n",
      "131:\tlearn: 0.6099306\ttest: 0.6923892\tbest: 0.6923892 (131)\ttotal: 30.1s\tremaining: 3m 18s\n",
      "132:\tlearn: 0.6090498\ttest: 0.6917460\tbest: 0.6917460 (132)\ttotal: 30.3s\tremaining: 3m 17s\n",
      "133:\tlearn: 0.6073103\ttest: 0.6904939\tbest: 0.6904939 (133)\ttotal: 30.5s\tremaining: 3m 17s\n",
      "134:\tlearn: 0.6069634\ttest: 0.6903218\tbest: 0.6903218 (134)\ttotal: 30.8s\tremaining: 3m 17s\n",
      "135:\tlearn: 0.6049371\ttest: 0.6885711\tbest: 0.6885711 (135)\ttotal: 31.1s\tremaining: 3m 17s\n",
      "136:\tlearn: 0.6042491\ttest: 0.6880462\tbest: 0.6880462 (136)\ttotal: 31.3s\tremaining: 3m 17s\n",
      "137:\tlearn: 0.6033315\ttest: 0.6873583\tbest: 0.6873583 (137)\ttotal: 31.5s\tremaining: 3m 16s\n",
      "138:\tlearn: 0.6018003\ttest: 0.6867728\tbest: 0.6867728 (138)\ttotal: 31.7s\tremaining: 3m 16s\n",
      "139:\tlearn: 0.6014090\ttest: 0.6865585\tbest: 0.6865585 (139)\ttotal: 32s\tremaining: 3m 16s\n",
      "140:\tlearn: 0.6001124\ttest: 0.6859534\tbest: 0.6859534 (140)\ttotal: 32.2s\tremaining: 3m 15s\n",
      "141:\tlearn: 0.5995980\ttest: 0.6858684\tbest: 0.6858684 (141)\ttotal: 32.4s\tremaining: 3m 15s\n",
      "142:\tlearn: 0.5972965\ttest: 0.6849012\tbest: 0.6849012 (142)\ttotal: 32.6s\tremaining: 3m 15s\n",
      "143:\tlearn: 0.5967750\ttest: 0.6844452\tbest: 0.6844452 (143)\ttotal: 32.8s\tremaining: 3m 15s\n",
      "144:\tlearn: 0.5952705\ttest: 0.6833209\tbest: 0.6833209 (144)\ttotal: 33s\tremaining: 3m 14s\n",
      "145:\tlearn: 0.5941213\ttest: 0.6827354\tbest: 0.6827354 (145)\ttotal: 33.4s\tremaining: 3m 15s\n",
      "146:\tlearn: 0.5934523\ttest: 0.6825149\tbest: 0.6825149 (146)\ttotal: 33.6s\tremaining: 3m 15s\n",
      "147:\tlearn: 0.5923396\ttest: 0.6815969\tbest: 0.6815969 (147)\ttotal: 33.8s\tremaining: 3m 14s\n",
      "148:\tlearn: 0.5917449\ttest: 0.6813707\tbest: 0.6813707 (148)\ttotal: 34s\tremaining: 3m 14s\n",
      "149:\tlearn: 0.5912217\ttest: 0.6808567\tbest: 0.6808567 (149)\ttotal: 34.3s\tremaining: 3m 14s\n",
      "150:\tlearn: 0.5892066\ttest: 0.6796742\tbest: 0.6796742 (150)\ttotal: 34.5s\tremaining: 3m 13s\n",
      "151:\tlearn: 0.5878245\ttest: 0.6788450\tbest: 0.6788450 (151)\ttotal: 34.7s\tremaining: 3m 13s\n",
      "152:\tlearn: 0.5857180\ttest: 0.6774539\tbest: 0.6774539 (152)\ttotal: 34.9s\tremaining: 3m 13s\n",
      "153:\tlearn: 0.5849524\ttest: 0.6767989\tbest: 0.6767989 (153)\ttotal: 35.1s\tremaining: 3m 13s\n",
      "154:\tlearn: 0.5846079\ttest: 0.6767688\tbest: 0.6767688 (154)\ttotal: 35.3s\tremaining: 3m 12s\n",
      "155:\tlearn: 0.5832405\ttest: 0.6767703\tbest: 0.6767688 (154)\ttotal: 35.6s\tremaining: 3m 12s\n",
      "156:\tlearn: 0.5825304\ttest: 0.6766803\tbest: 0.6766803 (156)\ttotal: 35.8s\tremaining: 3m 12s\n",
      "157:\tlearn: 0.5811381\ttest: 0.6757170\tbest: 0.6757170 (157)\ttotal: 36s\tremaining: 3m 12s\n",
      "158:\tlearn: 0.5798928\ttest: 0.6754799\tbest: 0.6754799 (158)\ttotal: 36.4s\tremaining: 3m 12s\n",
      "159:\tlearn: 0.5793336\ttest: 0.6751598\tbest: 0.6751598 (159)\ttotal: 36.6s\tremaining: 3m 12s\n",
      "160:\tlearn: 0.5781635\ttest: 0.6742380\tbest: 0.6742380 (160)\ttotal: 36.8s\tremaining: 3m 12s\n",
      "161:\tlearn: 0.5771528\ttest: 0.6736794\tbest: 0.6736794 (161)\ttotal: 37s\tremaining: 3m 11s\n",
      "162:\tlearn: 0.5765298\ttest: 0.6734482\tbest: 0.6734482 (162)\ttotal: 37.3s\tremaining: 3m 11s\n",
      "163:\tlearn: 0.5764246\ttest: 0.6733727\tbest: 0.6733727 (163)\ttotal: 37.5s\tremaining: 3m 11s\n",
      "164:\tlearn: 0.5760325\ttest: 0.6731640\tbest: 0.6731640 (164)\ttotal: 37.7s\tremaining: 3m 10s\n",
      "165:\tlearn: 0.5758018\ttest: 0.6730158\tbest: 0.6730158 (165)\ttotal: 37.9s\tremaining: 3m 10s\n",
      "166:\tlearn: 0.5747407\ttest: 0.6722929\tbest: 0.6722929 (166)\ttotal: 38.2s\tremaining: 3m 10s\n",
      "167:\tlearn: 0.5741538\ttest: 0.6718761\tbest: 0.6718761 (167)\ttotal: 38.5s\tremaining: 3m 10s\n",
      "168:\tlearn: 0.5726796\ttest: 0.6711441\tbest: 0.6711441 (168)\ttotal: 38.7s\tremaining: 3m 10s\n",
      "169:\tlearn: 0.5716428\ttest: 0.6707428\tbest: 0.6707428 (169)\ttotal: 38.9s\tremaining: 3m 9s\n",
      "170:\tlearn: 0.5709109\ttest: 0.6705799\tbest: 0.6705799 (170)\ttotal: 39.1s\tremaining: 3m 9s\n",
      "171:\tlearn: 0.5702524\ttest: 0.6703542\tbest: 0.6703542 (171)\ttotal: 39.3s\tremaining: 3m 9s\n",
      "172:\tlearn: 0.5693810\ttest: 0.6699969\tbest: 0.6699969 (172)\ttotal: 39.6s\tremaining: 3m 9s\n",
      "173:\tlearn: 0.5688194\ttest: 0.6695779\tbest: 0.6695779 (173)\ttotal: 39.8s\tremaining: 3m 9s\n",
      "174:\tlearn: 0.5675936\ttest: 0.6683295\tbest: 0.6683295 (174)\ttotal: 40s\tremaining: 3m 8s\n",
      "175:\tlearn: 0.5667617\ttest: 0.6679132\tbest: 0.6679132 (175)\ttotal: 40.2s\tremaining: 3m 8s\n",
      "176:\tlearn: 0.5657457\ttest: 0.6671117\tbest: 0.6671117 (176)\ttotal: 40.4s\tremaining: 3m 7s\n",
      "177:\tlearn: 0.5641776\ttest: 0.6662657\tbest: 0.6662657 (177)\ttotal: 40.6s\tremaining: 3m 7s\n",
      "178:\tlearn: 0.5637106\ttest: 0.6659534\tbest: 0.6659534 (178)\ttotal: 40.8s\tremaining: 3m 7s\n",
      "179:\tlearn: 0.5634555\ttest: 0.6657813\tbest: 0.6657813 (179)\ttotal: 41s\tremaining: 3m 6s\n",
      "180:\tlearn: 0.5631189\ttest: 0.6657009\tbest: 0.6657009 (180)\ttotal: 41.2s\tremaining: 3m 6s\n",
      "181:\tlearn: 0.5628377\ttest: 0.6654812\tbest: 0.6654812 (181)\ttotal: 41.4s\tremaining: 3m 6s\n",
      "182:\tlearn: 0.5622025\ttest: 0.6651972\tbest: 0.6651972 (182)\ttotal: 41.6s\tremaining: 3m 5s\n",
      "183:\tlearn: 0.5617244\ttest: 0.6650278\tbest: 0.6650278 (183)\ttotal: 41.8s\tremaining: 3m 5s\n",
      "184:\tlearn: 0.5603532\ttest: 0.6638804\tbest: 0.6638804 (184)\ttotal: 42.1s\tremaining: 3m 5s\n",
      "185:\tlearn: 0.5596145\ttest: 0.6633947\tbest: 0.6633947 (185)\ttotal: 42.3s\tremaining: 3m 5s\n",
      "186:\tlearn: 0.5590070\ttest: 0.6631708\tbest: 0.6631708 (186)\ttotal: 42.5s\tremaining: 3m 4s\n",
      "187:\tlearn: 0.5586075\ttest: 0.6630323\tbest: 0.6630323 (187)\ttotal: 42.8s\tremaining: 3m 4s\n",
      "188:\tlearn: 0.5583031\ttest: 0.6630742\tbest: 0.6630323 (187)\ttotal: 43s\tremaining: 3m 4s\n",
      "189:\tlearn: 0.5579245\ttest: 0.6628151\tbest: 0.6628151 (189)\ttotal: 43.2s\tremaining: 3m 4s\n",
      "190:\tlearn: 0.5573114\ttest: 0.6625343\tbest: 0.6625343 (190)\ttotal: 43.4s\tremaining: 3m 3s\n",
      "191:\tlearn: 0.5567964\ttest: 0.6622596\tbest: 0.6622596 (191)\ttotal: 43.6s\tremaining: 3m 3s\n",
      "192:\tlearn: 0.5558592\ttest: 0.6617223\tbest: 0.6617223 (192)\ttotal: 43.8s\tremaining: 3m 3s\n",
      "193:\tlearn: 0.5551052\ttest: 0.6611819\tbest: 0.6611819 (193)\ttotal: 44s\tremaining: 3m 2s\n",
      "194:\tlearn: 0.5543659\ttest: 0.6609334\tbest: 0.6609334 (194)\ttotal: 44.2s\tremaining: 3m 2s\n",
      "195:\tlearn: 0.5525423\ttest: 0.6605779\tbest: 0.6605779 (195)\ttotal: 44.5s\tremaining: 3m 2s\n",
      "196:\tlearn: 0.5519124\ttest: 0.6604309\tbest: 0.6604309 (196)\ttotal: 44.7s\tremaining: 3m 2s\n",
      "197:\tlearn: 0.5509595\ttest: 0.6601121\tbest: 0.6601121 (197)\ttotal: 44.9s\tremaining: 3m 1s\n",
      "198:\tlearn: 0.5496689\ttest: 0.6595921\tbest: 0.6595921 (198)\ttotal: 45.1s\tremaining: 3m 1s\n",
      "199:\tlearn: 0.5487090\ttest: 0.6590167\tbest: 0.6590167 (199)\ttotal: 45.3s\tremaining: 3m 1s\n",
      "200:\tlearn: 0.5482670\ttest: 0.6588300\tbest: 0.6588300 (200)\ttotal: 45.6s\tremaining: 3m 1s\n",
      "201:\tlearn: 0.5472305\ttest: 0.6584312\tbest: 0.6584312 (201)\ttotal: 45.8s\tremaining: 3m 1s\n",
      "202:\tlearn: 0.5464392\ttest: 0.6576986\tbest: 0.6576986 (202)\ttotal: 46.1s\tremaining: 3m\n",
      "203:\tlearn: 0.5452643\ttest: 0.6568073\tbest: 0.6568073 (203)\ttotal: 46.3s\tremaining: 3m\n",
      "204:\tlearn: 0.5444172\ttest: 0.6565643\tbest: 0.6565643 (204)\ttotal: 46.4s\tremaining: 3m\n",
      "205:\tlearn: 0.5436601\ttest: 0.6561196\tbest: 0.6561196 (205)\ttotal: 46.7s\tremaining: 2m 59s\n",
      "206:\tlearn: 0.5427845\ttest: 0.6559899\tbest: 0.6559899 (206)\ttotal: 46.9s\tremaining: 2m 59s\n",
      "207:\tlearn: 0.5422609\ttest: 0.6559444\tbest: 0.6559444 (207)\ttotal: 47.1s\tremaining: 2m 59s\n",
      "208:\tlearn: 0.5420986\ttest: 0.6559582\tbest: 0.6559444 (207)\ttotal: 47.3s\tremaining: 2m 59s\n",
      "209:\tlearn: 0.5414185\ttest: 0.6555174\tbest: 0.6555174 (209)\ttotal: 47.6s\tremaining: 2m 58s\n",
      "210:\tlearn: 0.5409010\ttest: 0.6555059\tbest: 0.6555059 (210)\ttotal: 47.8s\tremaining: 2m 58s\n",
      "211:\tlearn: 0.5399892\ttest: 0.6550210\tbest: 0.6550210 (211)\ttotal: 48s\tremaining: 2m 58s\n",
      "212:\tlearn: 0.5393235\ttest: 0.6546994\tbest: 0.6546994 (212)\ttotal: 48.2s\tremaining: 2m 57s\n",
      "213:\tlearn: 0.5386916\ttest: 0.6542860\tbest: 0.6542860 (213)\ttotal: 48.4s\tremaining: 2m 57s\n",
      "214:\tlearn: 0.5380868\ttest: 0.6539224\tbest: 0.6539224 (214)\ttotal: 48.6s\tremaining: 2m 57s\n",
      "215:\tlearn: 0.5372144\ttest: 0.6536053\tbest: 0.6536053 (215)\ttotal: 48.8s\tremaining: 2m 57s\n",
      "216:\tlearn: 0.5362697\ttest: 0.6531169\tbest: 0.6531169 (216)\ttotal: 49s\tremaining: 2m 56s\n",
      "217:\tlearn: 0.5357363\ttest: 0.6526403\tbest: 0.6526403 (217)\ttotal: 49.2s\tremaining: 2m 56s\n",
      "218:\tlearn: 0.5349432\ttest: 0.6524915\tbest: 0.6524915 (218)\ttotal: 49.4s\tremaining: 2m 56s\n",
      "219:\tlearn: 0.5344699\ttest: 0.6520843\tbest: 0.6520843 (219)\ttotal: 49.6s\tremaining: 2m 55s\n",
      "220:\tlearn: 0.5336831\ttest: 0.6516505\tbest: 0.6516505 (220)\ttotal: 49.7s\tremaining: 2m 55s\n",
      "221:\tlearn: 0.5328870\ttest: 0.6512209\tbest: 0.6512209 (221)\ttotal: 49.9s\tremaining: 2m 54s\n",
      "222:\tlearn: 0.5322306\ttest: 0.6509797\tbest: 0.6509797 (222)\ttotal: 50.1s\tremaining: 2m 54s\n",
      "223:\tlearn: 0.5316619\ttest: 0.6504710\tbest: 0.6504710 (223)\ttotal: 50.3s\tremaining: 2m 54s\n",
      "224:\tlearn: 0.5308199\ttest: 0.6500634\tbest: 0.6500634 (224)\ttotal: 50.5s\tremaining: 2m 54s\n",
      "225:\tlearn: 0.5306592\ttest: 0.6501093\tbest: 0.6500634 (224)\ttotal: 50.7s\tremaining: 2m 53s\n",
      "226:\tlearn: 0.5304504\ttest: 0.6501141\tbest: 0.6500634 (224)\ttotal: 51s\tremaining: 2m 53s\n",
      "227:\tlearn: 0.5295398\ttest: 0.6492983\tbest: 0.6492983 (227)\ttotal: 51.2s\tremaining: 2m 53s\n",
      "228:\tlearn: 0.5284654\ttest: 0.6485288\tbest: 0.6485288 (228)\ttotal: 51.4s\tremaining: 2m 53s\n",
      "229:\tlearn: 0.5280060\ttest: 0.6483597\tbest: 0.6483597 (229)\ttotal: 51.6s\tremaining: 2m 52s\n",
      "230:\tlearn: 0.5272350\ttest: 0.6479924\tbest: 0.6479924 (230)\ttotal: 51.8s\tremaining: 2m 52s\n",
      "231:\tlearn: 0.5270065\ttest: 0.6478997\tbest: 0.6478997 (231)\ttotal: 52.1s\tremaining: 2m 52s\n",
      "232:\tlearn: 0.5267859\ttest: 0.6479089\tbest: 0.6478997 (231)\ttotal: 52.3s\tremaining: 2m 52s\n",
      "233:\tlearn: 0.5261897\ttest: 0.6476328\tbest: 0.6476328 (233)\ttotal: 52.5s\tremaining: 2m 51s\n",
      "234:\tlearn: 0.5249457\ttest: 0.6471492\tbest: 0.6471492 (234)\ttotal: 52.7s\tremaining: 2m 51s\n",
      "235:\tlearn: 0.5242427\ttest: 0.6469288\tbest: 0.6469288 (235)\ttotal: 52.9s\tremaining: 2m 51s\n",
      "236:\tlearn: 0.5241108\ttest: 0.6468921\tbest: 0.6468921 (236)\ttotal: 53.1s\tremaining: 2m 50s\n",
      "237:\tlearn: 0.5240258\ttest: 0.6469012\tbest: 0.6468921 (236)\ttotal: 53.3s\tremaining: 2m 50s\n",
      "238:\tlearn: 0.5236598\ttest: 0.6468408\tbest: 0.6468408 (238)\ttotal: 53.5s\tremaining: 2m 50s\n",
      "239:\tlearn: 0.5234293\ttest: 0.6467545\tbest: 0.6467545 (239)\ttotal: 53.8s\tremaining: 2m 50s\n",
      "240:\tlearn: 0.5228634\ttest: 0.6466433\tbest: 0.6466433 (240)\ttotal: 53.9s\tremaining: 2m 49s\n",
      "241:\tlearn: 0.5226107\ttest: 0.6465265\tbest: 0.6465265 (241)\ttotal: 54.1s\tremaining: 2m 49s\n",
      "242:\tlearn: 0.5221059\ttest: 0.6463535\tbest: 0.6463535 (242)\ttotal: 54.3s\tremaining: 2m 49s\n",
      "243:\tlearn: 0.5217459\ttest: 0.6462826\tbest: 0.6462826 (243)\ttotal: 54.5s\tremaining: 2m 48s\n",
      "244:\tlearn: 0.5216156\ttest: 0.6463510\tbest: 0.6462826 (243)\ttotal: 54.7s\tremaining: 2m 48s\n",
      "245:\tlearn: 0.5208383\ttest: 0.6463888\tbest: 0.6462826 (243)\ttotal: 54.9s\tremaining: 2m 48s\n",
      "246:\tlearn: 0.5201713\ttest: 0.6459757\tbest: 0.6459757 (246)\ttotal: 55.1s\tremaining: 2m 47s\n",
      "247:\tlearn: 0.5191535\ttest: 0.6455653\tbest: 0.6455653 (247)\ttotal: 55.3s\tremaining: 2m 47s\n",
      "248:\tlearn: 0.5180010\ttest: 0.6451230\tbest: 0.6451230 (248)\ttotal: 55.5s\tremaining: 2m 47s\n",
      "249:\tlearn: 0.5165185\ttest: 0.6447234\tbest: 0.6447234 (249)\ttotal: 55.7s\tremaining: 2m 47s\n",
      "250:\tlearn: 0.5164301\ttest: 0.6447243\tbest: 0.6447234 (249)\ttotal: 56.1s\tremaining: 2m 47s\n",
      "251:\tlearn: 0.5160653\ttest: 0.6446625\tbest: 0.6446625 (251)\ttotal: 56.6s\tremaining: 2m 48s\n",
      "252:\tlearn: 0.5154441\ttest: 0.6444696\tbest: 0.6444696 (252)\ttotal: 57.1s\tremaining: 2m 48s\n",
      "253:\tlearn: 0.5152071\ttest: 0.6445204\tbest: 0.6444696 (252)\ttotal: 57.5s\tremaining: 2m 48s\n",
      "254:\tlearn: 0.5141180\ttest: 0.6437712\tbest: 0.6437712 (254)\ttotal: 57.7s\tremaining: 2m 48s\n",
      "255:\tlearn: 0.5130088\ttest: 0.6428724\tbest: 0.6428724 (255)\ttotal: 57.9s\tremaining: 2m 48s\n",
      "256:\tlearn: 0.5115797\ttest: 0.6424843\tbest: 0.6424843 (256)\ttotal: 58.1s\tremaining: 2m 47s\n",
      "257:\tlearn: 0.5110292\ttest: 0.6419568\tbest: 0.6419568 (257)\ttotal: 58.3s\tremaining: 2m 47s\n",
      "258:\tlearn: 0.5107072\ttest: 0.6418161\tbest: 0.6418161 (258)\ttotal: 58.6s\tremaining: 2m 47s\n",
      "259:\tlearn: 0.5098027\ttest: 0.6413443\tbest: 0.6413443 (259)\ttotal: 58.9s\tremaining: 2m 47s\n",
      "260:\tlearn: 0.5096982\ttest: 0.6412667\tbest: 0.6412667 (260)\ttotal: 59.1s\tremaining: 2m 47s\n",
      "261:\tlearn: 0.5086630\ttest: 0.6406746\tbest: 0.6406746 (261)\ttotal: 59.3s\tremaining: 2m 47s\n",
      "262:\tlearn: 0.5079857\ttest: 0.6403818\tbest: 0.6403818 (262)\ttotal: 59.5s\tremaining: 2m 46s\n",
      "263:\tlearn: 0.5072180\ttest: 0.6401098\tbest: 0.6401098 (263)\ttotal: 59.8s\tremaining: 2m 46s\n",
      "264:\tlearn: 0.5070280\ttest: 0.6401270\tbest: 0.6401098 (263)\ttotal: 60s\tremaining: 2m 46s\n",
      "265:\tlearn: 0.5063267\ttest: 0.6399637\tbest: 0.6399637 (265)\ttotal: 1m\tremaining: 2m 46s\n",
      "266:\tlearn: 0.5060633\ttest: 0.6398618\tbest: 0.6398618 (266)\ttotal: 1m\tremaining: 2m 45s\n",
      "267:\tlearn: 0.5059224\ttest: 0.6398214\tbest: 0.6398214 (267)\ttotal: 1m\tremaining: 2m 45s\n",
      "268:\tlearn: 0.5051770\ttest: 0.6394067\tbest: 0.6394067 (268)\ttotal: 1m\tremaining: 2m 45s\n",
      "269:\tlearn: 0.5044959\ttest: 0.6388025\tbest: 0.6388025 (269)\ttotal: 1m 1s\tremaining: 2m 44s\n",
      "270:\tlearn: 0.5039359\ttest: 0.6385184\tbest: 0.6385184 (270)\ttotal: 1m 1s\tremaining: 2m 44s\n",
      "271:\tlearn: 0.5027703\ttest: 0.6379642\tbest: 0.6379642 (271)\ttotal: 1m 1s\tremaining: 2m 44s\n",
      "272:\tlearn: 0.5025370\ttest: 0.6378565\tbest: 0.6378565 (272)\ttotal: 1m 1s\tremaining: 2m 44s\n",
      "273:\tlearn: 0.5018927\ttest: 0.6375086\tbest: 0.6375086 (273)\ttotal: 1m 1s\tremaining: 2m 43s\n",
      "274:\tlearn: 0.5017674\ttest: 0.6374821\tbest: 0.6374821 (274)\ttotal: 1m 2s\tremaining: 2m 43s\n",
      "275:\tlearn: 0.5009929\ttest: 0.6370966\tbest: 0.6370966 (275)\ttotal: 1m 2s\tremaining: 2m 43s\n",
      "276:\tlearn: 0.5006534\ttest: 0.6370534\tbest: 0.6370534 (276)\ttotal: 1m 2s\tremaining: 2m 42s\n",
      "277:\tlearn: 0.4996266\ttest: 0.6362115\tbest: 0.6362115 (277)\ttotal: 1m 2s\tremaining: 2m 42s\n",
      "278:\tlearn: 0.4989021\ttest: 0.6357959\tbest: 0.6357959 (278)\ttotal: 1m 2s\tremaining: 2m 42s\n",
      "279:\tlearn: 0.4982932\ttest: 0.6355746\tbest: 0.6355746 (279)\ttotal: 1m 3s\tremaining: 2m 42s\n",
      "280:\tlearn: 0.4974244\ttest: 0.6351941\tbest: 0.6351941 (280)\ttotal: 1m 3s\tremaining: 2m 41s\n",
      "281:\tlearn: 0.4967057\ttest: 0.6348830\tbest: 0.6348830 (281)\ttotal: 1m 3s\tremaining: 2m 41s\n",
      "282:\tlearn: 0.4963723\ttest: 0.6349356\tbest: 0.6348830 (281)\ttotal: 1m 3s\tremaining: 2m 41s\n",
      "283:\tlearn: 0.4955569\ttest: 0.6343345\tbest: 0.6343345 (283)\ttotal: 1m 4s\tremaining: 2m 41s\n",
      "284:\tlearn: 0.4954514\ttest: 0.6343487\tbest: 0.6343345 (283)\ttotal: 1m 4s\tremaining: 2m 41s\n",
      "285:\tlearn: 0.4947950\ttest: 0.6337498\tbest: 0.6337498 (285)\ttotal: 1m 4s\tremaining: 2m 41s\n",
      "286:\tlearn: 0.4945738\ttest: 0.6337619\tbest: 0.6337498 (285)\ttotal: 1m 5s\tremaining: 2m 41s\n",
      "287:\tlearn: 0.4939597\ttest: 0.6335430\tbest: 0.6335430 (287)\ttotal: 1m 5s\tremaining: 2m 41s\n",
      "288:\tlearn: 0.4934135\ttest: 0.6331502\tbest: 0.6331502 (288)\ttotal: 1m 5s\tremaining: 2m 41s\n",
      "289:\tlearn: 0.4927496\ttest: 0.6329824\tbest: 0.6329824 (289)\ttotal: 1m 5s\tremaining: 2m 40s\n",
      "290:\tlearn: 0.4920028\ttest: 0.6325543\tbest: 0.6325543 (290)\ttotal: 1m 5s\tremaining: 2m 40s\n",
      "291:\tlearn: 0.4912681\ttest: 0.6321837\tbest: 0.6321837 (291)\ttotal: 1m 6s\tremaining: 2m 40s\n",
      "292:\tlearn: 0.4906127\ttest: 0.6319833\tbest: 0.6319833 (292)\ttotal: 1m 6s\tremaining: 2m 40s\n",
      "293:\tlearn: 0.4905023\ttest: 0.6319115\tbest: 0.6319115 (293)\ttotal: 1m 6s\tremaining: 2m 39s\n",
      "294:\tlearn: 0.4897508\ttest: 0.6317375\tbest: 0.6317375 (294)\ttotal: 1m 6s\tremaining: 2m 39s\n",
      "295:\tlearn: 0.4893996\ttest: 0.6316709\tbest: 0.6316709 (295)\ttotal: 1m 7s\tremaining: 2m 39s\n",
      "296:\tlearn: 0.4891580\ttest: 0.6316192\tbest: 0.6316192 (296)\ttotal: 1m 7s\tremaining: 2m 39s\n",
      "297:\tlearn: 0.4881821\ttest: 0.6312302\tbest: 0.6312302 (297)\ttotal: 1m 7s\tremaining: 2m 38s\n",
      "298:\tlearn: 0.4872554\ttest: 0.6307149\tbest: 0.6307149 (298)\ttotal: 1m 7s\tremaining: 2m 38s\n",
      "299:\tlearn: 0.4867480\ttest: 0.6304142\tbest: 0.6304142 (299)\ttotal: 1m 7s\tremaining: 2m 38s\n",
      "300:\tlearn: 0.4865212\ttest: 0.6302079\tbest: 0.6302079 (300)\ttotal: 1m 8s\tremaining: 2m 38s\n",
      "301:\tlearn: 0.4863629\ttest: 0.6301777\tbest: 0.6301777 (301)\ttotal: 1m 8s\tremaining: 2m 37s\n",
      "302:\tlearn: 0.4863165\ttest: 0.6301760\tbest: 0.6301760 (302)\ttotal: 1m 8s\tremaining: 2m 37s\n",
      "303:\tlearn: 0.4861284\ttest: 0.6300223\tbest: 0.6300223 (303)\ttotal: 1m 8s\tremaining: 2m 37s\n",
      "304:\tlearn: 0.4854020\ttest: 0.6300738\tbest: 0.6300223 (303)\ttotal: 1m 8s\tremaining: 2m 37s\n",
      "305:\tlearn: 0.4849262\ttest: 0.6301064\tbest: 0.6300223 (303)\ttotal: 1m 9s\tremaining: 2m 36s\n",
      "306:\tlearn: 0.4844249\ttest: 0.6297904\tbest: 0.6297904 (306)\ttotal: 1m 9s\tremaining: 2m 36s\n",
      "307:\tlearn: 0.4838712\ttest: 0.6298422\tbest: 0.6297904 (306)\ttotal: 1m 9s\tremaining: 2m 36s\n",
      "308:\tlearn: 0.4836317\ttest: 0.6298246\tbest: 0.6297904 (306)\ttotal: 1m 9s\tremaining: 2m 36s\n",
      "309:\tlearn: 0.4832459\ttest: 0.6296591\tbest: 0.6296591 (309)\ttotal: 1m 9s\tremaining: 2m 35s\n",
      "310:\tlearn: 0.4826442\ttest: 0.6293514\tbest: 0.6293514 (310)\ttotal: 1m 10s\tremaining: 2m 35s\n",
      "311:\tlearn: 0.4818303\ttest: 0.6291576\tbest: 0.6291576 (311)\ttotal: 1m 10s\tremaining: 2m 35s\n",
      "312:\tlearn: 0.4816333\ttest: 0.6289820\tbest: 0.6289820 (312)\ttotal: 1m 10s\tremaining: 2m 34s\n",
      "313:\tlearn: 0.4808916\ttest: 0.6289075\tbest: 0.6289075 (313)\ttotal: 1m 10s\tremaining: 2m 34s\n",
      "314:\tlearn: 0.4805289\ttest: 0.6287060\tbest: 0.6287060 (314)\ttotal: 1m 11s\tremaining: 2m 34s\n",
      "315:\tlearn: 0.4801101\ttest: 0.6286431\tbest: 0.6286431 (315)\ttotal: 1m 11s\tremaining: 2m 34s\n",
      "316:\tlearn: 0.4796079\ttest: 0.6284828\tbest: 0.6284828 (316)\ttotal: 1m 11s\tremaining: 2m 33s\n",
      "317:\tlearn: 0.4789196\ttest: 0.6283744\tbest: 0.6283744 (317)\ttotal: 1m 11s\tremaining: 2m 33s\n",
      "318:\tlearn: 0.4788406\ttest: 0.6283504\tbest: 0.6283504 (318)\ttotal: 1m 11s\tremaining: 2m 33s\n",
      "319:\tlearn: 0.4782521\ttest: 0.6282572\tbest: 0.6282572 (319)\ttotal: 1m 12s\tremaining: 2m 33s\n",
      "320:\tlearn: 0.4778850\ttest: 0.6280776\tbest: 0.6280776 (320)\ttotal: 1m 12s\tremaining: 2m 33s\n",
      "321:\tlearn: 0.4777646\ttest: 0.6280472\tbest: 0.6280472 (321)\ttotal: 1m 12s\tremaining: 2m 33s\n",
      "322:\tlearn: 0.4777087\ttest: 0.6280527\tbest: 0.6280472 (321)\ttotal: 1m 13s\tremaining: 2m 33s\n",
      "323:\tlearn: 0.4775021\ttest: 0.6278979\tbest: 0.6278979 (323)\ttotal: 1m 13s\tremaining: 2m 33s\n",
      "324:\tlearn: 0.4773377\ttest: 0.6278950\tbest: 0.6278950 (324)\ttotal: 1m 13s\tremaining: 2m 32s\n",
      "325:\tlearn: 0.4764633\ttest: 0.6276180\tbest: 0.6276180 (325)\ttotal: 1m 13s\tremaining: 2m 32s\n",
      "326:\tlearn: 0.4759521\ttest: 0.6275229\tbest: 0.6275229 (326)\ttotal: 1m 14s\tremaining: 2m 32s\n",
      "327:\tlearn: 0.4755382\ttest: 0.6273210\tbest: 0.6273210 (327)\ttotal: 1m 14s\tremaining: 2m 32s\n",
      "328:\tlearn: 0.4751659\ttest: 0.6270451\tbest: 0.6270451 (328)\ttotal: 1m 14s\tremaining: 2m 31s\n",
      "329:\tlearn: 0.4746810\ttest: 0.6267249\tbest: 0.6267249 (329)\ttotal: 1m 14s\tremaining: 2m 31s\n",
      "330:\tlearn: 0.4740903\ttest: 0.6264123\tbest: 0.6264123 (330)\ttotal: 1m 14s\tremaining: 2m 31s\n",
      "331:\tlearn: 0.4738879\ttest: 0.6262628\tbest: 0.6262628 (331)\ttotal: 1m 15s\tremaining: 2m 31s\n",
      "332:\tlearn: 0.4736130\ttest: 0.6262529\tbest: 0.6262529 (332)\ttotal: 1m 15s\tremaining: 2m 30s\n",
      "333:\tlearn: 0.4731648\ttest: 0.6259375\tbest: 0.6259375 (333)\ttotal: 1m 15s\tremaining: 2m 30s\n",
      "334:\tlearn: 0.4728468\ttest: 0.6257044\tbest: 0.6257044 (334)\ttotal: 1m 15s\tremaining: 2m 30s\n",
      "335:\tlearn: 0.4727405\ttest: 0.6256323\tbest: 0.6256323 (335)\ttotal: 1m 16s\tremaining: 2m 30s\n",
      "336:\tlearn: 0.4719339\ttest: 0.6254821\tbest: 0.6254821 (336)\ttotal: 1m 16s\tremaining: 2m 29s\n",
      "337:\tlearn: 0.4716035\ttest: 0.6252976\tbest: 0.6252976 (337)\ttotal: 1m 16s\tremaining: 2m 29s\n",
      "338:\tlearn: 0.4706372\ttest: 0.6250236\tbest: 0.6250236 (338)\ttotal: 1m 16s\tremaining: 2m 29s\n",
      "339:\tlearn: 0.4702280\ttest: 0.6250530\tbest: 0.6250236 (338)\ttotal: 1m 16s\tremaining: 2m 29s\n",
      "340:\tlearn: 0.4699041\ttest: 0.6250540\tbest: 0.6250236 (338)\ttotal: 1m 17s\tremaining: 2m 29s\n",
      "341:\tlearn: 0.4694914\ttest: 0.6247809\tbest: 0.6247809 (341)\ttotal: 1m 17s\tremaining: 2m 28s\n",
      "342:\tlearn: 0.4692303\ttest: 0.6247981\tbest: 0.6247809 (341)\ttotal: 1m 17s\tremaining: 2m 28s\n",
      "343:\tlearn: 0.4691648\ttest: 0.6248431\tbest: 0.6247809 (341)\ttotal: 1m 17s\tremaining: 2m 28s\n",
      "344:\tlearn: 0.4690315\ttest: 0.6247312\tbest: 0.6247312 (344)\ttotal: 1m 17s\tremaining: 2m 28s\n",
      "345:\tlearn: 0.4685407\ttest: 0.6241675\tbest: 0.6241675 (345)\ttotal: 1m 18s\tremaining: 2m 27s\n",
      "346:\tlearn: 0.4677161\ttest: 0.6238770\tbest: 0.6238770 (346)\ttotal: 1m 18s\tremaining: 2m 27s\n",
      "347:\tlearn: 0.4672922\ttest: 0.6236548\tbest: 0.6236548 (347)\ttotal: 1m 18s\tremaining: 2m 27s\n",
      "348:\tlearn: 0.4665725\ttest: 0.6232601\tbest: 0.6232601 (348)\ttotal: 1m 18s\tremaining: 2m 26s\n",
      "349:\tlearn: 0.4663188\ttest: 0.6232441\tbest: 0.6232441 (349)\ttotal: 1m 18s\tremaining: 2m 26s\n",
      "350:\tlearn: 0.4657306\ttest: 0.6228879\tbest: 0.6228879 (350)\ttotal: 1m 19s\tremaining: 2m 26s\n",
      "351:\tlearn: 0.4649584\ttest: 0.6226617\tbest: 0.6226617 (351)\ttotal: 1m 19s\tremaining: 2m 26s\n",
      "352:\tlearn: 0.4648179\ttest: 0.6225286\tbest: 0.6225286 (352)\ttotal: 1m 19s\tremaining: 2m 26s\n",
      "353:\tlearn: 0.4643031\ttest: 0.6224321\tbest: 0.6224321 (353)\ttotal: 1m 19s\tremaining: 2m 25s\n",
      "354:\tlearn: 0.4641500\ttest: 0.6223872\tbest: 0.6223872 (354)\ttotal: 1m 20s\tremaining: 2m 25s\n",
      "355:\tlearn: 0.4636704\ttest: 0.6224336\tbest: 0.6223872 (354)\ttotal: 1m 20s\tremaining: 2m 25s\n",
      "356:\tlearn: 0.4635649\ttest: 0.6224449\tbest: 0.6223872 (354)\ttotal: 1m 20s\tremaining: 2m 25s\n",
      "357:\tlearn: 0.4630335\ttest: 0.6222702\tbest: 0.6222702 (357)\ttotal: 1m 20s\tremaining: 2m 25s\n",
      "358:\tlearn: 0.4628221\ttest: 0.6221949\tbest: 0.6221949 (358)\ttotal: 1m 21s\tremaining: 2m 24s\n",
      "359:\tlearn: 0.4622434\ttest: 0.6221118\tbest: 0.6221118 (359)\ttotal: 1m 21s\tremaining: 2m 24s\n",
      "360:\tlearn: 0.4616316\ttest: 0.6216969\tbest: 0.6216969 (360)\ttotal: 1m 21s\tremaining: 2m 24s\n",
      "361:\tlearn: 0.4611352\ttest: 0.6214466\tbest: 0.6214466 (361)\ttotal: 1m 21s\tremaining: 2m 24s\n",
      "362:\tlearn: 0.4607550\ttest: 0.6210110\tbest: 0.6210110 (362)\ttotal: 1m 21s\tremaining: 2m 23s\n",
      "363:\tlearn: 0.4604705\ttest: 0.6209266\tbest: 0.6209266 (363)\ttotal: 1m 22s\tremaining: 2m 23s\n",
      "364:\tlearn: 0.4602722\ttest: 0.6208309\tbest: 0.6208309 (364)\ttotal: 1m 22s\tremaining: 2m 23s\n",
      "365:\tlearn: 0.4596464\ttest: 0.6207287\tbest: 0.6207287 (365)\ttotal: 1m 22s\tremaining: 2m 23s\n",
      "366:\tlearn: 0.4590504\ttest: 0.6205662\tbest: 0.6205662 (366)\ttotal: 1m 22s\tremaining: 2m 22s\n",
      "367:\tlearn: 0.4584671\ttest: 0.6203931\tbest: 0.6203931 (367)\ttotal: 1m 23s\tremaining: 2m 22s\n",
      "368:\tlearn: 0.4583737\ttest: 0.6204199\tbest: 0.6203931 (367)\ttotal: 1m 23s\tremaining: 2m 22s\n",
      "369:\tlearn: 0.4580225\ttest: 0.6201592\tbest: 0.6201592 (369)\ttotal: 1m 23s\tremaining: 2m 22s\n",
      "370:\tlearn: 0.4573411\ttest: 0.6199813\tbest: 0.6199813 (370)\ttotal: 1m 23s\tremaining: 2m 21s\n",
      "371:\tlearn: 0.4569806\ttest: 0.6196751\tbest: 0.6196751 (371)\ttotal: 1m 23s\tremaining: 2m 21s\n",
      "372:\tlearn: 0.4568314\ttest: 0.6194922\tbest: 0.6194922 (372)\ttotal: 1m 24s\tremaining: 2m 21s\n",
      "373:\tlearn: 0.4564191\ttest: 0.6191299\tbest: 0.6191299 (373)\ttotal: 1m 24s\tremaining: 2m 21s\n",
      "374:\tlearn: 0.4562141\ttest: 0.6190830\tbest: 0.6190830 (374)\ttotal: 1m 24s\tremaining: 2m 20s\n",
      "375:\tlearn: 0.4558410\ttest: 0.6191125\tbest: 0.6190830 (374)\ttotal: 1m 24s\tremaining: 2m 20s\n",
      "376:\tlearn: 0.4556705\ttest: 0.6190376\tbest: 0.6190376 (376)\ttotal: 1m 24s\tremaining: 2m 20s\n",
      "377:\tlearn: 0.4554085\ttest: 0.6188124\tbest: 0.6188124 (377)\ttotal: 1m 25s\tremaining: 2m 20s\n",
      "378:\tlearn: 0.4553426\ttest: 0.6187676\tbest: 0.6187676 (378)\ttotal: 1m 25s\tremaining: 2m 19s\n",
      "379:\tlearn: 0.4548810\ttest: 0.6187033\tbest: 0.6187033 (379)\ttotal: 1m 25s\tremaining: 2m 19s\n",
      "380:\tlearn: 0.4544894\ttest: 0.6186019\tbest: 0.6186019 (380)\ttotal: 1m 25s\tremaining: 2m 19s\n",
      "381:\tlearn: 0.4540700\ttest: 0.6184502\tbest: 0.6184502 (381)\ttotal: 1m 25s\tremaining: 2m 19s\n",
      "382:\tlearn: 0.4536297\ttest: 0.6183378\tbest: 0.6183378 (382)\ttotal: 1m 26s\tremaining: 2m 19s\n",
      "383:\tlearn: 0.4532715\ttest: 0.6181686\tbest: 0.6181686 (383)\ttotal: 1m 26s\tremaining: 2m 18s\n",
      "384:\tlearn: 0.4528814\ttest: 0.6181835\tbest: 0.6181686 (383)\ttotal: 1m 26s\tremaining: 2m 18s\n",
      "385:\tlearn: 0.4524052\ttest: 0.6178694\tbest: 0.6178694 (385)\ttotal: 1m 26s\tremaining: 2m 18s\n",
      "386:\tlearn: 0.4521593\ttest: 0.6176888\tbest: 0.6176888 (386)\ttotal: 1m 27s\tremaining: 2m 18s\n",
      "387:\tlearn: 0.4519151\ttest: 0.6174815\tbest: 0.6174815 (387)\ttotal: 1m 27s\tremaining: 2m 17s\n",
      "388:\tlearn: 0.4515584\ttest: 0.6170766\tbest: 0.6170766 (388)\ttotal: 1m 27s\tremaining: 2m 17s\n",
      "389:\tlearn: 0.4514701\ttest: 0.6169682\tbest: 0.6169682 (389)\ttotal: 1m 27s\tremaining: 2m 17s\n",
      "390:\tlearn: 0.4509707\ttest: 0.6168163\tbest: 0.6168163 (390)\ttotal: 1m 28s\tremaining: 2m 17s\n",
      "391:\tlearn: 0.4508745\ttest: 0.6167864\tbest: 0.6167864 (391)\ttotal: 1m 28s\tremaining: 2m 16s\n",
      "392:\tlearn: 0.4502122\ttest: 0.6164110\tbest: 0.6164110 (392)\ttotal: 1m 28s\tremaining: 2m 16s\n",
      "393:\tlearn: 0.4496078\ttest: 0.6163274\tbest: 0.6163274 (393)\ttotal: 1m 28s\tremaining: 2m 16s\n",
      "394:\tlearn: 0.4492771\ttest: 0.6161491\tbest: 0.6161491 (394)\ttotal: 1m 28s\tremaining: 2m 16s\n",
      "395:\tlearn: 0.4489532\ttest: 0.6160250\tbest: 0.6160250 (395)\ttotal: 1m 29s\tremaining: 2m 15s\n",
      "396:\tlearn: 0.4484098\ttest: 0.6159515\tbest: 0.6159515 (396)\ttotal: 1m 29s\tremaining: 2m 15s\n",
      "397:\tlearn: 0.4478354\ttest: 0.6157837\tbest: 0.6157837 (397)\ttotal: 1m 29s\tremaining: 2m 15s\n",
      "398:\tlearn: 0.4475945\ttest: 0.6157827\tbest: 0.6157827 (398)\ttotal: 1m 29s\tremaining: 2m 15s\n",
      "399:\tlearn: 0.4474287\ttest: 0.6156507\tbest: 0.6156507 (399)\ttotal: 1m 29s\tremaining: 2m 14s\n",
      "400:\tlearn: 0.4472255\ttest: 0.6155696\tbest: 0.6155696 (400)\ttotal: 1m 30s\tremaining: 2m 14s\n",
      "401:\tlearn: 0.4468614\ttest: 0.6154397\tbest: 0.6154397 (401)\ttotal: 1m 30s\tremaining: 2m 14s\n",
      "402:\tlearn: 0.4464337\ttest: 0.6154732\tbest: 0.6154397 (401)\ttotal: 1m 30s\tremaining: 2m 14s\n",
      "403:\tlearn: 0.4460840\ttest: 0.6153395\tbest: 0.6153395 (403)\ttotal: 1m 30s\tremaining: 2m 13s\n",
      "404:\tlearn: 0.4458284\ttest: 0.6151939\tbest: 0.6151939 (404)\ttotal: 1m 31s\tremaining: 2m 13s\n",
      "405:\tlearn: 0.4452290\ttest: 0.6149009\tbest: 0.6149009 (405)\ttotal: 1m 31s\tremaining: 2m 13s\n",
      "406:\tlearn: 0.4451245\ttest: 0.6148113\tbest: 0.6148113 (406)\ttotal: 1m 31s\tremaining: 2m 13s\n",
      "407:\tlearn: 0.4449929\ttest: 0.6147940\tbest: 0.6147940 (407)\ttotal: 1m 31s\tremaining: 2m 12s\n",
      "408:\tlearn: 0.4445174\ttest: 0.6147837\tbest: 0.6147837 (408)\ttotal: 1m 31s\tremaining: 2m 12s\n",
      "409:\tlearn: 0.4441321\ttest: 0.6146370\tbest: 0.6146370 (409)\ttotal: 1m 32s\tremaining: 2m 12s\n",
      "410:\tlearn: 0.4437966\ttest: 0.6146704\tbest: 0.6146370 (409)\ttotal: 1m 32s\tremaining: 2m 12s\n",
      "411:\tlearn: 0.4433185\ttest: 0.6144724\tbest: 0.6144724 (411)\ttotal: 1m 32s\tremaining: 2m 12s\n",
      "412:\tlearn: 0.4432657\ttest: 0.6144270\tbest: 0.6144270 (412)\ttotal: 1m 32s\tremaining: 2m 11s\n",
      "413:\tlearn: 0.4431842\ttest: 0.6144770\tbest: 0.6144270 (412)\ttotal: 1m 33s\tremaining: 2m 11s\n",
      "414:\tlearn: 0.4431032\ttest: 0.6144867\tbest: 0.6144270 (412)\ttotal: 1m 33s\tremaining: 2m 11s\n",
      "415:\tlearn: 0.4430242\ttest: 0.6144687\tbest: 0.6144270 (412)\ttotal: 1m 33s\tremaining: 2m 11s\n",
      "416:\tlearn: 0.4424824\ttest: 0.6142727\tbest: 0.6142727 (416)\ttotal: 1m 33s\tremaining: 2m 11s\n",
      "417:\tlearn: 0.4423776\ttest: 0.6142549\tbest: 0.6142549 (417)\ttotal: 1m 34s\tremaining: 2m 11s\n",
      "418:\tlearn: 0.4422899\ttest: 0.6142648\tbest: 0.6142549 (417)\ttotal: 1m 34s\tremaining: 2m 10s\n",
      "419:\tlearn: 0.4418642\ttest: 0.6142717\tbest: 0.6142549 (417)\ttotal: 1m 34s\tremaining: 2m 10s\n",
      "420:\tlearn: 0.4410206\ttest: 0.6135722\tbest: 0.6135722 (420)\ttotal: 1m 34s\tremaining: 2m 10s\n",
      "421:\tlearn: 0.4404225\ttest: 0.6134558\tbest: 0.6134558 (421)\ttotal: 1m 35s\tremaining: 2m 10s\n",
      "422:\tlearn: 0.4402137\ttest: 0.6134587\tbest: 0.6134558 (421)\ttotal: 1m 35s\tremaining: 2m 10s\n",
      "423:\tlearn: 0.4398591\ttest: 0.6133772\tbest: 0.6133772 (423)\ttotal: 1m 35s\tremaining: 2m 9s\n",
      "424:\tlearn: 0.4396540\ttest: 0.6134262\tbest: 0.6133772 (423)\ttotal: 1m 35s\tremaining: 2m 9s\n",
      "425:\tlearn: 0.4391662\ttest: 0.6129604\tbest: 0.6129604 (425)\ttotal: 1m 35s\tremaining: 2m 9s\n",
      "426:\tlearn: 0.4387929\ttest: 0.6130402\tbest: 0.6129604 (425)\ttotal: 1m 36s\tremaining: 2m 9s\n",
      "427:\tlearn: 0.4384935\ttest: 0.6128367\tbest: 0.6128367 (427)\ttotal: 1m 36s\tremaining: 2m 8s\n",
      "428:\tlearn: 0.4382443\ttest: 0.6126949\tbest: 0.6126949 (428)\ttotal: 1m 36s\tremaining: 2m 8s\n",
      "429:\tlearn: 0.4378958\ttest: 0.6124845\tbest: 0.6124845 (429)\ttotal: 1m 36s\tremaining: 2m 8s\n",
      "430:\tlearn: 0.4377553\ttest: 0.6123473\tbest: 0.6123473 (430)\ttotal: 1m 36s\tremaining: 2m 8s\n",
      "431:\tlearn: 0.4372644\ttest: 0.6122753\tbest: 0.6122753 (431)\ttotal: 1m 37s\tremaining: 2m 7s\n",
      "432:\tlearn: 0.4368513\ttest: 0.6120610\tbest: 0.6120610 (432)\ttotal: 1m 37s\tremaining: 2m 7s\n",
      "433:\tlearn: 0.4361717\ttest: 0.6115710\tbest: 0.6115710 (433)\ttotal: 1m 37s\tremaining: 2m 7s\n",
      "434:\tlearn: 0.4358479\ttest: 0.6115059\tbest: 0.6115059 (434)\ttotal: 1m 37s\tremaining: 2m 7s\n",
      "435:\tlearn: 0.4353752\ttest: 0.6113604\tbest: 0.6113604 (435)\ttotal: 1m 38s\tremaining: 2m 6s\n",
      "436:\tlearn: 0.4349592\ttest: 0.6112858\tbest: 0.6112858 (436)\ttotal: 1m 38s\tremaining: 2m 6s\n",
      "437:\tlearn: 0.4346378\ttest: 0.6113184\tbest: 0.6112858 (436)\ttotal: 1m 38s\tremaining: 2m 6s\n",
      "438:\tlearn: 0.4341627\ttest: 0.6113182\tbest: 0.6112858 (436)\ttotal: 1m 38s\tremaining: 2m 6s\n",
      "439:\tlearn: 0.4339649\ttest: 0.6112867\tbest: 0.6112858 (436)\ttotal: 1m 38s\tremaining: 2m 5s\n",
      "440:\tlearn: 0.4334560\ttest: 0.6111275\tbest: 0.6111275 (440)\ttotal: 1m 39s\tremaining: 2m 5s\n",
      "441:\tlearn: 0.4331992\ttest: 0.6110873\tbest: 0.6110873 (441)\ttotal: 1m 39s\tremaining: 2m 5s\n",
      "442:\tlearn: 0.4329325\ttest: 0.6109866\tbest: 0.6109866 (442)\ttotal: 1m 39s\tremaining: 2m 5s\n",
      "443:\tlearn: 0.4324531\ttest: 0.6108823\tbest: 0.6108823 (443)\ttotal: 1m 39s\tremaining: 2m 4s\n",
      "444:\tlearn: 0.4322845\ttest: 0.6108285\tbest: 0.6108285 (444)\ttotal: 1m 39s\tremaining: 2m 4s\n",
      "445:\tlearn: 0.4319840\ttest: 0.6107010\tbest: 0.6107010 (445)\ttotal: 1m 40s\tremaining: 2m 4s\n",
      "446:\tlearn: 0.4314934\ttest: 0.6106230\tbest: 0.6106230 (446)\ttotal: 1m 40s\tremaining: 2m 4s\n",
      "447:\tlearn: 0.4314516\ttest: 0.6105847\tbest: 0.6105847 (447)\ttotal: 1m 40s\tremaining: 2m 3s\n",
      "448:\tlearn: 0.4310143\ttest: 0.6104897\tbest: 0.6104897 (448)\ttotal: 1m 40s\tremaining: 2m 3s\n",
      "449:\tlearn: 0.4305969\ttest: 0.6102049\tbest: 0.6102049 (449)\ttotal: 1m 40s\tremaining: 2m 3s\n",
      "450:\tlearn: 0.4303801\ttest: 0.6101737\tbest: 0.6101737 (450)\ttotal: 1m 41s\tremaining: 2m 3s\n",
      "451:\tlearn: 0.4300834\ttest: 0.6101844\tbest: 0.6101737 (450)\ttotal: 1m 41s\tremaining: 2m 3s\n",
      "452:\tlearn: 0.4296055\ttest: 0.6099926\tbest: 0.6099926 (452)\ttotal: 1m 41s\tremaining: 2m 2s\n",
      "453:\tlearn: 0.4292562\ttest: 0.6100191\tbest: 0.6099926 (452)\ttotal: 1m 41s\tremaining: 2m 2s\n",
      "454:\tlearn: 0.4287961\ttest: 0.6098656\tbest: 0.6098656 (454)\ttotal: 1m 42s\tremaining: 2m 2s\n",
      "455:\tlearn: 0.4282396\ttest: 0.6099461\tbest: 0.6098656 (454)\ttotal: 1m 42s\tremaining: 2m 2s\n",
      "456:\tlearn: 0.4276762\ttest: 0.6098943\tbest: 0.6098656 (454)\ttotal: 1m 42s\tremaining: 2m 1s\n",
      "457:\tlearn: 0.4271029\ttest: 0.6098805\tbest: 0.6098656 (454)\ttotal: 1m 42s\tremaining: 2m 1s\n",
      "458:\tlearn: 0.4267421\ttest: 0.6096563\tbest: 0.6096563 (458)\ttotal: 1m 42s\tremaining: 2m 1s\n",
      "459:\tlearn: 0.4266253\ttest: 0.6096380\tbest: 0.6096380 (459)\ttotal: 1m 43s\tremaining: 2m 1s\n",
      "460:\tlearn: 0.4262905\ttest: 0.6096836\tbest: 0.6096380 (459)\ttotal: 1m 43s\tremaining: 2m\n",
      "461:\tlearn: 0.4261489\ttest: 0.6095976\tbest: 0.6095976 (461)\ttotal: 1m 43s\tremaining: 2m\n",
      "462:\tlearn: 0.4255937\ttest: 0.6095647\tbest: 0.6095647 (462)\ttotal: 1m 43s\tremaining: 2m\n",
      "463:\tlearn: 0.4254304\ttest: 0.6094849\tbest: 0.6094849 (463)\ttotal: 1m 44s\tremaining: 2m\n",
      "464:\tlearn: 0.4249731\ttest: 0.6094182\tbest: 0.6094182 (464)\ttotal: 1m 44s\tremaining: 2m\n",
      "465:\tlearn: 0.4245892\ttest: 0.6093154\tbest: 0.6093154 (465)\ttotal: 1m 44s\tremaining: 1m 59s\n",
      "466:\tlearn: 0.4241005\ttest: 0.6092025\tbest: 0.6092025 (466)\ttotal: 1m 44s\tremaining: 1m 59s\n",
      "467:\tlearn: 0.4238748\ttest: 0.6091705\tbest: 0.6091705 (467)\ttotal: 1m 44s\tremaining: 1m 59s\n",
      "468:\tlearn: 0.4236214\ttest: 0.6091240\tbest: 0.6091240 (468)\ttotal: 1m 45s\tremaining: 1m 59s\n",
      "469:\tlearn: 0.4233986\ttest: 0.6090099\tbest: 0.6090099 (469)\ttotal: 1m 45s\tremaining: 1m 58s\n",
      "470:\tlearn: 0.4231197\ttest: 0.6089170\tbest: 0.6089170 (470)\ttotal: 1m 45s\tremaining: 1m 58s\n",
      "471:\tlearn: 0.4229734\ttest: 0.6089096\tbest: 0.6089096 (471)\ttotal: 1m 45s\tremaining: 1m 58s\n",
      "472:\tlearn: 0.4223308\ttest: 0.6087098\tbest: 0.6087098 (472)\ttotal: 1m 46s\tremaining: 1m 58s\n",
      "473:\tlearn: 0.4222854\ttest: 0.6086991\tbest: 0.6086991 (473)\ttotal: 1m 46s\tremaining: 1m 57s\n",
      "474:\tlearn: 0.4218882\ttest: 0.6086218\tbest: 0.6086218 (474)\ttotal: 1m 46s\tremaining: 1m 57s\n",
      "475:\tlearn: 0.4216482\ttest: 0.6084331\tbest: 0.6084331 (475)\ttotal: 1m 46s\tremaining: 1m 57s\n",
      "476:\tlearn: 0.4213460\ttest: 0.6082595\tbest: 0.6082595 (476)\ttotal: 1m 46s\tremaining: 1m 57s\n",
      "477:\tlearn: 0.4212274\ttest: 0.6082866\tbest: 0.6082595 (476)\ttotal: 1m 47s\tremaining: 1m 56s\n",
      "478:\tlearn: 0.4208363\ttest: 0.6081873\tbest: 0.6081873 (478)\ttotal: 1m 47s\tremaining: 1m 56s\n",
      "479:\tlearn: 0.4203072\ttest: 0.6079206\tbest: 0.6079206 (479)\ttotal: 1m 47s\tremaining: 1m 56s\n",
      "480:\tlearn: 0.4199702\ttest: 0.6077565\tbest: 0.6077565 (480)\ttotal: 1m 47s\tremaining: 1m 56s\n",
      "481:\tlearn: 0.4191558\ttest: 0.6075854\tbest: 0.6075854 (481)\ttotal: 1m 48s\tremaining: 1m 56s\n",
      "482:\tlearn: 0.4188224\ttest: 0.6074902\tbest: 0.6074902 (482)\ttotal: 1m 48s\tremaining: 1m 55s\n",
      "483:\tlearn: 0.4187807\ttest: 0.6074481\tbest: 0.6074481 (483)\ttotal: 1m 48s\tremaining: 1m 55s\n",
      "484:\tlearn: 0.4185943\ttest: 0.6074201\tbest: 0.6074201 (484)\ttotal: 1m 48s\tremaining: 1m 55s\n",
      "485:\tlearn: 0.4183889\ttest: 0.6073614\tbest: 0.6073614 (485)\ttotal: 1m 48s\tremaining: 1m 55s\n",
      "486:\tlearn: 0.4181334\ttest: 0.6072817\tbest: 0.6072817 (486)\ttotal: 1m 49s\tremaining: 1m 54s\n",
      "487:\tlearn: 0.4177604\ttest: 0.6071964\tbest: 0.6071964 (487)\ttotal: 1m 49s\tremaining: 1m 54s\n",
      "488:\tlearn: 0.4173673\ttest: 0.6070577\tbest: 0.6070577 (488)\ttotal: 1m 49s\tremaining: 1m 54s\n",
      "489:\tlearn: 0.4171556\ttest: 0.6069616\tbest: 0.6069616 (489)\ttotal: 1m 49s\tremaining: 1m 54s\n",
      "490:\tlearn: 0.4168462\ttest: 0.6069913\tbest: 0.6069616 (489)\ttotal: 1m 49s\tremaining: 1m 54s\n",
      "491:\tlearn: 0.4165439\ttest: 0.6067672\tbest: 0.6067672 (491)\ttotal: 1m 50s\tremaining: 1m 53s\n",
      "492:\tlearn: 0.4162677\ttest: 0.6066053\tbest: 0.6066053 (492)\ttotal: 1m 50s\tremaining: 1m 53s\n",
      "493:\tlearn: 0.4160945\ttest: 0.6064787\tbest: 0.6064787 (493)\ttotal: 1m 50s\tremaining: 1m 53s\n",
      "494:\tlearn: 0.4158260\ttest: 0.6062343\tbest: 0.6062343 (494)\ttotal: 1m 50s\tremaining: 1m 53s\n",
      "495:\tlearn: 0.4153029\ttest: 0.6060778\tbest: 0.6060778 (495)\ttotal: 1m 51s\tremaining: 1m 52s\n",
      "496:\tlearn: 0.4150223\ttest: 0.6060627\tbest: 0.6060627 (496)\ttotal: 1m 51s\tremaining: 1m 52s\n",
      "497:\tlearn: 0.4144495\ttest: 0.6061181\tbest: 0.6060627 (496)\ttotal: 1m 51s\tremaining: 1m 52s\n",
      "498:\tlearn: 0.4140715\ttest: 0.6061966\tbest: 0.6060627 (496)\ttotal: 1m 51s\tremaining: 1m 52s\n",
      "499:\tlearn: 0.4138043\ttest: 0.6061385\tbest: 0.6060627 (496)\ttotal: 1m 51s\tremaining: 1m 51s\n",
      "500:\tlearn: 0.4135712\ttest: 0.6060660\tbest: 0.6060627 (496)\ttotal: 1m 52s\tremaining: 1m 51s\n",
      "501:\tlearn: 0.4134138\ttest: 0.6059748\tbest: 0.6059748 (501)\ttotal: 1m 52s\tremaining: 1m 51s\n",
      "502:\tlearn: 0.4131640\ttest: 0.6058724\tbest: 0.6058724 (502)\ttotal: 1m 52s\tremaining: 1m 51s\n",
      "503:\tlearn: 0.4129882\ttest: 0.6059335\tbest: 0.6058724 (502)\ttotal: 1m 52s\tremaining: 1m 51s\n",
      "504:\tlearn: 0.4127358\ttest: 0.6057639\tbest: 0.6057639 (504)\ttotal: 1m 53s\tremaining: 1m 50s\n",
      "505:\tlearn: 0.4124536\ttest: 0.6056568\tbest: 0.6056568 (505)\ttotal: 1m 53s\tremaining: 1m 50s\n",
      "506:\tlearn: 0.4119698\ttest: 0.6053785\tbest: 0.6053785 (506)\ttotal: 1m 53s\tremaining: 1m 50s\n",
      "507:\tlearn: 0.4118528\ttest: 0.6053923\tbest: 0.6053785 (506)\ttotal: 1m 53s\tremaining: 1m 50s\n",
      "508:\tlearn: 0.4116548\ttest: 0.6055124\tbest: 0.6053785 (506)\ttotal: 1m 53s\tremaining: 1m 49s\n",
      "509:\tlearn: 0.4111635\ttest: 0.6053163\tbest: 0.6053163 (509)\ttotal: 1m 54s\tremaining: 1m 49s\n",
      "510:\tlearn: 0.4106324\ttest: 0.6052117\tbest: 0.6052117 (510)\ttotal: 1m 54s\tremaining: 1m 49s\n",
      "511:\tlearn: 0.4102164\ttest: 0.6049598\tbest: 0.6049598 (511)\ttotal: 1m 54s\tremaining: 1m 49s\n",
      "512:\tlearn: 0.4099040\ttest: 0.6047884\tbest: 0.6047884 (512)\ttotal: 1m 54s\tremaining: 1m 49s\n",
      "513:\tlearn: 0.4096812\ttest: 0.6045425\tbest: 0.6045425 (513)\ttotal: 1m 55s\tremaining: 1m 49s\n",
      "514:\tlearn: 0.4091748\ttest: 0.6043846\tbest: 0.6043846 (514)\ttotal: 1m 55s\tremaining: 1m 48s\n",
      "515:\tlearn: 0.4088474\ttest: 0.6044896\tbest: 0.6043846 (514)\ttotal: 1m 55s\tremaining: 1m 48s\n",
      "516:\tlearn: 0.4084063\ttest: 0.6043702\tbest: 0.6043702 (516)\ttotal: 1m 56s\tremaining: 1m 48s\n",
      "517:\tlearn: 0.4082481\ttest: 0.6043582\tbest: 0.6043582 (517)\ttotal: 1m 56s\tremaining: 1m 48s\n",
      "518:\tlearn: 0.4080575\ttest: 0.6042454\tbest: 0.6042454 (518)\ttotal: 1m 56s\tremaining: 1m 47s\n",
      "519:\tlearn: 0.4077519\ttest: 0.6044048\tbest: 0.6042454 (518)\ttotal: 1m 56s\tremaining: 1m 47s\n",
      "520:\tlearn: 0.4075516\ttest: 0.6043990\tbest: 0.6042454 (518)\ttotal: 1m 56s\tremaining: 1m 47s\n",
      "521:\tlearn: 0.4073115\ttest: 0.6043031\tbest: 0.6042454 (518)\ttotal: 1m 57s\tremaining: 1m 47s\n",
      "522:\tlearn: 0.4070755\ttest: 0.6041497\tbest: 0.6041497 (522)\ttotal: 1m 57s\tremaining: 1m 46s\n",
      "523:\tlearn: 0.4070320\ttest: 0.6041326\tbest: 0.6041326 (523)\ttotal: 1m 57s\tremaining: 1m 46s\n",
      "524:\tlearn: 0.4067368\ttest: 0.6040256\tbest: 0.6040256 (524)\ttotal: 1m 57s\tremaining: 1m 46s\n",
      "525:\tlearn: 0.4066059\ttest: 0.6039263\tbest: 0.6039263 (525)\ttotal: 1m 58s\tremaining: 1m 46s\n",
      "526:\tlearn: 0.4061699\ttest: 0.6040244\tbest: 0.6039263 (525)\ttotal: 1m 58s\tremaining: 1m 46s\n",
      "527:\tlearn: 0.4058625\ttest: 0.6035545\tbest: 0.6035545 (527)\ttotal: 1m 58s\tremaining: 1m 46s\n",
      "528:\tlearn: 0.4053154\ttest: 0.6033912\tbest: 0.6033912 (528)\ttotal: 1m 58s\tremaining: 1m 45s\n",
      "529:\tlearn: 0.4047515\ttest: 0.6030053\tbest: 0.6030053 (529)\ttotal: 1m 59s\tremaining: 1m 45s\n",
      "530:\tlearn: 0.4044356\ttest: 0.6030342\tbest: 0.6030053 (529)\ttotal: 1m 59s\tremaining: 1m 45s\n",
      "531:\tlearn: 0.4042540\ttest: 0.6029345\tbest: 0.6029345 (531)\ttotal: 1m 59s\tremaining: 1m 45s\n",
      "532:\tlearn: 0.4040214\ttest: 0.6029492\tbest: 0.6029345 (531)\ttotal: 1m 59s\tremaining: 1m 44s\n",
      "533:\tlearn: 0.4037600\ttest: 0.6028175\tbest: 0.6028175 (533)\ttotal: 2m\tremaining: 1m 44s\n",
      "534:\tlearn: 0.4033572\ttest: 0.6028254\tbest: 0.6028175 (533)\ttotal: 2m\tremaining: 1m 44s\n",
      "535:\tlearn: 0.4030127\ttest: 0.6028616\tbest: 0.6028175 (533)\ttotal: 2m\tremaining: 1m 44s\n",
      "536:\tlearn: 0.4027068\ttest: 0.6028015\tbest: 0.6028015 (536)\ttotal: 2m\tremaining: 1m 44s\n",
      "537:\tlearn: 0.4022278\ttest: 0.6024224\tbest: 0.6024224 (537)\ttotal: 2m\tremaining: 1m 43s\n",
      "538:\tlearn: 0.4018070\ttest: 0.6021238\tbest: 0.6021238 (538)\ttotal: 2m 1s\tremaining: 1m 43s\n",
      "539:\tlearn: 0.4013528\ttest: 0.6020511\tbest: 0.6020511 (539)\ttotal: 2m 1s\tremaining: 1m 43s\n",
      "540:\tlearn: 0.4009884\ttest: 0.6019718\tbest: 0.6019718 (540)\ttotal: 2m 1s\tremaining: 1m 43s\n",
      "541:\tlearn: 0.4008424\ttest: 0.6019035\tbest: 0.6019035 (541)\ttotal: 2m 1s\tremaining: 1m 42s\n",
      "542:\tlearn: 0.4006562\ttest: 0.6020060\tbest: 0.6019035 (541)\ttotal: 2m 2s\tremaining: 1m 42s\n",
      "543:\tlearn: 0.4002166\ttest: 0.6021700\tbest: 0.6019035 (541)\ttotal: 2m 2s\tremaining: 1m 42s\n",
      "544:\tlearn: 0.3999171\ttest: 0.6019982\tbest: 0.6019035 (541)\ttotal: 2m 2s\tremaining: 1m 42s\n",
      "545:\tlearn: 0.3997387\ttest: 0.6020307\tbest: 0.6019035 (541)\ttotal: 2m 2s\tremaining: 1m 42s\n",
      "546:\tlearn: 0.3994888\ttest: 0.6019225\tbest: 0.6019035 (541)\ttotal: 2m 3s\tremaining: 1m 41s\n",
      "547:\tlearn: 0.3990542\ttest: 0.6019535\tbest: 0.6019035 (541)\ttotal: 2m 3s\tremaining: 1m 41s\n",
      "548:\tlearn: 0.3989561\ttest: 0.6020071\tbest: 0.6019035 (541)\ttotal: 2m 3s\tremaining: 1m 41s\n",
      "549:\tlearn: 0.3987068\ttest: 0.6020832\tbest: 0.6019035 (541)\ttotal: 2m 4s\tremaining: 1m 41s\n",
      "550:\tlearn: 0.3983824\ttest: 0.6017648\tbest: 0.6017648 (550)\ttotal: 2m 5s\tremaining: 1m 41s\n",
      "551:\tlearn: 0.3981457\ttest: 0.6015976\tbest: 0.6015976 (551)\ttotal: 2m 5s\tremaining: 1m 41s\n",
      "552:\tlearn: 0.3979242\ttest: 0.6014050\tbest: 0.6014050 (552)\ttotal: 2m 5s\tremaining: 1m 41s\n",
      "553:\tlearn: 0.3975529\ttest: 0.6012342\tbest: 0.6012342 (553)\ttotal: 2m 5s\tremaining: 1m 41s\n",
      "554:\tlearn: 0.3974539\ttest: 0.6012101\tbest: 0.6012101 (554)\ttotal: 2m 6s\tremaining: 1m 41s\n",
      "555:\tlearn: 0.3973527\ttest: 0.6012166\tbest: 0.6012101 (554)\ttotal: 2m 6s\tremaining: 1m 40s\n",
      "556:\tlearn: 0.3969378\ttest: 0.6012695\tbest: 0.6012101 (554)\ttotal: 2m 6s\tremaining: 1m 40s\n",
      "557:\tlearn: 0.3966394\ttest: 0.6010888\tbest: 0.6010888 (557)\ttotal: 2m 6s\tremaining: 1m 40s\n",
      "558:\tlearn: 0.3960786\ttest: 0.6009795\tbest: 0.6009795 (558)\ttotal: 2m 7s\tremaining: 1m 40s\n",
      "559:\tlearn: 0.3959228\ttest: 0.6009002\tbest: 0.6009002 (559)\ttotal: 2m 7s\tremaining: 1m 40s\n",
      "560:\tlearn: 0.3956793\ttest: 0.6008002\tbest: 0.6008002 (560)\ttotal: 2m 7s\tremaining: 1m 39s\n",
      "561:\tlearn: 0.3952734\ttest: 0.6004475\tbest: 0.6004475 (561)\ttotal: 2m 7s\tremaining: 1m 39s\n",
      "562:\tlearn: 0.3948069\ttest: 0.6000969\tbest: 0.6000969 (562)\ttotal: 2m 8s\tremaining: 1m 39s\n",
      "563:\tlearn: 0.3942245\ttest: 0.5995848\tbest: 0.5995848 (563)\ttotal: 2m 8s\tremaining: 1m 39s\n",
      "564:\tlearn: 0.3941881\ttest: 0.5995728\tbest: 0.5995728 (564)\ttotal: 2m 8s\tremaining: 1m 38s\n",
      "565:\tlearn: 0.3939417\ttest: 0.5995144\tbest: 0.5995144 (565)\ttotal: 2m 8s\tremaining: 1m 38s\n",
      "566:\tlearn: 0.3938797\ttest: 0.5994659\tbest: 0.5994659 (566)\ttotal: 2m 9s\tremaining: 1m 38s\n",
      "567:\tlearn: 0.3932537\ttest: 0.5989517\tbest: 0.5989517 (567)\ttotal: 2m 9s\tremaining: 1m 38s\n",
      "568:\tlearn: 0.3930475\ttest: 0.5989880\tbest: 0.5989517 (567)\ttotal: 2m 9s\tremaining: 1m 38s\n",
      "569:\tlearn: 0.3927282\ttest: 0.5988715\tbest: 0.5988715 (569)\ttotal: 2m 9s\tremaining: 1m 37s\n",
      "570:\tlearn: 0.3919768\ttest: 0.5989005\tbest: 0.5988715 (569)\ttotal: 2m 9s\tremaining: 1m 37s\n",
      "571:\tlearn: 0.3919071\ttest: 0.5989240\tbest: 0.5988715 (569)\ttotal: 2m 10s\tremaining: 1m 37s\n",
      "572:\tlearn: 0.3912484\ttest: 0.5987967\tbest: 0.5987967 (572)\ttotal: 2m 10s\tremaining: 1m 37s\n",
      "573:\tlearn: 0.3910553\ttest: 0.5988372\tbest: 0.5987967 (572)\ttotal: 2m 10s\tremaining: 1m 36s\n",
      "574:\tlearn: 0.3907319\ttest: 0.5987944\tbest: 0.5987944 (574)\ttotal: 2m 10s\tremaining: 1m 36s\n",
      "575:\tlearn: 0.3904551\ttest: 0.5989312\tbest: 0.5987944 (574)\ttotal: 2m 11s\tremaining: 1m 36s\n",
      "576:\tlearn: 0.3899473\ttest: 0.5990769\tbest: 0.5987944 (574)\ttotal: 2m 11s\tremaining: 1m 36s\n",
      "577:\tlearn: 0.3898251\ttest: 0.5990955\tbest: 0.5987944 (574)\ttotal: 2m 11s\tremaining: 1m 36s\n",
      "578:\tlearn: 0.3894648\ttest: 0.5991697\tbest: 0.5987944 (574)\ttotal: 2m 11s\tremaining: 1m 35s\n",
      "579:\tlearn: 0.3891566\ttest: 0.5991668\tbest: 0.5987944 (574)\ttotal: 2m 11s\tremaining: 1m 35s\n",
      "580:\tlearn: 0.3889004\ttest: 0.5991418\tbest: 0.5987944 (574)\ttotal: 2m 12s\tremaining: 1m 35s\n",
      "581:\tlearn: 0.3888624\ttest: 0.5991421\tbest: 0.5987944 (574)\ttotal: 2m 12s\tremaining: 1m 35s\n",
      "582:\tlearn: 0.3885024\ttest: 0.5990354\tbest: 0.5987944 (574)\ttotal: 2m 12s\tremaining: 1m 34s\n",
      "583:\tlearn: 0.3882197\ttest: 0.5990043\tbest: 0.5987944 (574)\ttotal: 2m 12s\tremaining: 1m 34s\n",
      "584:\tlearn: 0.3879345\ttest: 0.5991413\tbest: 0.5987944 (574)\ttotal: 2m 12s\tremaining: 1m 34s\n",
      "585:\tlearn: 0.3878371\ttest: 0.5991693\tbest: 0.5987944 (574)\ttotal: 2m 13s\tremaining: 1m 34s\n",
      "586:\tlearn: 0.3876729\ttest: 0.5990795\tbest: 0.5987944 (574)\ttotal: 2m 13s\tremaining: 1m 33s\n",
      "587:\tlearn: 0.3871122\ttest: 0.5989444\tbest: 0.5987944 (574)\ttotal: 2m 13s\tremaining: 1m 33s\n",
      "588:\tlearn: 0.3864034\ttest: 0.5987580\tbest: 0.5987580 (588)\ttotal: 2m 13s\tremaining: 1m 33s\n",
      "589:\tlearn: 0.3860940\ttest: 0.5988734\tbest: 0.5987580 (588)\ttotal: 2m 14s\tremaining: 1m 33s\n",
      "590:\tlearn: 0.3860022\ttest: 0.5989220\tbest: 0.5987580 (588)\ttotal: 2m 14s\tremaining: 1m 32s\n",
      "591:\tlearn: 0.3855868\ttest: 0.5989042\tbest: 0.5987580 (588)\ttotal: 2m 14s\tremaining: 1m 32s\n",
      "592:\tlearn: 0.3852631\ttest: 0.5989504\tbest: 0.5987580 (588)\ttotal: 2m 14s\tremaining: 1m 32s\n",
      "593:\tlearn: 0.3851564\ttest: 0.5989622\tbest: 0.5987580 (588)\ttotal: 2m 14s\tremaining: 1m 32s\n",
      "594:\tlearn: 0.3848082\ttest: 0.5989133\tbest: 0.5987580 (588)\ttotal: 2m 15s\tremaining: 1m 31s\n",
      "595:\tlearn: 0.3846525\ttest: 0.5988867\tbest: 0.5987580 (588)\ttotal: 2m 15s\tremaining: 1m 31s\n",
      "596:\tlearn: 0.3840956\ttest: 0.5988768\tbest: 0.5987580 (588)\ttotal: 2m 15s\tremaining: 1m 31s\n",
      "597:\tlearn: 0.3837062\ttest: 0.5985144\tbest: 0.5985144 (597)\ttotal: 2m 15s\tremaining: 1m 31s\n",
      "598:\tlearn: 0.3833898\ttest: 0.5984831\tbest: 0.5984831 (598)\ttotal: 2m 16s\tremaining: 1m 31s\n",
      "599:\tlearn: 0.3832617\ttest: 0.5985273\tbest: 0.5984831 (598)\ttotal: 2m 16s\tremaining: 1m 30s\n",
      "600:\tlearn: 0.3831283\ttest: 0.5986373\tbest: 0.5984831 (598)\ttotal: 2m 16s\tremaining: 1m 30s\n",
      "601:\tlearn: 0.3829826\ttest: 0.5986080\tbest: 0.5984831 (598)\ttotal: 2m 16s\tremaining: 1m 30s\n",
      "602:\tlearn: 0.3828611\ttest: 0.5986588\tbest: 0.5984831 (598)\ttotal: 2m 17s\tremaining: 1m 30s\n",
      "603:\tlearn: 0.3820673\ttest: 0.5982380\tbest: 0.5982380 (603)\ttotal: 2m 17s\tremaining: 1m 29s\n",
      "604:\tlearn: 0.3818779\ttest: 0.5982508\tbest: 0.5982380 (603)\ttotal: 2m 17s\tremaining: 1m 29s\n",
      "605:\tlearn: 0.3816116\ttest: 0.5979642\tbest: 0.5979642 (605)\ttotal: 2m 17s\tremaining: 1m 29s\n",
      "606:\tlearn: 0.3812503\ttest: 0.5975735\tbest: 0.5975735 (606)\ttotal: 2m 18s\tremaining: 1m 29s\n",
      "607:\tlearn: 0.3808415\ttest: 0.5974456\tbest: 0.5974456 (607)\ttotal: 2m 18s\tremaining: 1m 29s\n",
      "608:\tlearn: 0.3805174\ttest: 0.5971606\tbest: 0.5971606 (608)\ttotal: 2m 18s\tremaining: 1m 28s\n",
      "609:\tlearn: 0.3802108\ttest: 0.5969447\tbest: 0.5969447 (609)\ttotal: 2m 18s\tremaining: 1m 28s\n",
      "610:\tlearn: 0.3799269\ttest: 0.5968680\tbest: 0.5968680 (610)\ttotal: 2m 18s\tremaining: 1m 28s\n",
      "611:\tlearn: 0.3795093\ttest: 0.5966866\tbest: 0.5966866 (611)\ttotal: 2m 19s\tremaining: 1m 28s\n",
      "612:\tlearn: 0.3793296\ttest: 0.5966554\tbest: 0.5966554 (612)\ttotal: 2m 19s\tremaining: 1m 27s\n",
      "613:\tlearn: 0.3790173\ttest: 0.5967818\tbest: 0.5966554 (612)\ttotal: 2m 19s\tremaining: 1m 27s\n",
      "614:\tlearn: 0.3786629\ttest: 0.5968147\tbest: 0.5966554 (612)\ttotal: 2m 19s\tremaining: 1m 27s\n",
      "615:\tlearn: 0.3784018\ttest: 0.5968305\tbest: 0.5966554 (612)\ttotal: 2m 19s\tremaining: 1m 27s\n",
      "616:\tlearn: 0.3782762\ttest: 0.5968793\tbest: 0.5966554 (612)\ttotal: 2m 20s\tremaining: 1m 27s\n",
      "617:\tlearn: 0.3780778\ttest: 0.5969543\tbest: 0.5966554 (612)\ttotal: 2m 20s\tremaining: 1m 26s\n",
      "618:\tlearn: 0.3776852\ttest: 0.5969497\tbest: 0.5966554 (612)\ttotal: 2m 20s\tremaining: 1m 26s\n",
      "619:\tlearn: 0.3772772\ttest: 0.5969042\tbest: 0.5966554 (612)\ttotal: 2m 20s\tremaining: 1m 26s\n",
      "620:\tlearn: 0.3769745\ttest: 0.5966136\tbest: 0.5966136 (620)\ttotal: 2m 20s\tremaining: 1m 26s\n",
      "621:\tlearn: 0.3766484\ttest: 0.5964997\tbest: 0.5964997 (621)\ttotal: 2m 21s\tremaining: 1m 25s\n",
      "622:\tlearn: 0.3764755\ttest: 0.5965250\tbest: 0.5964997 (621)\ttotal: 2m 21s\tremaining: 1m 25s\n",
      "623:\tlearn: 0.3762473\ttest: 0.5966009\tbest: 0.5964997 (621)\ttotal: 2m 21s\tremaining: 1m 25s\n",
      "624:\tlearn: 0.3761042\ttest: 0.5965445\tbest: 0.5964997 (621)\ttotal: 2m 21s\tremaining: 1m 25s\n",
      "625:\tlearn: 0.3759235\ttest: 0.5964256\tbest: 0.5964256 (625)\ttotal: 2m 21s\tremaining: 1m 24s\n",
      "626:\tlearn: 0.3753762\ttest: 0.5963295\tbest: 0.5963295 (626)\ttotal: 2m 22s\tremaining: 1m 24s\n",
      "627:\tlearn: 0.3751622\ttest: 0.5963819\tbest: 0.5963295 (626)\ttotal: 2m 22s\tremaining: 1m 24s\n",
      "628:\tlearn: 0.3747236\ttest: 0.5963894\tbest: 0.5963295 (626)\ttotal: 2m 22s\tremaining: 1m 24s\n",
      "629:\tlearn: 0.3746608\ttest: 0.5964107\tbest: 0.5963295 (626)\ttotal: 2m 22s\tremaining: 1m 23s\n",
      "630:\tlearn: 0.3744015\ttest: 0.5964834\tbest: 0.5963295 (626)\ttotal: 2m 22s\tremaining: 1m 23s\n",
      "631:\tlearn: 0.3741220\ttest: 0.5964623\tbest: 0.5963295 (626)\ttotal: 2m 23s\tremaining: 1m 23s\n",
      "632:\tlearn: 0.3740241\ttest: 0.5964403\tbest: 0.5963295 (626)\ttotal: 2m 23s\tremaining: 1m 23s\n",
      "633:\tlearn: 0.3736596\ttest: 0.5963497\tbest: 0.5963295 (626)\ttotal: 2m 23s\tremaining: 1m 22s\n",
      "634:\tlearn: 0.3734194\ttest: 0.5964123\tbest: 0.5963295 (626)\ttotal: 2m 23s\tremaining: 1m 22s\n",
      "635:\tlearn: 0.3732301\ttest: 0.5964659\tbest: 0.5963295 (626)\ttotal: 2m 24s\tremaining: 1m 22s\n",
      "636:\tlearn: 0.3730392\ttest: 0.5965142\tbest: 0.5963295 (626)\ttotal: 2m 24s\tremaining: 1m 22s\n",
      "637:\tlearn: 0.3727571\ttest: 0.5964037\tbest: 0.5963295 (626)\ttotal: 2m 24s\tremaining: 1m 21s\n",
      "638:\tlearn: 0.3723045\ttest: 0.5963115\tbest: 0.5963115 (638)\ttotal: 2m 24s\tremaining: 1m 21s\n",
      "639:\tlearn: 0.3719586\ttest: 0.5961507\tbest: 0.5961507 (639)\ttotal: 2m 24s\tremaining: 1m 21s\n",
      "640:\tlearn: 0.3718845\ttest: 0.5961245\tbest: 0.5961245 (640)\ttotal: 2m 25s\tremaining: 1m 21s\n",
      "641:\tlearn: 0.3716773\ttest: 0.5961536\tbest: 0.5961245 (640)\ttotal: 2m 25s\tremaining: 1m 20s\n",
      "642:\tlearn: 0.3714855\ttest: 0.5960702\tbest: 0.5960702 (642)\ttotal: 2m 25s\tremaining: 1m 20s\n",
      "643:\tlearn: 0.3713925\ttest: 0.5961276\tbest: 0.5960702 (642)\ttotal: 2m 25s\tremaining: 1m 20s\n",
      "644:\tlearn: 0.3710855\ttest: 0.5959637\tbest: 0.5959637 (644)\ttotal: 2m 25s\tremaining: 1m 20s\n",
      "645:\tlearn: 0.3709061\ttest: 0.5959686\tbest: 0.5959637 (644)\ttotal: 2m 26s\tremaining: 1m 20s\n",
      "646:\tlearn: 0.3705947\ttest: 0.5959527\tbest: 0.5959527 (646)\ttotal: 2m 26s\tremaining: 1m 19s\n",
      "647:\tlearn: 0.3705322\ttest: 0.5959264\tbest: 0.5959264 (647)\ttotal: 2m 26s\tremaining: 1m 19s\n",
      "648:\tlearn: 0.3704105\ttest: 0.5958916\tbest: 0.5958916 (648)\ttotal: 2m 26s\tremaining: 1m 19s\n",
      "649:\tlearn: 0.3702178\ttest: 0.5957878\tbest: 0.5957878 (649)\ttotal: 2m 26s\tremaining: 1m 19s\n",
      "650:\tlearn: 0.3699581\ttest: 0.5956768\tbest: 0.5956768 (650)\ttotal: 2m 27s\tremaining: 1m 18s\n",
      "651:\tlearn: 0.3697592\ttest: 0.5956275\tbest: 0.5956275 (651)\ttotal: 2m 27s\tremaining: 1m 18s\n",
      "652:\tlearn: 0.3695789\ttest: 0.5956099\tbest: 0.5956099 (652)\ttotal: 2m 27s\tremaining: 1m 18s\n",
      "653:\tlearn: 0.3690470\ttest: 0.5955403\tbest: 0.5955403 (653)\ttotal: 2m 27s\tremaining: 1m 18s\n",
      "654:\tlearn: 0.3686524\ttest: 0.5955862\tbest: 0.5955403 (653)\ttotal: 2m 27s\tremaining: 1m 17s\n",
      "655:\tlearn: 0.3684654\ttest: 0.5956973\tbest: 0.5955403 (653)\ttotal: 2m 28s\tremaining: 1m 17s\n",
      "656:\tlearn: 0.3682383\ttest: 0.5955519\tbest: 0.5955403 (653)\ttotal: 2m 28s\tremaining: 1m 17s\n",
      "657:\tlearn: 0.3679472\ttest: 0.5956439\tbest: 0.5955403 (653)\ttotal: 2m 28s\tremaining: 1m 17s\n",
      "658:\tlearn: 0.3677079\ttest: 0.5954897\tbest: 0.5954897 (658)\ttotal: 2m 28s\tremaining: 1m 16s\n",
      "659:\tlearn: 0.3674326\ttest: 0.5954597\tbest: 0.5954597 (659)\ttotal: 2m 28s\tremaining: 1m 16s\n",
      "660:\tlearn: 0.3671023\ttest: 0.5953938\tbest: 0.5953938 (660)\ttotal: 2m 29s\tremaining: 1m 16s\n",
      "661:\tlearn: 0.3667552\ttest: 0.5953606\tbest: 0.5953606 (661)\ttotal: 2m 29s\tremaining: 1m 16s\n",
      "662:\tlearn: 0.3663814\ttest: 0.5955657\tbest: 0.5953606 (661)\ttotal: 2m 29s\tremaining: 1m 16s\n",
      "663:\tlearn: 0.3663248\ttest: 0.5955180\tbest: 0.5953606 (661)\ttotal: 2m 29s\tremaining: 1m 15s\n",
      "664:\tlearn: 0.3660793\ttest: 0.5955683\tbest: 0.5953606 (661)\ttotal: 2m 29s\tremaining: 1m 15s\n",
      "665:\tlearn: 0.3658236\ttest: 0.5955607\tbest: 0.5953606 (661)\ttotal: 2m 30s\tremaining: 1m 15s\n",
      "666:\tlearn: 0.3654798\ttest: 0.5954731\tbest: 0.5953606 (661)\ttotal: 2m 30s\tremaining: 1m 15s\n",
      "667:\tlearn: 0.3653323\ttest: 0.5954337\tbest: 0.5953606 (661)\ttotal: 2m 30s\tremaining: 1m 14s\n",
      "668:\tlearn: 0.3652568\ttest: 0.5954199\tbest: 0.5953606 (661)\ttotal: 2m 30s\tremaining: 1m 14s\n",
      "669:\tlearn: 0.3648999\ttest: 0.5952143\tbest: 0.5952143 (669)\ttotal: 2m 31s\tremaining: 1m 14s\n",
      "670:\tlearn: 0.3642565\ttest: 0.5950932\tbest: 0.5950932 (670)\ttotal: 2m 31s\tremaining: 1m 14s\n",
      "671:\tlearn: 0.3639447\ttest: 0.5948748\tbest: 0.5948748 (671)\ttotal: 2m 31s\tremaining: 1m 13s\n",
      "672:\tlearn: 0.3632772\ttest: 0.5944858\tbest: 0.5944858 (672)\ttotal: 2m 31s\tremaining: 1m 13s\n",
      "673:\tlearn: 0.3631534\ttest: 0.5944013\tbest: 0.5944013 (673)\ttotal: 2m 31s\tremaining: 1m 13s\n",
      "674:\tlearn: 0.3627685\ttest: 0.5941701\tbest: 0.5941701 (674)\ttotal: 2m 32s\tremaining: 1m 13s\n",
      "675:\tlearn: 0.3625977\ttest: 0.5940741\tbest: 0.5940741 (675)\ttotal: 2m 32s\tremaining: 1m 12s\n",
      "676:\tlearn: 0.3621753\ttest: 0.5940242\tbest: 0.5940242 (676)\ttotal: 2m 32s\tremaining: 1m 12s\n",
      "677:\tlearn: 0.3618652\ttest: 0.5939145\tbest: 0.5939145 (677)\ttotal: 2m 32s\tremaining: 1m 12s\n",
      "678:\tlearn: 0.3617382\ttest: 0.5938510\tbest: 0.5938510 (678)\ttotal: 2m 32s\tremaining: 1m 12s\n",
      "679:\tlearn: 0.3614735\ttest: 0.5937623\tbest: 0.5937623 (679)\ttotal: 2m 33s\tremaining: 1m 12s\n",
      "680:\tlearn: 0.3610850\ttest: 0.5936670\tbest: 0.5936670 (680)\ttotal: 2m 33s\tremaining: 1m 11s\n",
      "681:\tlearn: 0.3609688\ttest: 0.5936350\tbest: 0.5936350 (681)\ttotal: 2m 33s\tremaining: 1m 11s\n",
      "682:\tlearn: 0.3608469\ttest: 0.5935478\tbest: 0.5935478 (682)\ttotal: 2m 33s\tremaining: 1m 11s\n",
      "683:\tlearn: 0.3606114\ttest: 0.5936386\tbest: 0.5935478 (682)\ttotal: 2m 33s\tremaining: 1m 11s\n",
      "684:\tlearn: 0.3604613\ttest: 0.5935358\tbest: 0.5935358 (684)\ttotal: 2m 33s\tremaining: 1m 10s\n",
      "685:\tlearn: 0.3603685\ttest: 0.5935702\tbest: 0.5935358 (684)\ttotal: 2m 34s\tremaining: 1m 10s\n",
      "686:\tlearn: 0.3601876\ttest: 0.5935780\tbest: 0.5935358 (684)\ttotal: 2m 34s\tremaining: 1m 10s\n",
      "687:\tlearn: 0.3599327\ttest: 0.5935991\tbest: 0.5935358 (684)\ttotal: 2m 34s\tremaining: 1m 10s\n",
      "688:\tlearn: 0.3597816\ttest: 0.5936043\tbest: 0.5935358 (684)\ttotal: 2m 34s\tremaining: 1m 9s\n",
      "689:\tlearn: 0.3596863\ttest: 0.5936280\tbest: 0.5935358 (684)\ttotal: 2m 34s\tremaining: 1m 9s\n",
      "690:\tlearn: 0.3596544\ttest: 0.5936256\tbest: 0.5935358 (684)\ttotal: 2m 35s\tremaining: 1m 9s\n",
      "691:\tlearn: 0.3594230\ttest: 0.5934903\tbest: 0.5934903 (691)\ttotal: 2m 35s\tremaining: 1m 9s\n",
      "692:\tlearn: 0.3592556\ttest: 0.5935508\tbest: 0.5934903 (691)\ttotal: 2m 35s\tremaining: 1m 8s\n",
      "693:\tlearn: 0.3590230\ttest: 0.5934695\tbest: 0.5934695 (693)\ttotal: 2m 35s\tremaining: 1m 8s\n",
      "694:\tlearn: 0.3588035\ttest: 0.5933844\tbest: 0.5933844 (694)\ttotal: 2m 35s\tremaining: 1m 8s\n",
      "695:\tlearn: 0.3587600\ttest: 0.5933556\tbest: 0.5933556 (695)\ttotal: 2m 36s\tremaining: 1m 8s\n",
      "696:\tlearn: 0.3587255\ttest: 0.5934014\tbest: 0.5933556 (695)\ttotal: 2m 36s\tremaining: 1m 7s\n",
      "697:\tlearn: 0.3584442\ttest: 0.5935319\tbest: 0.5933556 (695)\ttotal: 2m 36s\tremaining: 1m 7s\n",
      "698:\tlearn: 0.3581900\ttest: 0.5934817\tbest: 0.5933556 (695)\ttotal: 2m 36s\tremaining: 1m 7s\n",
      "699:\tlearn: 0.3579633\ttest: 0.5935527\tbest: 0.5933556 (695)\ttotal: 2m 36s\tremaining: 1m 7s\n",
      "700:\tlearn: 0.3576673\ttest: 0.5934898\tbest: 0.5933556 (695)\ttotal: 2m 37s\tremaining: 1m 7s\n",
      "701:\tlearn: 0.3575138\ttest: 0.5934973\tbest: 0.5933556 (695)\ttotal: 2m 37s\tremaining: 1m 6s\n",
      "702:\tlearn: 0.3573362\ttest: 0.5935063\tbest: 0.5933556 (695)\ttotal: 2m 37s\tremaining: 1m 6s\n",
      "703:\tlearn: 0.3570500\ttest: 0.5935334\tbest: 0.5933556 (695)\ttotal: 2m 37s\tremaining: 1m 6s\n",
      "704:\tlearn: 0.3568248\ttest: 0.5935933\tbest: 0.5933556 (695)\ttotal: 2m 38s\tremaining: 1m 6s\n",
      "705:\tlearn: 0.3566717\ttest: 0.5935147\tbest: 0.5933556 (695)\ttotal: 2m 38s\tremaining: 1m 5s\n",
      "706:\tlearn: 0.3565316\ttest: 0.5934316\tbest: 0.5933556 (695)\ttotal: 2m 38s\tremaining: 1m 5s\n",
      "707:\tlearn: 0.3563278\ttest: 0.5933737\tbest: 0.5933556 (695)\ttotal: 2m 38s\tremaining: 1m 5s\n",
      "708:\tlearn: 0.3561959\ttest: 0.5933807\tbest: 0.5933556 (695)\ttotal: 2m 38s\tremaining: 1m 5s\n",
      "709:\tlearn: 0.3558468\ttest: 0.5931139\tbest: 0.5931139 (709)\ttotal: 2m 39s\tremaining: 1m 4s\n",
      "710:\tlearn: 0.3555307\ttest: 0.5930965\tbest: 0.5930965 (710)\ttotal: 2m 39s\tremaining: 1m 4s\n",
      "711:\tlearn: 0.3554357\ttest: 0.5931189\tbest: 0.5930965 (710)\ttotal: 2m 39s\tremaining: 1m 4s\n",
      "712:\tlearn: 0.3552475\ttest: 0.5930931\tbest: 0.5930931 (712)\ttotal: 2m 39s\tremaining: 1m 4s\n",
      "713:\tlearn: 0.3551267\ttest: 0.5931029\tbest: 0.5930931 (712)\ttotal: 2m 39s\tremaining: 1m 4s\n",
      "714:\tlearn: 0.3546743\ttest: 0.5929456\tbest: 0.5929456 (714)\ttotal: 2m 40s\tremaining: 1m 3s\n",
      "715:\tlearn: 0.3544632\ttest: 0.5930595\tbest: 0.5929456 (714)\ttotal: 2m 40s\tremaining: 1m 3s\n",
      "716:\tlearn: 0.3541358\ttest: 0.5929840\tbest: 0.5929456 (714)\ttotal: 2m 40s\tremaining: 1m 3s\n",
      "717:\tlearn: 0.3540041\ttest: 0.5930307\tbest: 0.5929456 (714)\ttotal: 2m 40s\tremaining: 1m 3s\n",
      "718:\tlearn: 0.3537986\ttest: 0.5930190\tbest: 0.5929456 (714)\ttotal: 2m 40s\tremaining: 1m 2s\n",
      "719:\tlearn: 0.3536510\ttest: 0.5930750\tbest: 0.5929456 (714)\ttotal: 2m 41s\tremaining: 1m 2s\n",
      "720:\tlearn: 0.3534185\ttest: 0.5928687\tbest: 0.5928687 (720)\ttotal: 2m 41s\tremaining: 1m 2s\n",
      "721:\tlearn: 0.3532437\ttest: 0.5927073\tbest: 0.5927073 (721)\ttotal: 2m 41s\tremaining: 1m 2s\n",
      "722:\tlearn: 0.3531389\ttest: 0.5927043\tbest: 0.5927043 (722)\ttotal: 2m 41s\tremaining: 1m 1s\n",
      "723:\tlearn: 0.3530724\ttest: 0.5927120\tbest: 0.5927043 (722)\ttotal: 2m 41s\tremaining: 1m 1s\n",
      "724:\tlearn: 0.3527684\ttest: 0.5926866\tbest: 0.5926866 (724)\ttotal: 2m 42s\tremaining: 1m 1s\n",
      "725:\tlearn: 0.3526584\ttest: 0.5927629\tbest: 0.5926866 (724)\ttotal: 2m 42s\tremaining: 1m 1s\n",
      "726:\tlearn: 0.3525825\ttest: 0.5927354\tbest: 0.5926866 (724)\ttotal: 2m 42s\tremaining: 1m 1s\n",
      "727:\tlearn: 0.3522839\ttest: 0.5927702\tbest: 0.5926866 (724)\ttotal: 2m 42s\tremaining: 1m\n",
      "728:\tlearn: 0.3521678\ttest: 0.5928682\tbest: 0.5926866 (724)\ttotal: 2m 43s\tremaining: 1m\n",
      "729:\tlearn: 0.3518113\ttest: 0.5928143\tbest: 0.5926866 (724)\ttotal: 2m 43s\tremaining: 1m\n",
      "730:\tlearn: 0.3514566\ttest: 0.5928311\tbest: 0.5926866 (724)\ttotal: 2m 43s\tremaining: 1m\n",
      "731:\tlearn: 0.3513146\ttest: 0.5927750\tbest: 0.5926866 (724)\ttotal: 2m 43s\tremaining: 59.9s\n",
      "732:\tlearn: 0.3511324\ttest: 0.5928078\tbest: 0.5926866 (724)\ttotal: 2m 43s\tremaining: 59.7s\n",
      "733:\tlearn: 0.3511050\ttest: 0.5927869\tbest: 0.5926866 (724)\ttotal: 2m 44s\tremaining: 59.5s\n",
      "734:\tlearn: 0.3508649\ttest: 0.5926915\tbest: 0.5926866 (724)\ttotal: 2m 44s\tremaining: 59.2s\n",
      "735:\tlearn: 0.3508284\ttest: 0.5927353\tbest: 0.5926866 (724)\ttotal: 2m 44s\tremaining: 59s\n",
      "736:\tlearn: 0.3507669\ttest: 0.5927323\tbest: 0.5926866 (724)\ttotal: 2m 44s\tremaining: 58.8s\n",
      "737:\tlearn: 0.3504945\ttest: 0.5927655\tbest: 0.5926866 (724)\ttotal: 2m 44s\tremaining: 58.6s\n",
      "738:\tlearn: 0.3500547\ttest: 0.5928896\tbest: 0.5926866 (724)\ttotal: 2m 45s\tremaining: 58.3s\n",
      "739:\tlearn: 0.3499643\ttest: 0.5928833\tbest: 0.5926866 (724)\ttotal: 2m 45s\tremaining: 58.1s\n",
      "740:\tlearn: 0.3498391\ttest: 0.5927085\tbest: 0.5926866 (724)\ttotal: 2m 45s\tremaining: 57.9s\n",
      "741:\tlearn: 0.3497044\ttest: 0.5927207\tbest: 0.5926866 (724)\ttotal: 2m 45s\tremaining: 57.6s\n",
      "742:\tlearn: 0.3496041\ttest: 0.5926670\tbest: 0.5926670 (742)\ttotal: 2m 45s\tremaining: 57.4s\n",
      "743:\tlearn: 0.3493111\ttest: 0.5928013\tbest: 0.5926670 (742)\ttotal: 2m 46s\tremaining: 57.2s\n",
      "744:\tlearn: 0.3489885\ttest: 0.5928742\tbest: 0.5926670 (742)\ttotal: 2m 46s\tremaining: 56.9s\n",
      "745:\tlearn: 0.3487887\ttest: 0.5928914\tbest: 0.5926670 (742)\ttotal: 2m 46s\tremaining: 56.7s\n",
      "746:\tlearn: 0.3486374\ttest: 0.5929101\tbest: 0.5926670 (742)\ttotal: 2m 46s\tremaining: 56.5s\n",
      "747:\tlearn: 0.3479830\ttest: 0.5928156\tbest: 0.5926670 (742)\ttotal: 2m 46s\tremaining: 56.2s\n",
      "748:\tlearn: 0.3477498\ttest: 0.5928452\tbest: 0.5926670 (742)\ttotal: 2m 47s\tremaining: 56s\n",
      "749:\tlearn: 0.3474575\ttest: 0.5929428\tbest: 0.5926670 (742)\ttotal: 2m 47s\tremaining: 55.8s\n",
      "750:\tlearn: 0.3473388\ttest: 0.5928665\tbest: 0.5926670 (742)\ttotal: 2m 47s\tremaining: 55.5s\n",
      "751:\tlearn: 0.3471179\ttest: 0.5927399\tbest: 0.5926670 (742)\ttotal: 2m 47s\tremaining: 55.3s\n",
      "752:\tlearn: 0.3468276\ttest: 0.5927977\tbest: 0.5926670 (742)\ttotal: 2m 47s\tremaining: 55.1s\n",
      "753:\tlearn: 0.3467689\ttest: 0.5927931\tbest: 0.5926670 (742)\ttotal: 2m 48s\tremaining: 54.9s\n",
      "754:\tlearn: 0.3465592\ttest: 0.5928167\tbest: 0.5926670 (742)\ttotal: 2m 48s\tremaining: 54.6s\n",
      "755:\tlearn: 0.3463368\ttest: 0.5926992\tbest: 0.5926670 (742)\ttotal: 2m 48s\tremaining: 54.4s\n",
      "756:\tlearn: 0.3462958\ttest: 0.5926518\tbest: 0.5926518 (756)\ttotal: 2m 48s\tremaining: 54.2s\n",
      "757:\tlearn: 0.3458911\ttest: 0.5926077\tbest: 0.5926077 (757)\ttotal: 2m 48s\tremaining: 53.9s\n",
      "758:\tlearn: 0.3457387\ttest: 0.5926326\tbest: 0.5926077 (757)\ttotal: 2m 49s\tremaining: 53.7s\n",
      "759:\tlearn: 0.3456082\ttest: 0.5926471\tbest: 0.5926077 (757)\ttotal: 2m 49s\tremaining: 53.5s\n",
      "760:\tlearn: 0.3453410\ttest: 0.5927433\tbest: 0.5926077 (757)\ttotal: 2m 49s\tremaining: 53.2s\n",
      "761:\tlearn: 0.3451494\ttest: 0.5927639\tbest: 0.5926077 (757)\ttotal: 2m 49s\tremaining: 53s\n",
      "762:\tlearn: 0.3450095\ttest: 0.5927991\tbest: 0.5926077 (757)\ttotal: 2m 49s\tremaining: 52.8s\n",
      "763:\tlearn: 0.3448268\ttest: 0.5927929\tbest: 0.5926077 (757)\ttotal: 2m 50s\tremaining: 52.5s\n",
      "764:\tlearn: 0.3446759\ttest: 0.5928533\tbest: 0.5926077 (757)\ttotal: 2m 50s\tremaining: 52.3s\n",
      "765:\tlearn: 0.3443122\ttest: 0.5929072\tbest: 0.5926077 (757)\ttotal: 2m 50s\tremaining: 52.1s\n",
      "766:\tlearn: 0.3441506\ttest: 0.5929979\tbest: 0.5926077 (757)\ttotal: 2m 50s\tremaining: 51.9s\n",
      "767:\tlearn: 0.3439780\ttest: 0.5930323\tbest: 0.5926077 (757)\ttotal: 2m 50s\tremaining: 51.6s\n",
      "768:\tlearn: 0.3438047\ttest: 0.5930870\tbest: 0.5926077 (757)\ttotal: 2m 51s\tremaining: 51.4s\n",
      "769:\tlearn: 0.3436773\ttest: 0.5930371\tbest: 0.5926077 (757)\ttotal: 2m 51s\tremaining: 51.2s\n",
      "770:\tlearn: 0.3434328\ttest: 0.5930824\tbest: 0.5926077 (757)\ttotal: 2m 51s\tremaining: 51s\n",
      "771:\tlearn: 0.3432665\ttest: 0.5930563\tbest: 0.5926077 (757)\ttotal: 2m 51s\tremaining: 50.8s\n",
      "772:\tlearn: 0.3430298\ttest: 0.5930652\tbest: 0.5926077 (757)\ttotal: 2m 52s\tremaining: 50.6s\n",
      "773:\tlearn: 0.3427465\ttest: 0.5929513\tbest: 0.5926077 (757)\ttotal: 2m 52s\tremaining: 50.3s\n",
      "774:\tlearn: 0.3425909\ttest: 0.5929589\tbest: 0.5926077 (757)\ttotal: 2m 52s\tremaining: 50.1s\n",
      "775:\tlearn: 0.3423695\ttest: 0.5927655\tbest: 0.5926077 (757)\ttotal: 2m 52s\tremaining: 49.9s\n",
      "776:\tlearn: 0.3421932\ttest: 0.5926765\tbest: 0.5926077 (757)\ttotal: 2m 53s\tremaining: 49.7s\n",
      "777:\tlearn: 0.3419449\ttest: 0.5926763\tbest: 0.5926077 (757)\ttotal: 2m 53s\tremaining: 49.4s\n",
      "Stopped by overfitting detector  (20 iterations wait)\n",
      "\n",
      "bestTest = 0.5926077185\n",
      "bestIteration = 757\n",
      "\n",
      "Shrink model to first 758 iterations.\n"
     ]
    },
    {
     "data": {
      "text/plain": "0.8225"
     },
     "execution_count": 150,
     "metadata": {},
     "output_type": "execute_result"
    }
   ],
   "source": [
    "model.fit(train_pool, plot=True, eval_set=validate_pool)\n",
    "model.score(X_test, y_test)"
   ],
   "metadata": {
    "collapsed": false,
    "pycharm": {
     "name": "#%%\n"
    }
   }
  },
  {
   "cell_type": "code",
   "execution_count": 116,
   "outputs": [
    {
     "data": {
      "text/plain": "1000"
     },
     "execution_count": 116,
     "metadata": {},
     "output_type": "execute_result"
    }
   ],
   "source": [],
   "metadata": {
    "collapsed": false,
    "pycharm": {
     "name": "#%%\n"
    }
   }
  },
  {
   "cell_type": "code",
   "execution_count": 5,
   "outputs": [
    {
     "name": "stdout",
     "output_type": "stream",
     "text": [
      "0\n",
      "843\n"
     ]
    },
    {
     "name": "stderr",
     "output_type": "stream",
     "text": [
      "Custom logger is already specified. Specify more than one logger at same time is not thread safe."
     ]
    },
    {
     "name": "stdout",
     "output_type": "stream",
     "text": [
      "1\n",
      "868\n",
      "2\n",
      "882\n",
      "3\n",
      "851\n",
      "4\n",
      "874\n",
      "5\n",
      "844\n",
      "6\n",
      "865\n",
      "7\n",
      "865\n",
      "8\n",
      "858\n",
      "9\n",
      "862\n",
      "Top 1: 0.8011666666666667\n",
      "Top 5: 0.9523333333333334\n",
      "Mean: 2.6445\n"
     ]
    }
   ],
   "source": [
    "rnd = random.Random()\n",
    "top1 = 0\n",
    "top5 = 0\n",
    "mean = 0\n",
    "iterations = 10\n",
    "for i in range(iterations):\n",
    "    print(i)\n",
    "    X, y, feature_names = usage_loader.load(size=3000, state=random.randint(1, 10000), train_fraction=0.8)\n",
    "    print(len(X[0]))\n",
    "    X_train, X_test, y_train, y_test = train_test_split(X, y, train_size=0.8, shuffle=False)\n",
    "    model = CatBoost()\n",
    "    model.fit(X, y)\n",
    "    metric = calculate(X_train, X_test, y_train, y_test, model)\n",
    "    top1 += metric.top_i(1)\n",
    "    top5 += metric.top_i(5)\n",
    "    mean += metric.mean\n",
    "print(f'Top 1: {top1 / iterations}')\n",
    "print(f'Top 5: {top5 / iterations}')\n",
    "print(f'Mean: {mean / iterations}')"
   ],
   "metadata": {
    "collapsed": false,
    "pycharm": {
     "name": "#%%\n"
    }
   }
  },
  {
   "cell_type": "code",
   "execution_count": 6,
   "outputs": [
    {
     "data": {
      "text/plain": "['targetName_action',\n 'targetName_actions',\n 'targetName_add',\n 'targetName_all',\n 'targetName_annotation',\n 'targetName_build',\n 'targetName_by',\n 'targetName_call',\n 'targetName_change',\n 'targetName_changed',\n 'targetName_check',\n 'targetName_child',\n 'targetName_class',\n 'targetName_code',\n 'targetName_com',\n 'targetName_comment',\n 'targetName_component',\n 'targetName_constructor',\n 'targetName_content',\n 'targetName_context',\n 'targetName_create',\n 'targetName_data',\n 'targetName_default',\n 'targetName_description',\n 'targetName_do',\n 'targetName_editor',\n 'targetName_element',\n 'targetName_error',\n 'targetName_event',\n 'targetName_expression',\n 'targetName_family',\n 'targetName_field',\n 'targetName_file',\n 'targetName_find',\n 'targetName_for',\n 'targetName_from',\n 'targetName_get',\n 'targetName_group',\n 'targetName_icon',\n 'targetName_id',\n 'targetName_in',\n 'targetName_info',\n 'targetName_inspection',\n 'targetName_intellij',\n 'targetName_is',\n 'targetName_java',\n 'targetName_key',\n 'targetName_lambda',\n 'targetName_lang',\n 'targetName_list',\n 'targetName_listener',\n 'targetName_manager',\n 'targetName_message',\n 'targetName_method',\n 'targetName_model',\n 'targetName_module',\n 'targetName_my',\n 'targetName_name',\n 'targetName_new',\n 'targetName_node',\n 'targetName_not',\n 'targetName_object',\n 'targetName_on',\n 'targetName_options',\n 'targetName_panel',\n 'targetName_parent',\n 'targetName_path',\n 'targetName_performed',\n 'targetName_process',\n 'targetName_project',\n 'targetName_property',\n 'targetName_provider',\n 'targetName_psi',\n 'targetName_range',\n 'targetName_reference',\n 'targetName_resolve',\n 'targetName_root',\n 'targetName_run',\n 'targetName_scope',\n 'targetName_selected',\n 'targetName_set',\n 'targetName_settings',\n 'targetName_source',\n 'targetName_state',\n 'targetName_statement',\n 'targetName_string',\n 'targetName_tag',\n 'targetName_target',\n 'targetName_test',\n 'targetName_text',\n 'targetName_title',\n 'targetName_to',\n 'targetName_tree',\n 'targetName_type',\n 'targetName_up',\n 'targetName_update',\n 'targetName_value',\n 'targetName_visit',\n 'targetName_visitor',\n 'targetName_with',\n 'className_abstract',\n 'className_action',\n 'className_android',\n 'className_annotation',\n 'className_base',\n 'className_build',\n 'className_builder',\n 'className_call',\n 'className_change',\n 'className_class',\n 'className_code',\n 'className_completion',\n 'className_component',\n 'className_configurable',\n 'className_configuration',\n 'className_context',\n 'className_data',\n 'className_dependency',\n 'className_descriptor',\n 'className_dialog',\n 'className_diff',\n 'className_dom',\n 'className_editor',\n 'className_element',\n 'className_event',\n 'className_expression',\n 'className_extension',\n 'className_factory',\n 'className_field',\n 'className_file',\n 'className_fix',\n 'className_from',\n 'className_generated',\n 'className_generator',\n 'className_git',\n 'className_gr',\n 'className_gradle',\n 'className_groovy',\n 'className_handler',\n 'className_helper',\n 'className_impl',\n 'className_import',\n 'className_in',\n 'className_index',\n 'className_info',\n 'className_inspection',\n 'className_java',\n 'className_line',\n 'className_list',\n 'className_listener',\n 'className_local',\n 'className_log',\n 'className_manager',\n 'className_maven',\n 'className_method',\n 'className_model',\n 'className_module',\n 'className_my',\n 'className_name',\n 'className_node',\n 'className_panel',\n 'className_popup',\n 'className_processor',\n 'className_project',\n 'className_property',\n 'className_provider',\n 'className_psi',\n 'className_py',\n 'className_quick',\n 'className_reference',\n 'className_renderer',\n 'className_repository',\n 'className_resource',\n 'className_run',\n 'className_search',\n 'className_service',\n 'className_settings',\n 'className_string',\n 'className_stub',\n 'className_style',\n 'className_system',\n 'className_table',\n 'className_task',\n 'className_template',\n 'className_test',\n 'className_text',\n 'className_to',\n 'className_tree',\n 'className_type',\n 'className_ui',\n 'className_uncategorized',\n 'className_util',\n 'className_utils',\n 'className_value',\n 'className_vcs',\n 'className_view',\n 'className_visitor',\n 'className_with',\n 'className_wrapper',\n 'className_xml',\n 'targetType_action',\n 'targetType_an',\n 'targetType_android',\n 'targetType_annotation',\n 'targetType_attributes',\n 'targetType_base',\n 'targetType_boolean',\n 'targetType_builder',\n 'targetType_change',\n 'targetType_char',\n 'targetType_class',\n 'targetType_code',\n 'targetType_collection',\n 'targetType_color',\n 'targetType_component',\n 'targetType_configuration',\n 'targetType_content',\n 'targetType_context',\n 'targetType_data',\n 'targetType_descriptor',\n 'targetType_document',\n 'targetType_dom',\n 'targetType_dsl',\n 'targetType_editor',\n 'targetType_element',\n 'targetType_entry',\n 'targetType_event',\n 'targetType_ex',\n 'targetType_expression',\n 'targetType_extends',\n 'targetType_field',\n 'targetType_file',\n 'targetType_function',\n 'targetType_global',\n 'targetType_gr',\n 'targetType_gradle',\n 'targetType_graph',\n 'targetType_icon',\n 'targetType_id',\n 'targetType_impl',\n 'targetType_info',\n 'targetType_inspection',\n 'targetType_int',\n 'targetType_integer',\n 'targetType_item',\n 'targetType_java',\n 'targetType_key',\n 'targetType_language',\n 'targetType_library',\n 'targetType_line',\n 'targetType_list',\n 'targetType_listener',\n 'targetType_local',\n 'targetType_long',\n 'targetType_manager',\n 'targetType_map',\n 'targetType_maven',\n 'targetType_method',\n 'targetType_model',\n 'targetType_module',\n 'targetType_name',\n 'targetType_node',\n 'targetType_object',\n 'targetType_pair',\n 'targetType_path',\n 'targetType_processor',\n 'targetType_profile',\n 'targetType_progress',\n 'targetType_project',\n 'targetType_provider',\n 'targetType_psi',\n 'targetType_py',\n 'targetType_range',\n 'targetType_ref',\n 'targetType_reference',\n 'targetType_resource',\n 'targetType_result',\n 'targetType_root',\n 'targetType_scope',\n 'targetType_search',\n 'targetType_sequence',\n 'targetType_set',\n 'targetType_settings',\n 'targetType_source',\n 'targetType_state',\n 'targetType_string',\n 'targetType_super',\n 'targetType_system',\n 'targetType_table',\n 'targetType_task',\n 'targetType_text',\n 'targetType_tree',\n 'targetType_type',\n 'targetType_value',\n 'targetType_vcs',\n 'targetType_view',\n 'targetType_virtual',\n 'targetType_visitor',\n 'targetType_void',\n 'targetType_xml',\n 'modifiers_abstract',\n 'modifiers_default',\n 'modifiers_final',\n 'modifiers_private',\n 'modifiers_protected',\n 'modifiers_public',\n 'modifiers_static',\n 'modifiers_synchronized',\n 'modifiers_volatile',\n 'otherAnnotations_action',\n 'otherAnnotations_actions',\n 'otherAnnotations_advertisement',\n 'otherAnnotations_android',\n 'otherAnnotations_api',\n 'otherAnnotations_attribute',\n 'otherAnnotations_build',\n 'otherAnnotations_button',\n 'otherAnnotations_comandroidannotations',\n 'otherAnnotations_comandroidtoolsideacommonmodel',\n 'otherAnnotations_comgooglecommonannotations',\n 'otherAnnotations_comintellijbuildevents',\n 'otherAnnotations_comintellijcode',\n 'otherAnnotations_comintellijopenapiutil',\n 'otherAnnotations_comintellijtest',\n 'otherAnnotations_comintellijutilconcurrencyannotations',\n 'otherAnnotations_comintellijutilxml',\n 'otherAnnotations_comintellijutilxmlbannotations',\n 'otherAnnotations_command',\n 'otherAnnotations_content',\n 'otherAnnotations_contexts',\n 'otherAnnotations_contract',\n 'otherAnnotations_convert',\n 'otherAnnotations_coordinate',\n 'otherAnnotations_data',\n 'otherAnnotations_deprecated',\n 'otherAnnotations_dialog',\n 'otherAnnotations_edt',\n 'otherAnnotations_events',\n 'otherAnnotations_family',\n 'otherAnnotations_for',\n 'otherAnnotations_framework',\n 'otherAnnotations_hint',\n 'otherAnnotations_in',\n 'otherAnnotations_inspection',\n 'otherAnnotations_inspectionutil',\n 'otherAnnotations_intention',\n 'otherAnnotations_internal',\n 'otherAnnotations_javalang',\n 'otherAnnotations_javalangannotation',\n 'otherAnnotations_key',\n 'otherAnnotations_label',\n 'otherAnnotations_language',\n 'otherAnnotations_link',\n 'otherAnnotations_list',\n 'otherAnnotations_lock',\n 'otherAnnotations_message',\n 'otherAnnotations_metadata',\n 'otherAnnotations_name',\n 'otherAnnotations_nls',\n 'otherAnnotations_non',\n 'otherAnnotations_not',\n 'otherAnnotations_notification',\n 'otherAnnotations_null',\n 'otherAnnotations_nullable',\n 'otherAnnotations_only',\n 'otherAnnotations_option',\n 'otherAnnotations_orgintellijlangannotations',\n 'otherAnnotations_orgjetbrainsannotations',\n 'otherAnnotations_orgjetbrainskotlinideatest',\n 'otherAnnotations_orgjetbrainskotlintest',\n 'otherAnnotations_orgjetbrainspluginsgradletoolingannotation',\n 'otherAnnotations_orgjunitrunner',\n 'otherAnnotations_override',\n 'otherAnnotations_path',\n 'otherAnnotations_pattern',\n 'otherAnnotations_popup',\n 'otherAnnotations_property',\n 'otherAnnotations_read',\n 'otherAnnotations_removal',\n 'otherAnnotations_requires',\n 'otherAnnotations_retention',\n 'otherAnnotations_root',\n 'otherAnnotations_run',\n 'otherAnnotations_runs',\n 'otherAnnotations_safe',\n 'otherAnnotations_scheduled',\n 'otherAnnotations_status',\n 'otherAnnotations_sub',\n 'otherAnnotations_suppress',\n 'otherAnnotations_tag',\n 'otherAnnotations_target',\n 'otherAnnotations_test',\n 'otherAnnotations_testing',\n 'otherAnnotations_text',\n 'otherAnnotations_title',\n 'otherAnnotations_tooltip',\n 'otherAnnotations_versions',\n 'otherAnnotations_visible',\n 'otherAnnotations_warnings',\n 'otherAnnotations_with',\n 'otherMethodsNames_action',\n 'otherMethodsNames_add',\n 'otherMethodsNames_all',\n 'otherMethodsNames_and',\n 'otherMethodsNames_annotation',\n 'otherMethodsNames_array',\n 'otherMethodsNames_build',\n 'otherMethodsNames_by',\n 'otherMethodsNames_call',\n 'otherMethodsNames_change',\n 'otherMethodsNames_check',\n 'otherMethodsNames_class',\n 'otherMethodsNames_code',\n 'otherMethodsNames_component',\n 'otherMethodsNames_constructor',\n 'otherMethodsNames_content',\n 'otherMethodsNames_context',\n 'otherMethodsNames_create',\n 'otherMethodsNames_data',\n 'otherMethodsNames_default',\n 'otherMethodsNames_delete',\n 'otherMethodsNames_dialog',\n 'otherMethodsNames_do',\n 'otherMethodsNames_editor',\n 'otherMethodsNames_element',\n 'otherMethodsNames_empty',\n 'otherMethodsNames_expression',\n 'otherMethodsNames_field',\n 'otherMethodsNames_file',\n 'otherMethodsNames_files',\n 'otherMethodsNames_find',\n 'otherMethodsNames_fix',\n 'otherMethodsNames_for',\n 'otherMethodsNames_from',\n 'otherMethodsNames_function',\n 'otherMethodsNames_get',\n 'otherMethodsNames_getter',\n 'otherMethodsNames_has',\n 'otherMethodsNames_icon',\n 'otherMethodsNames_id',\n 'otherMethodsNames_if',\n 'otherMethodsNames_impl',\n 'otherMethodsNames_import',\n 'otherMethodsNames_in',\n 'otherMethodsNames_info',\n 'otherMethodsNames_is',\n 'otherMethodsNames_java',\n 'otherMethodsNames_kotlin',\n 'otherMethodsNames_lambda',\n 'otherMethodsNames_line',\n 'otherMethodsNames_list',\n 'otherMethodsNames_listener',\n 'otherMethodsNames_load',\n 'otherMethodsNames_local',\n 'otherMethodsNames_map',\n 'otherMethodsNames_method',\n 'otherMethodsNames_module',\n 'otherMethodsNames_move',\n 'otherMethodsNames_name',\n 'otherMethodsNames_new',\n 'otherMethodsNames_no',\n 'otherMethodsNames_node',\n 'otherMethodsNames_not',\n 'otherMethodsNames_object',\n 'otherMethodsNames_of',\n 'otherMethodsNames_on',\n 'otherMethodsNames_or',\n 'otherMethodsNames_parameter',\n 'otherMethodsNames_parameters',\n 'otherMethodsNames_path',\n 'otherMethodsNames_process',\n 'otherMethodsNames_project',\n 'otherMethodsNames_property',\n 'otherMethodsNames_ref',\n 'otherMethodsNames_reference',\n 'otherMethodsNames_register',\n 'otherMethodsNames_remove',\n 'otherMethodsNames_rename',\n 'otherMethodsNames_return',\n 'otherMethodsNames_run',\n 'otherMethodsNames_scope',\n 'otherMethodsNames_select',\n 'otherMethodsNames_selection',\n 'otherMethodsNames_set',\n 'otherMethodsNames_setter',\n 'otherMethodsNames_show',\n 'otherMethodsNames_state',\n 'otherMethodsNames_statement',\n 'otherMethodsNames_string',\n 'otherMethodsNames_super',\n 'otherMethodsNames_test',\n 'otherMethodsNames_text',\n 'otherMethodsNames_to',\n 'otherMethodsNames_type',\n 'otherMethodsNames_update',\n 'otherMethodsNames_value',\n 'otherMethodsNames_variable',\n 'otherMethodsNames_visit',\n 'otherMethodsNames_with',\n 'otherMethodsNames_write',\n 'otherMethodsAnnotations_action',\n 'otherMethodsAnnotations_actions',\n 'otherMethodsAnnotations_after',\n 'otherMethodsAnnotations_android',\n 'otherMethodsAnnotations_any',\n 'otherMethodsAnnotations_api',\n 'otherMethodsAnnotations_attribute',\n 'otherMethodsAnnotations_attributes',\n 'otherMethodsAnnotations_background',\n 'otherMethodsAnnotations_before',\n 'otherMethodsAnnotations_called',\n 'otherMethodsAnnotations_cancel',\n 'otherMethodsAnnotations_comandroidannotations',\n 'otherMethodsAnnotations_comandroidannotationsconcurrency',\n 'otherMethodsAnnotations_comandroidtoolsadtuicommon',\n 'otherMethodsAnnotations_comandroidtoolsideacommonmodel',\n 'otherMethodsAnnotations_comandroidtoolsideacommonsurface',\n 'otherMethodsAnnotations_comgooglecommonannotations',\n 'otherMethodsAnnotations_comintellijcode',\n 'otherMethodsAnnotations_comintellijopenapiui',\n 'otherMethodsAnnotations_comintellijopenapiutil',\n 'otherMethodsAnnotations_comintellijopenapivfsnewvfspersistent',\n 'otherMethodsAnnotations_comintellijpsi',\n 'otherMethodsAnnotations_comintellijui',\n 'otherMethodsAnnotations_comintellijutilconcurrencyannotations',\n 'otherMethodsAnnotations_comintellijutilxml',\n 'otherMethodsAnnotations_comintellijutilxmlbannotations',\n 'otherMethodsAnnotations_constant',\n 'otherMethodsAnnotations_contexts',\n 'otherMethodsAnnotations_contract',\n 'otherMethodsAnnotations_convert',\n 'otherMethodsAnnotations_coordinate',\n 'otherMethodsAnnotations_deprecated',\n 'otherMethodsAnnotations_description',\n 'otherMethodsAnnotations_detailed',\n 'otherMethodsAnnotations_dialog',\n 'otherMethodsAnnotations_dirty',\n 'otherMethodsAnnotations_dp',\n 'otherMethodsAnnotations_edt',\n 'otherMethodsAnnotations_exp',\n 'otherMethodsAnnotations_experimental',\n 'otherMethodsAnnotations_for',\n 'otherMethodsAnnotations_fs',\n 'otherMethodsAnnotations_in',\n 'otherMethodsAnnotations_inspectionutil',\n 'otherMethodsAnnotations_internal',\n 'otherMethodsAnnotations_javalang',\n 'otherMethodsAnnotations_label',\n 'otherMethodsAnnotations_language',\n 'otherMethodsAnnotations_list',\n 'otherMethodsAnnotations_lock',\n 'otherMethodsAnnotations_message',\n 'otherMethodsAnnotations_messages',\n 'otherMethodsAnnotations_metadata',\n 'otherMethodsAnnotations_modifier',\n 'otherMethodsAnnotations_name',\n 'otherMethodsAnnotations_nls',\n 'otherMethodsAnnotations_no',\n 'otherMethodsAnnotations_non',\n 'otherMethodsAnnotations_not',\n 'otherMethodsAnnotations_null',\n 'otherMethodsAnnotations_nullable',\n 'otherMethodsAnnotations_ok',\n 'otherMethodsAnnotations_only',\n 'otherMethodsAnnotations_orgapachethriftannotation',\n 'otherMethodsAnnotations_orgintellijlangannotations',\n 'otherMethodsAnnotations_orgjetbrainsannotations',\n 'otherMethodsAnnotations_orgjetbrainskotlintest',\n 'otherMethodsAnnotations_orgjunit',\n 'otherMethodsAnnotations_override',\n 'otherMethodsAnnotations_persistent',\n 'otherMethodsAnnotations_psi',\n 'otherMethodsAnnotations_read',\n 'otherMethodsAnnotations_reg',\n 'otherMethodsAnnotations_removal',\n 'otherMethodsAnnotations_requires',\n 'otherMethodsAnnotations_result',\n 'otherMethodsAnnotations_safe',\n 'otherMethodsAnnotations_scale',\n 'otherMethodsAnnotations_scheduled',\n 'otherMethodsAnnotations_slow',\n 'otherMethodsAnnotations_status',\n 'otherMethodsAnnotations_stubbed',\n 'otherMethodsAnnotations_sub',\n 'otherMethodsAnnotations_suppress',\n 'otherMethodsAnnotations_surface',\n 'otherMethodsAnnotations_swing',\n 'otherMethodsAnnotations_tag',\n 'otherMethodsAnnotations_test',\n 'otherMethodsAnnotations_testing',\n 'otherMethodsAnnotations_text',\n 'otherMethodsAnnotations_thread',\n 'otherMethodsAnnotations_title',\n 'otherMethodsAnnotations_tooltip',\n 'otherMethodsAnnotations_transient',\n 'otherMethodsAnnotations_ui',\n 'otherMethodsAnnotations_varargs',\n 'otherMethodsAnnotations_visible',\n 'otherMethodsAnnotations_warnings',\n 'otherMethodsAnnotations_yes',\n 'returnsNull',\n 'checksNull',\n 'fileName_abstract',\n 'fileName_action',\n 'fileName_android',\n 'fileName_base',\n 'fileName_build',\n 'fileName_builder',\n 'fileName_by',\n 'fileName_change',\n 'fileName_class',\n 'fileName_code',\n 'fileName_compiler',\n 'fileName_completion',\n 'fileName_component',\n 'fileName_configurable',\n 'fileName_configuration',\n 'fileName_context',\n 'fileName_data',\n 'fileName_debugger',\n 'fileName_dependency',\n 'fileName_device',\n 'fileName_dialog',\n 'fileName_diff',\n 'fileName_dom',\n 'fileName_editor',\n 'fileName_element',\n 'fileName_event',\n 'fileName_expression',\n 'fileName_factory',\n 'fileName_file',\n 'fileName_fix',\n 'fileName_from',\n 'fileName_generated',\n 'fileName_generator',\n 'fileName_git',\n 'fileName_gr',\n 'fileName_gradle',\n 'fileName_groovy',\n 'fileName_handler',\n 'fileName_helper',\n 'fileName_impl',\n 'fileName_import',\n 'fileName_in',\n 'fileName_index',\n 'fileName_info',\n 'fileName_inspection',\n 'fileName_intention',\n 'fileName_java',\n 'fileName_jvm',\n 'fileName_kotlin',\n 'fileName_light',\n 'fileName_line',\n 'fileName_list',\n 'fileName_local',\n 'fileName_log',\n 'fileName_manager',\n 'fileName_maven',\n 'fileName_method',\n 'fileName_model',\n 'fileName_module',\n 'fileName_node',\n 'fileName_panel',\n 'fileName_parameter',\n 'fileName_popup',\n 'fileName_processor',\n 'fileName_project',\n 'fileName_property',\n 'fileName_provider',\n 'fileName_psi',\n 'fileName_py',\n 'fileName_quick',\n 'fileName_reference',\n 'fileName_repository',\n 'fileName_resolve',\n 'fileName_resource',\n 'fileName_run',\n 'fileName_search',\n 'fileName_service',\n 'fileName_settings',\n 'fileName_string',\n 'fileName_stub',\n 'fileName_style',\n 'fileName_system',\n 'fileName_task',\n 'fileName_template',\n 'fileName_test',\n 'fileName_text',\n 'fileName_to',\n 'fileName_tree',\n 'fileName_type',\n 'fileName_ui',\n 'fileName_util',\n 'fileName_utils',\n 'fileName_value',\n 'fileName_vcs',\n 'fileName_view',\n 'fileName_viewer',\n 'fileName_virtual',\n 'fileName_visitor',\n 'fileName_with',\n 'fileName_xml',\n 'otherParamsNames_build',\n 'otherParamsNames_builder',\n 'otherParamsNames_callback',\n 'otherParamsNames_check',\n 'otherParamsNames_children',\n 'otherParamsNames_class',\n 'otherParamsNames_component',\n 'otherParamsNames_configuration',\n 'otherParamsNames_content',\n 'otherParamsNames_context',\n 'otherParamsNames_count',\n 'otherParamsNames_data',\n 'otherParamsNames_default',\n 'otherParamsNames_descriptor',\n 'otherParamsNames_document',\n 'otherParamsNames_editor',\n 'otherParamsNames_element',\n 'otherParamsNames_elements',\n 'otherParamsNames_end',\n 'otherParamsNames_event',\n 'otherParamsNames_expression',\n 'otherParamsNames_extension',\n 'otherParamsNames_facet',\n 'otherParamsNames_field',\n 'otherParamsNames_file',\n 'otherParamsNames_files',\n 'otherParamsNames_filter',\n 'otherParamsNames_focus',\n 'otherParamsNames_group',\n 'otherParamsNames_handler',\n 'otherParamsNames_has',\n 'otherParamsNames_holder',\n 'otherParamsNames_host',\n 'otherParamsNames_icon',\n 'otherParamsNames_id',\n 'otherParamsNames_in',\n 'otherParamsNames_index',\n 'otherParamsNames_indicator',\n 'otherParamsNames_info',\n 'otherParamsNames_infos',\n 'otherParamsNames_is',\n 'otherParamsNames_key',\n 'otherParamsNames_language',\n 'otherParamsNames_library',\n 'otherParamsNames_line',\n 'otherParamsNames_lines',\n 'otherParamsNames_list',\n 'otherParamsNames_listener',\n 'otherParamsNames_manager',\n 'otherParamsNames_map',\n 'otherParamsNames_message',\n 'otherParamsNames_method',\n 'otherParamsNames_model',\n 'otherParamsNames_module',\n 'otherParamsNames_name',\n 'otherParamsNames_new',\n 'otherParamsNames_node',\n 'otherParamsNames_offset',\n 'otherParamsNames_old',\n 'otherParamsNames_on',\n 'otherParamsNames_option',\n 'otherParamsNames_output',\n 'otherParamsNames_parameters',\n 'otherParamsNames_parent',\n 'otherParamsNames_path',\n 'otherParamsNames_place',\n 'otherParamsNames_prefix',\n 'otherParamsNames_presentation',\n 'otherParamsNames_process',\n 'otherParamsNames_processor',\n 'otherParamsNames_progress',\n 'otherParamsNames_project',\n 'otherParamsNames_property',\n 'otherParamsNames_provider',\n 'otherParamsNames_psi',\n 'otherParamsNames_range',\n 'otherParamsNames_ref',\n 'otherParamsNames_revision',\n 'otherParamsNames_root',\n 'otherParamsNames_row',\n 'otherParamsNames_scope',\n 'otherParamsNames_selected',\n 'otherParamsNames_selection',\n 'otherParamsNames_settings',\n 'otherParamsNames_show',\n 'otherParamsNames_size',\n 'otherParamsNames_source',\n 'otherParamsNames_start',\n 'otherParamsNames_state',\n 'otherParamsNames_statement',\n 'otherParamsNames_target',\n 'otherParamsNames_test',\n 'otherParamsNames_text',\n 'otherParamsNames_title',\n 'otherParamsNames_to',\n 'otherParamsNames_tree',\n 'otherParamsNames_type',\n 'otherParamsNames_url',\n 'otherParamsNames_value',\n 'otherParamsNames_with',\n 'otherParamsAnnotations_action',\n 'otherParamsAnnotations_actions',\n 'otherParamsAnnotations_android',\n 'otherParamsAnnotations_build',\n 'otherParamsAnnotations_button',\n 'otherParamsAnnotations_comandroidannotations',\n 'otherParamsAnnotations_comandroidtoolsadtuicommon',\n 'otherParamsAnnotations_comandroidtoolsideacommonmodel',\n 'otherParamsAnnotations_comintellijbuildevents',\n 'otherParamsAnnotations_comintellijcode',\n 'otherParamsAnnotations_comintellijopenapiutil',\n 'otherParamsAnnotations_comintellijpsi',\n 'otherParamsAnnotations_comintellijtest',\n 'otherParamsAnnotations_command',\n 'otherParamsAnnotations_constant',\n 'otherParamsAnnotations_constants',\n 'otherParamsAnnotations_content',\n 'otherParamsAnnotations_contexts',\n 'otherParamsAnnotations_coordinate',\n 'otherParamsAnnotations_data',\n 'otherParamsAnnotations_description',\n 'otherParamsAnnotations_detailed',\n 'otherParamsAnnotations_dialog',\n 'otherParamsAnnotations_dp',\n 'otherParamsAnnotations_event',\n 'otherParamsAnnotations_events',\n 'otherParamsAnnotations_exp',\n 'otherParamsAnnotations_file',\n 'otherParamsAnnotations_flags',\n 'otherParamsAnnotations_font',\n 'otherParamsAnnotations_framework',\n 'otherParamsAnnotations_gr',\n 'otherParamsAnnotations_hide',\n 'otherParamsAnnotations_hint',\n 'otherParamsAnnotations_icon',\n 'otherParamsAnnotations_iconable',\n 'otherParamsAnnotations_input',\n 'otherParamsAnnotations_insighthint',\n 'otherParamsAnnotations_jdk',\n 'otherParamsAnnotations_key',\n 'otherParamsAnnotations_label',\n 'otherParamsAnnotations_language',\n 'otherParamsAnnotations_link',\n 'otherParamsAnnotations_magic',\n 'otherParamsAnnotations_manager',\n 'otherParamsAnnotations_mask',\n 'otherParamsAnnotations_message',\n 'otherParamsAnnotations_modifier',\n 'otherParamsAnnotations_nls',\n 'otherParamsAnnotations_non',\n 'otherParamsAnnotations_not',\n 'otherParamsAnnotations_notification',\n 'otherParamsAnnotations_null',\n 'otherParamsAnnotations_nullable',\n 'otherParamsAnnotations_orgintellijlangannotations',\n 'otherParamsAnnotations_orgjetbrainsannotations',\n 'otherParamsAnnotations_orgjetbrainspluginsgroovylangpsiapiauxiliarymodifiers',\n 'otherParamsAnnotations_popup',\n 'otherParamsAnnotations_position',\n 'otherParamsAnnotations_progress',\n 'otherParamsAnnotations_property',\n 'otherParamsAnnotations_psi',\n 'otherParamsAnnotations_reg',\n 'otherParamsAnnotations_safe',\n 'otherParamsAnnotations_style',\n 'otherParamsAnnotations_swing',\n 'otherParamsAnnotations_system',\n 'otherParamsAnnotations_test',\n 'otherParamsAnnotations_text',\n 'otherParamsAnnotations_title',\n 'otherParamsAnnotations_tooltip',\n 'target_annotation',\n 'target_constructor',\n 'target_field',\n 'target_local',\n 'target_method',\n 'target_package',\n 'target_parameter',\n 'target_type',\n 'target_use',\n 'target_variable']"
     },
     "execution_count": 6,
     "metadata": {},
     "output_type": "execute_result"
    }
   ],
   "source": [
    "X, y, feature_names = usage_loader.load(size=3000, state=random.randint(1, 10000), train_fraction=0.8)\n",
    "feature_names"
   ],
   "metadata": {
    "collapsed": false,
    "pycharm": {
     "name": "#%%\n"
    }
   }
  },
  {
   "cell_type": "code",
   "execution_count": null,
   "outputs": [],
   "source": [
    "X, y, feature_names = usage_loader.load(size=100000, state=123, train_fraction=0.8)\n",
    "X_train, X_test, y_train, y_test = train_test_split(X, y, train_size=0.8, shuffle=False)\n",
    "calculate_and_print(X_train, X_test, y_train, y_test, Baseline())\n",
    "calculate_and_print(X_train, X_test, y_train, y_test, CatBoost(task_type='GPU', verbose=True))"
   ],
   "metadata": {
    "collapsed": false,
    "pycharm": {
     "name": "#%%\n",
     "is_executing": true
    }
   }
  },
  {
   "cell_type": "code",
   "execution_count": null,
   "outputs": [],
   "source": [],
   "metadata": {
    "collapsed": false,
    "pycharm": {
     "name": "#%%\n"
    }
   }
  }
 ],
 "metadata": {
  "kernelspec": {
   "display_name": "Python 3",
   "language": "python",
   "name": "python3"
  },
  "language_info": {
   "codemirror_mode": {
    "name": "ipython",
    "version": 2
   },
   "file_extension": ".py",
   "mimetype": "text/x-python",
   "name": "python",
   "nbconvert_exporter": "python",
   "pygments_lexer": "ipython2",
   "version": "2.7.6"
  }
 },
 "nbformat": 4,
 "nbformat_minor": 0
}