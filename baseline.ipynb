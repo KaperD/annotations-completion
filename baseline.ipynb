{
 "cells": [
  {
   "cell_type": "code",
   "execution_count": 1,
   "outputs": [],
   "source": [
    "from sklearn.model_selection import train_test_split\n",
    "from metric.calculate import calculate, calculate_and_print\n",
    "import pickle\n",
    "from sklearn.linear_model import LogisticRegression\n",
    "from models.linear import SVM, LinearSVM, LogisticReg\n",
    "from models.tree import CatBoost, RandomForest, GradientBoosting\n",
    "from models.baseline import Baseline\n",
    "from models.binary.tree import CatBoostBinary, RandomForestBinary, GradientBoostingBinary\n",
    "import matplotlib.pyplot as plt\n",
    "from collections import Counter\n",
    "import warnings\n",
    "from utils.usage_loader import initial_feature_names\n",
    "from utils.encoder import encode_column\n",
    "from sklearn.utils import shuffle\n",
    "import numpy as np"
   ],
   "metadata": {
    "collapsed": false,
    "pycharm": {
     "name": "#%%\n"
    }
   }
  },
  {
   "cell_type": "code",
   "execution_count": 2,
   "outputs": [],
   "source": [
    "with open('data/usage_loader.pickle', 'rb') as f:\n",
    "    usage_loader = pickle.load(f)"
   ],
   "metadata": {
    "collapsed": false,
    "pycharm": {
     "name": "#%%\n"
    }
   }
  },
  {
   "cell_type": "code",
   "execution_count": 3,
   "outputs": [],
   "source": [
    "X, y, names = usage_loader.load(size=1000, state=123)"
   ],
   "metadata": {
    "collapsed": false,
    "pycharm": {
     "name": "#%%\n"
    }
   }
  },
  {
   "cell_type": "code",
   "execution_count": 4,
   "outputs": [],
   "source": [
    "X_train, X_test, y_train, y_test = train_test_split(X, y, train_size=0.8, shuffle=False)"
   ],
   "metadata": {
    "collapsed": false,
    "pycharm": {
     "name": "#%%\n"
    }
   }
  },
  {
   "cell_type": "code",
   "execution_count": 5,
   "outputs": [
    {
     "name": "stdout",
     "output_type": "stream",
     "text": [
      "Baseline\n",
      "Count: 200\n",
      "Top 1: 0.465\n",
      "Top 2: 0.74\n",
      "Top 3: 0.865\n",
      "Top 4: 0.895\n",
      "Top 5: 0.91\n",
      "Top1 1: 0.745\n",
      "Mean: 2.91\n",
      "CatBoost binary\n",
      "Count: 200\n",
      "Top 1: 0.78\n",
      "Top 2: 0.89\n",
      "Top 3: 0.925\n",
      "Top 4: 0.93\n",
      "Top 5: 0.93\n",
      "Top1 1: 0.81\n",
      "Mean: 2.19\n",
      "CatBoost\n",
      "Count: 200\n",
      "Top 1: 0.78\n",
      "Top 2: 0.9\n",
      "Top 3: 0.95\n",
      "Top 4: 0.95\n",
      "Top 5: 0.96\n",
      "Top1 1: 0.82\n",
      "Mean: 1.95\n",
      "Random forest binary\n",
      "Count: 200\n",
      "Top 1: 0.76\n",
      "Top 2: 0.89\n",
      "Top 3: 0.955\n",
      "Top 4: 0.955\n",
      "Top 5: 0.97\n",
      "Top1 1: 0.815\n",
      "Mean: 1.91\n",
      "Random forest\n",
      "Count: 200\n",
      "Top 1: 0.76\n",
      "Top 2: 0.89\n",
      "Top 3: 0.955\n",
      "Top 4: 0.97\n",
      "Top 5: 0.975\n",
      "Top1 1: 0.815\n",
      "Mean: 1.885\n"
     ]
    }
   ],
   "source": [
    "calculate_and_print(X_train, X_test, y_train, y_test, Baseline())\n",
    "calculate_and_print(X_train, X_test, y_train, y_test, CatBoostBinary())\n",
    "calculate_and_print(X_train, X_test, y_train, y_test, CatBoost())\n",
    "calculate_and_print(X_train, X_test, y_train, y_test, RandomForestBinary())\n",
    "calculate_and_print(X_train, X_test, y_train, y_test, RandomForest())"
   ],
   "metadata": {
    "collapsed": false,
    "pycharm": {
     "name": "#%%\n"
    }
   }
  },
  {
   "cell_type": "code",
   "execution_count": 5,
   "outputs": [],
   "source": [],
   "metadata": {
    "collapsed": false,
    "pycharm": {
     "name": "#%%\n"
    }
   }
  }
 ],
 "metadata": {
  "kernelspec": {
   "display_name": "Python 3",
   "language": "python",
   "name": "python3"
  },
  "language_info": {
   "codemirror_mode": {
    "name": "ipython",
    "version": 2
   },
   "file_extension": ".py",
   "mimetype": "text/x-python",
   "name": "python",
   "nbconvert_exporter": "python",
   "pygments_lexer": "ipython2",
   "version": "2.7.6"
  }
 },
 "nbformat": 4,
 "nbformat_minor": 0
}