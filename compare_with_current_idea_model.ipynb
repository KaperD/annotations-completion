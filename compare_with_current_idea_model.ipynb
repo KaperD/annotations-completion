{
 "cells": [
  {
   "cell_type": "code",
   "execution_count": 1,
   "metadata": {
    "collapsed": true,
    "pycharm": {
     "name": "#%%\n"
    }
   },
   "outputs": [],
   "source": [
    "from sklearn.model_selection import train_test_split\n",
    "from metric.calculate import calculate\n",
    "import pickle\n",
    "from models.linear import SVM, LinearSVM, LogisticReg\n",
    "from models.tree import CatBoost, RandomForest, GradientBoosting\n",
    "from models.baseline import Baseline\n",
    "import matplotlib.pyplot as plt\n",
    "from collections import Counter\n",
    "import warnings\n",
    "from utils.usage_loader import initial_feature_names\n",
    "from utils.encoder import encode_column\n",
    "from sklearn.utils import shuffle\n",
    "import numpy as np"
   ]
  },
  {
   "cell_type": "code",
   "execution_count": 2,
   "outputs": [],
   "source": [
    "with open('data/usage_loader.pickle', 'rb') as f:\n",
    "    usage_loader = pickle.load(f)"
   ],
   "metadata": {
    "collapsed": false,
    "pycharm": {
     "name": "#%%\n"
    }
   }
  },
  {
   "cell_type": "code",
   "execution_count": 3,
   "outputs": [],
   "source": [
    "usages = list(filter(lambda x: 'java.lang.Override' not in x.annotation_name, usage_loader.load_all()))\n",
    "train_usages = []\n",
    "test_usages = []\n",
    "for usage in usages:\n",
    "    if 'java/idea-ui' in usage.file_path:\n",
    "        test_usages.append(usage)\n",
    "    else:\n",
    "        train_usages.append(usage)\n",
    "train_usages = shuffle(train_usages, random_state=123)[:10000]\n",
    "usages = train_usages + test_usages\n",
    "raw_X = np.array([np.array(usage.features_list, dtype=object) for usage in usages])\n",
    "X = None\n",
    "all_new_names = []\n",
    "if len(raw_X) == 0:\n",
    "    X = np.array([])\n",
    "    all_new_names = initial_feature_names\n",
    "else:\n",
    "    for col in range(raw_X.shape[1]):\n",
    "        new_columns, new_names = encode_column(raw_X[:, col], len(train_usages),\n",
    "                                               initial_feature_names[col], 100)\n",
    "        if new_columns is None:\n",
    "            continue\n",
    "        all_new_names += new_names\n",
    "        if X is None:\n",
    "            X = new_columns\n",
    "        else:\n",
    "            X = np.concatenate((X, new_columns), axis=1)\n",
    "# if need_polynomial and len(X) > 0:\n",
    "#     sel = VarianceThreshold(threshold=0.01)\n",
    "#     print(len(X[0]))\n",
    "#     X = sel.fit_transform(X)\n",
    "#     print(len(X[0]))\n",
    "#     poly = PolynomialFeatures(degree=2, interaction_only=True, include_bias=False)\n",
    "#     X = poly.fit_transform(X)\n",
    "#     print(len(X[0]))\n",
    "#     sel = VarianceThreshold(threshold=0.01)\n",
    "#     X = sel.fit_transform(X)\n",
    "#     print(len(X[0]))\n",
    "y = np.array([usage.annotation_name for usage in usages])"
   ],
   "metadata": {
    "collapsed": false,
    "pycharm": {
     "name": "#%%\n"
    }
   }
  },
  {
   "cell_type": "code",
   "execution_count": 4,
   "outputs": [
    {
     "data": {
      "text/plain": "13238"
     },
     "execution_count": 4,
     "metadata": {},
     "output_type": "execute_result"
    }
   ],
   "source": [
    "len(X)"
   ],
   "metadata": {
    "collapsed": false,
    "pycharm": {
     "name": "#%%\n"
    }
   }
  },
  {
   "cell_type": "code",
   "execution_count": 5,
   "outputs": [
    {
     "data": {
      "text/plain": "13238"
     },
     "execution_count": 5,
     "metadata": {},
     "output_type": "execute_result"
    }
   ],
   "source": [
    "len(y)"
   ],
   "metadata": {
    "collapsed": false,
    "pycharm": {
     "name": "#%%\n"
    }
   }
  },
  {
   "cell_type": "code",
   "execution_count": 6,
   "outputs": [
    {
     "data": {
      "text/plain": "3238"
     },
     "execution_count": 6,
     "metadata": {},
     "output_type": "execute_result"
    }
   ],
   "source": [
    "len(test_usages)"
   ],
   "metadata": {
    "collapsed": false,
    "pycharm": {
     "name": "#%%\n"
    }
   }
  },
  {
   "cell_type": "code",
   "execution_count": 7,
   "outputs": [],
   "source": [
    "from metric.calculate import calculate_and_print"
   ],
   "metadata": {
    "collapsed": false,
    "pycharm": {
     "name": "#%%\n"
    }
   }
  },
  {
   "cell_type": "code",
   "execution_count": 8,
   "outputs": [],
   "source": [
    "X_train = X[:10000]\n",
    "y_train = y[:10000]\n",
    "X_test = X[10000:]\n",
    "y_test = y[10000:]"
   ],
   "metadata": {
    "collapsed": false,
    "pycharm": {
     "name": "#%%\n"
    }
   }
  },
  {
   "cell_type": "code",
   "execution_count": 10,
   "outputs": [
    {
     "name": "stdout",
     "output_type": "stream",
     "text": [
      "Count: 3238\n",
      "Top 1: 0.6553428042001236\n",
      "Top 2: 0.8638048177887585\n",
      "Top 3: 0.8638048177887585\n",
      "Top 4: 0.8866584311303274\n",
      "Top 5: 0.8885114268066708\n",
      "Top1 1: 0.6738727609635577\n",
      "Mean: 3.816244595429277\n",
      "Count: 3238\n",
      "Top 1: 0.7161828289067326\n",
      "Top 2: 0.9104385423100679\n",
      "Top 3: 0.9298949969116739\n",
      "Top 4: 0.9478072884496603\n",
      "Top 5: 0.9567634342186535\n",
      "Top1 1: 0.7402717726991971\n",
      "Mean: 2.547869054972205\n"
     ]
    }
   ],
   "source": [
    "calculate_and_print(X_train, X_test, y_train, y_test, Baseline())\n",
    "calculate_and_print(X_train, X_test, y_train, y_test, CatBoost())"
   ],
   "metadata": {
    "collapsed": false,
    "pycharm": {
     "name": "#%%\n"
    }
   }
  },
  {
   "cell_type": "code",
   "execution_count": 9,
   "outputs": [],
   "source": [],
   "metadata": {
    "collapsed": false,
    "pycharm": {
     "name": "#%%\n"
    }
   }
  }
 ],
 "metadata": {
  "kernelspec": {
   "display_name": "Python 3",
   "language": "python",
   "name": "python3"
  },
  "language_info": {
   "codemirror_mode": {
    "name": "ipython",
    "version": 2
   },
   "file_extension": ".py",
   "mimetype": "text/x-python",
   "name": "python",
   "nbconvert_exporter": "python",
   "pygments_lexer": "ipython2",
   "version": "2.7.6"
  }
 },
 "nbformat": 4,
 "nbformat_minor": 0
}